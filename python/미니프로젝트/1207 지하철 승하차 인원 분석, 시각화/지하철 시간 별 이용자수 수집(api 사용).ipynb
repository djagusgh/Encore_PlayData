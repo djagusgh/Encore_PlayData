{
 "cells": [
  {
   "cell_type": "code",
   "execution_count": 7,
   "metadata": {},
   "outputs": [],
   "source": [
    "import urllib\n",
    "from urllib.request import urlopen\n",
    "from urllib.parse import quote\n",
    "import json\n",
    "import pandas as pd\n",
    "import numpy as np\n"
   ]
  },
  {
   "cell_type": "markdown",
   "metadata": {},
   "source": [
    "# API 이용한 데이터 수집 과정!"
   ]
  },
  {
   "cell_type": "code",
   "execution_count": 8,
   "metadata": {},
   "outputs": [],
   "source": [
    "\n",
    "months = []\n",
    "lines = ['공항철도 1호선', '장항선', '일산선', '과천선', '중앙선', '안산선',\n",
    "         '수인선', '분당선', '경의선', '경부선', '경춘선', '경인선', '경원선', '9호선2단계', '경강선', '우이신설선']\n",
    "\n",
    "i=\"201501\"\n",
    "months.append(i)\n"
   ]
  },
  {
   "cell_type": "code",
   "execution_count": 9,
   "metadata": {},
   "outputs": [],
   "source": [
    "\n",
    "while int(i) < 201810:\n",
    "    if i[4:] == \"12\":\n",
    "        i = str(int(i) + 89)\n",
    "        months.append(i)\n",
    "    else:\n",
    "        i = str(int(i) + 1)\n",
    "        months.append(i)\n",
    "\n",
    "#라인별\n",
    "for j in range(9):\n",
    "    lines.append(str(j+1) + \"호선\")\n"
   ]
  },
  {
   "cell_type": "code",
   "execution_count": 10,
   "metadata": {
    "scrolled": true
   },
   "outputs": [
    {
     "name": "stdout",
     "output_type": "stream",
     "text": [
      "key가 존재하지 않습니다.\n",
      "key가 존재하지 않습니다.\n",
      "key가 존재하지 않습니다.\n",
      "key가 존재하지 않습니다.\n",
      "key가 존재하지 않습니다.\n",
      "key가 존재하지 않습니다.\n",
      "key가 존재하지 않습니다.\n",
      "key가 존재하지 않습니다.\n",
      "key가 존재하지 않습니다.\n",
      "key가 존재하지 않습니다.\n",
      "key가 존재하지 않습니다.\n",
      "key가 존재하지 않습니다.\n",
      "key가 존재하지 않습니다.\n",
      "key가 존재하지 않습니다.\n",
      "key가 존재하지 않습니다.\n",
      "key가 존재하지 않습니다.\n",
      "key가 존재하지 않습니다.\n",
      "key가 존재하지 않습니다.\n",
      "key가 존재하지 않습니다.\n",
      "key가 존재하지 않습니다.\n",
      "key가 존재하지 않습니다.\n",
      "key가 존재하지 않습니다.\n",
      "key가 존재하지 않습니다.\n",
      "key가 존재하지 않습니다.\n",
      "key가 존재하지 않습니다.\n",
      "key가 존재하지 않습니다.\n",
      "key가 존재하지 않습니다.\n",
      "key가 존재하지 않습니다.\n",
      "key가 존재하지 않습니다.\n",
      "key가 존재하지 않습니다.\n",
      "key가 존재하지 않습니다.\n",
      "key가 존재하지 않습니다.\n",
      "key가 존재하지 않습니다.\n",
      "key가 존재하지 않습니다.\n",
      "key가 존재하지 않습니다.\n",
      "key가 존재하지 않습니다.\n",
      "key가 존재하지 않습니다.\n",
      "key가 존재하지 않습니다.\n",
      "key가 존재하지 않습니다.\n",
      "key가 존재하지 않습니다.\n",
      "key가 존재하지 않습니다.\n",
      "key가 존재하지 않습니다.\n",
      "key가 존재하지 않습니다.\n",
      "key가 존재하지 않습니다.\n",
      "key가 존재하지 않습니다.\n",
      "key가 존재하지 않습니다.\n",
      "key가 존재하지 않습니다.\n",
      "key가 존재하지 않습니다.\n",
      "key가 존재하지 않습니다.\n",
      "key가 존재하지 않습니다.\n",
      "key가 존재하지 않습니다.\n",
      "key가 존재하지 않습니다.\n",
      "key가 존재하지 않습니다.\n",
      "key가 존재하지 않습니다.\n"
     ]
    }
   ],
   "source": [
    "\n",
    "subway_list=[]\n",
    "for i in range(len(months)):\n",
    "    #라인별 데이터\n",
    "    for j in range(len(lines)):\n",
    "        url = \"http://openapi.seoul.go.kr:8088/414d63706d70617236364878644b43/json/CardSubwayTime/1/100/\" + months[i] + \"/\" + quote(lines[j])\n",
    "        request = urllib.request.Request(url)\n",
    "        response = urllib.request.urlopen(request)\n",
    "        rescode = response.getcode()\n",
    "\n",
    "        if(rescode == 200):\n",
    "            response_body = response.read()\n",
    "            lists = response_body.decode('utf-8')\n",
    "            # json 문자열을 dictionary로 변환!\n",
    "            info_dict = json.loads(lists)\n",
    "            \n",
    "            # real_info : 진짜로 필요한 정보를 Series형태로 변환 (dictionary)\n",
    "            try:\n",
    "                for k in range(len(info_dict['CardSubwayTime']['row'])):\n",
    "                    real_info = pd.Series(info_dict['CardSubwayTime']['row'][k])\n",
    "                    subway_list.append(real_info)\n",
    "            except:\n",
    "                print(\"key가 존재하지 않습니다.\")\n",
    "                \n",
    "        else:\n",
    "            print(\"Error Code:\" + rescode)\n",
    "\n",
    "df = pd.DataFrame(subway_list)\n",
    "#df.to_csv(\"\n"
   ]
  },
  {
   "cell_type": "code",
   "execution_count": null,
   "metadata": {},
   "outputs": [],
   "source": []
  }
 ],
 "metadata": {
  "kernelspec": {
   "display_name": "Python 3",
   "language": "python",
   "name": "python3"
  },
  "language_info": {
   "codemirror_mode": {
    "name": "ipython",
    "version": 3
   },
   "file_extension": ".py",
   "mimetype": "text/x-python",
   "name": "python",
   "nbconvert_exporter": "python",
   "pygments_lexer": "ipython3",
   "version": "3.7.1"
  }
 },
 "nbformat": 4,
 "nbformat_minor": 2
}
