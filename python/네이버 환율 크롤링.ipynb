{
 "cells": [
  {
   "cell_type": "code",
   "execution_count": 10,
   "metadata": {},
   "outputs": [],
   "source": [
    "#Summary:\n",
    "#naver 환율 조회 페이지를 파싱해서 국가별 환율 정보를 조회한다.\n",
    "\n",
    "import sys\n",
    "import re\n",
    "from bs4 import BeautifulSoup\n",
    "\n",
    "import urllib\n",
    "from urllib.request import Request, urlopen\n",
    "from urllib.parse import quote\n",
    "    \n",
    "import requests as rs"
   ]
  },
  {
   "cell_type": "code",
   "execution_count": 11,
   "metadata": {},
   "outputs": [],
   "source": [
    "def getPage(url):\n",
    "    \"\"\"\n",
    "    url 정보의 내용을 조회한다.\n",
    "    \"\"\"\n",
    "    try:\n",
    "        req = Request(url)\n",
    "        res = urlopen(req)\n",
    "        content = res.read()\n",
    "    except:\n",
    "        content = \"\"  \n",
    "    return content"
   ]
  },
  {
   "cell_type": "code",
   "execution_count": 12,
   "metadata": {},
   "outputs": [],
   "source": [
    "def getExchangeOfNation(soup):\n",
    "    \"\"\"\n",
    "    국가별 환율 정보를 dictionary로 구축한다.\n",
    "    \"\"\"\n",
    "    dicExchange = {} # 국가별 환율정보를 저장하는 dictionary 변수\n",
    "    \n",
    "    alpha = '([A-Z]+)' # 국가 코드 분리 - 정규식 적용\n",
    "    \n",
    "    # 1, 2행의 tr은 테이블 헤더 정보이다.\n",
    "    # 2행 이후부터 테이블의 컬럼값을 조회한다.\n",
    "    for item in soup.table('tr')[2:]:\n",
    "        \n",
    "        # 정보 파싱\n",
    "        nation = item('td')[0].text.strip() # 국가정보 파싱\n",
    "        re_result = re.search(alpha, nation)\n",
    "        nation = re_result.groups()[0]\n",
    "        \n",
    "        basicRateOfExchange = item('td')[1].text # 매매기준환율\n",
    "        cash_buy = item('td')[2].text #  현찰 살때\n",
    "        cash_sell = item('td')[3].text # 현찰 팔때\n",
    "        transfer_send = item('td')[4].text # 송금 보낼 때\n",
    "        transfer_receive = item('td')[5].text # 송금 받을 때\n",
    "        \n",
    "        dicExchange[nation] = {'basicRate':basicRateOfExchange, 'cashBuy':cash_buy, \\\n",
    "                   'cashSell':cash_sell, 'transferSend':transfer_send, 'transferReceive':transfer_receive}\n",
    "    \n",
    "    return dicExchange        \n"
   ]
  },
  {
   "cell_type": "code",
   "execution_count": 13,
   "metadata": {},
   "outputs": [
    {
     "name": "stdout",
     "output_type": "stream",
     "text": [
      "{'USD': {'basicRate': '1,123.10', 'cashBuy': '1,142.75', 'cashSell': '1,103.45', 'transferSend': '1,134.10', 'transferReceive': '1,112.10'}, 'EUR': {'basicRate': '1,286.29', 'cashBuy': '1,311.88', 'cashSell': '1,260.70', 'transferSend': '1,299.15', 'transferReceive': '1,273.43'}, 'JPY': {'basicRate': '992.09', 'cashBuy': '1,009.45', 'cashSell': '974.73', 'transferSend': '1,001.81', 'transferReceive': '982.37'}, 'CNY': {'basicRate': '162.08', 'cashBuy': '170.18', 'cashSell': '153.98', 'transferSend': '163.70', 'transferReceive': '160.46'}, 'HKD': {'basicRate': '143.38', 'cashBuy': '146.20', 'cashSell': '140.56', 'transferSend': '144.81', 'transferReceive': '141.95'}, 'TWD': {'basicRate': '36.57', 'cashBuy': '41.36', 'cashSell': '34.02', 'transferSend': '0.00', 'transferReceive': '0.00'}, 'GBP': {'basicRate': '1,474.35', 'cashBuy': '1,503.39', 'cashSell': '1,445.31', 'transferSend': '1,489.09', 'transferReceive': '1,459.61'}, 'OMR': {'basicRate': '2,917.14', 'cashBuy': '3,176.76', 'cashSell': '2,742.12', 'transferSend': '0.00', 'transferReceive': '0.00'}, 'CAD': {'basicRate': '856.15', 'cashBuy': '873.01', 'cashSell': '839.29', 'transferSend': '864.71', 'transferReceive': '847.59'}, 'CHF': {'basicRate': '1,122.59', 'cashBuy': '1,144.70', 'cashSell': '1,100.48', 'transferSend': '1,133.81', 'transferReceive': '1,111.37'}, 'SEK': {'basicRate': '124.59', 'cashBuy': '127.64', 'cashSell': '121.54', 'transferSend': '125.83', 'transferReceive': '123.35'}, 'AUD': {'basicRate': '814.75', 'cashBuy': '830.80', 'cashSell': '798.70', 'transferSend': '822.89', 'transferReceive': '806.61'}, 'NZD': {'basicRate': '760.11', 'cashBuy': '775.08', 'cashSell': '745.14', 'transferSend': '767.71', 'transferReceive': '752.51'}, 'CZK': {'basicRate': '49.74', 'cashBuy': '53.96', 'cashSell': '45.27', 'transferSend': '50.28', 'transferReceive': '49.20'}, 'CLP': {'basicRate': '1.65', 'cashBuy': '1.78', 'cashSell': '1.52', 'transferSend': '0.00', 'transferReceive': '0.00'}, 'TRY': {'basicRate': '208.88', 'cashBuy': '240.42', 'cashSell': '188.41', 'transferSend': '211.17', 'transferReceive': '206.59'}, 'MNT': {'basicRate': '0.44', 'cashBuy': '0.00', 'cashSell': '0.00', 'transferSend': '0.00', 'transferReceive': '0.00'}, 'ILS': {'basicRate': '305.35', 'cashBuy': '335.88', 'cashSell': '280.93', 'transferSend': '0.00', 'transferReceive': '0.00'}, 'DKK': {'basicRate': '172.43', 'cashBuy': '176.65', 'cashSell': '168.21', 'transferSend': '174.15', 'transferReceive': '170.71'}, 'NOK': {'basicRate': '134.67', 'cashBuy': '137.96', 'cashSell': '131.38', 'transferSend': '136.01', 'transferReceive': '133.33'}, 'SAR': {'basicRate': '299.40', 'cashBuy': '318.26', 'cashSell': '278.75', 'transferSend': '302.39', 'transferReceive': '296.41'}, 'KWD': {'basicRate': '3,698.91', 'cashBuy': '3,939.33', 'cashSell': '3,403.00', 'transferSend': '3,735.89', 'transferReceive': '3,661.93'}, 'BHD': {'basicRate': '2,979.12', 'cashBuy': '3,169.78', 'cashSell': '2,740.80', 'transferSend': '3,008.91', 'transferReceive': '2,949.33'}, 'AED': {'basicRate': '305.77', 'cashBuy': '322.58', 'cashSell': '284.68', 'transferSend': '308.82', 'transferReceive': '302.72'}, 'JOD': {'basicRate': '1,581.94', 'cashBuy': '1,722.73', 'cashSell': '1,455.39', 'transferSend': '0.00', 'transferReceive': '0.00'}, 'EGP': {'basicRate': '62.71', 'cashBuy': '0.00', 'cashSell': '0.00', 'transferSend': '0.00', 'transferReceive': '0.00'}, 'THB': {'basicRate': '34.12', 'cashBuy': '35.82', 'cashSell': '32.08', 'transferSend': '34.46', 'transferReceive': '33.78'}, 'SGD': {'basicRate': '818.50', 'cashBuy': '834.78', 'cashSell': '802.22', 'transferSend': '826.68', 'transferReceive': '810.32'}, 'MYR': {'basicRate': '269.43', 'cashBuy': '286.40', 'cashSell': '249.50', 'transferSend': '0.00', 'transferReceive': '266.74'}, 'IDR': {'basicRate': '7.67', 'cashBuy': '8.20', 'cashSell': '6.91', 'transferSend': '7.74', 'transferReceive': '7.60'}, 'QAR': {'basicRate': '308.48', 'cashBuy': '0.00', 'cashSell': '0.00', 'transferSend': '0.00', 'transferReceive': '0.00'}, 'KZT': {'basicRate': '3.03', 'cashBuy': '0.00', 'cashSell': '0.00', 'transferSend': '0.00', 'transferReceive': '0.00'}, 'BND': {'basicRate': '818.50', 'cashBuy': '851.24', 'cashSell': '769.39', 'transferSend': '0.00', 'transferReceive': '0.00'}, 'INR': {'basicRate': '15.40', 'cashBuy': '0.00', 'cashSell': '0.00', 'transferSend': '0.00', 'transferReceive': '0.00'}, 'PKR': {'basicRate': '8.40', 'cashBuy': '0.00', 'cashSell': '0.00', 'transferSend': '0.00', 'transferReceive': '0.00'}, 'BDT': {'basicRate': '13.39', 'cashBuy': '0.00', 'cashSell': '0.00', 'transferSend': '0.00', 'transferReceive': '0.00'}, 'PHP': {'basicRate': '21.22', 'cashBuy': '23.34', 'cashSell': '19.48', 'transferSend': '21.43', 'transferReceive': '21.01'}, 'MXN': {'basicRate': '56.99', 'cashBuy': '62.68', 'cashSell': '52.21', 'transferSend': '57.55', 'transferReceive': '56.43'}, 'BRL': {'basicRate': '298.58', 'cashBuy': '329.03', 'cashSell': '274.70', 'transferSend': '0.00', 'transferReceive': '295.00'}, 'VND': {'basicRate': '4.81', 'cashBuy': '5.37', 'cashSell': '4.25', 'transferSend': '4.85', 'transferReceive': '4.77'}, 'ZAR': {'basicRate': '79.77', 'cashBuy': '84.55', 'cashSell': '73.39', 'transferSend': '80.72', 'transferReceive': '78.82'}, 'RUB': {'basicRate': '17.01', 'cashBuy': '18.20', 'cashSell': '15.14', 'transferSend': '17.18', 'transferReceive': '16.84'}, 'HUF': {'basicRate': '4.00', 'cashBuy': '4.37', 'cashSell': '3.68', 'transferSend': '4.04', 'transferReceive': '3.96'}, 'PLN': {'basicRate': '298.86', 'cashBuy': '322.76', 'cashSell': '274.96', 'transferSend': '302.14', 'transferReceive': '295.58'}}\n"
     ]
    }
   ],
   "source": [
    "# naver 환율 페이지 조회\n",
    "url = \"http://info.finance.naver.com/marketindex/exchangeList.nhn\"\n",
    "    \n",
    "# page 내용을 조회한다.\n",
    "res = getPage(url)\n",
    "\n",
    "soup = BeautifulSoup(res, 'html.parser')\n",
    "#print(soup.prettify)\n",
    "# soup.table('tr')[2]('td')[0].text.strip()\n",
    "nationExchangeRate = getExchangeOfNation(soup)\n"
   ]
  },
  {
   "cell_type": "code",
   "execution_count": 14,
   "metadata": {},
   "outputs": [
    {
     "name": "stdout",
     "output_type": "stream",
     "text": [
      "{'basicRate': '992.09', 'cashBuy': '1,009.45', 'cashSell': '974.73', 'transferSend': '1,001.81', 'transferReceive': '982.37'}\n"
     ]
    }
   ],
   "source": [
    "# 환율 조회 출력\n",
    "print(nationExchangeRate['JPY'])"
   ]
  },
  {
   "cell_type": "code",
   "execution_count": 23,
   "metadata": {},
   "outputs": [
    {
     "name": "stdout",
     "output_type": "stream",
     "text": [
      "<class 'str'>\n",
      "1,009.45\n",
      "974.73\n",
      "1,001.81\n",
      "982.37\n"
     ]
    }
   ],
   "source": [
    "basicRate = nationExchangeRate['JPY']['basicRate']\n",
    "cashBuy = nationExchangeRate['JPY']['cashBuy']\n",
    "cashSell = nationExchangeRate['JPY']['cashSell']\n",
    "transferSend = nationExchangeRate['JPY']['transferSend']\n",
    "transferReceive = nationExchangeRate['JPY']['transferReceive']\n",
    "print(basicRate)\n",
    "print(cashBuy)\n",
    "print(cashSell)\n",
    "print(transferSend)\n",
    "print(transferReceive)"
   ]
  },
  {
   "cell_type": "code",
   "execution_count": 27,
   "metadata": {},
   "outputs": [],
   "source": [
    "import pymysql \n",
    " \n",
    "conn = pymysql.connect(host='localhost', user='root', password='1234', db='jpy', charset='utf8') "
   ]
  },
  {
   "cell_type": "code",
   "execution_count": 28,
   "metadata": {},
   "outputs": [],
   "source": [
    "cur = conn.cursor()\n",
    "sql = \"\"\" INSERT INTO money2(basicRate, cashBuy, cashSell, transferSend, transferReceive)\n",
    "        VALUES(%s,%s,%s,%s,%s)\"\"\""
   ]
  },
  {
   "cell_type": "code",
   "execution_count": 29,
   "metadata": {},
   "outputs": [
    {
     "data": {
      "text/plain": [
       "1"
      ]
     },
     "execution_count": 29,
     "metadata": {},
     "output_type": "execute_result"
    }
   ],
   "source": [
    "cur.execute(sql, (basicRate,cashBuy, cashSell, transferSend, transferReceive))"
   ]
  },
  {
   "cell_type": "code",
   "execution_count": 30,
   "metadata": {},
   "outputs": [],
   "source": [
    "# conn 닫기\n",
    "conn.commit()\n",
    "conn.close()"
   ]
  },
  {
   "cell_type": "code",
   "execution_count": null,
   "metadata": {},
   "outputs": [],
   "source": []
  }
 ],
 "metadata": {
  "kernelspec": {
   "display_name": "Python 3",
   "language": "python",
   "name": "python3"
  },
  "language_info": {
   "codemirror_mode": {
    "name": "ipython",
    "version": 3
   },
   "file_extension": ".py",
   "mimetype": "text/x-python",
   "name": "python",
   "nbconvert_exporter": "python",
   "pygments_lexer": "ipython3",
   "version": "3.6.6"
  }
 },
 "nbformat": 4,
 "nbformat_minor": 2
}
