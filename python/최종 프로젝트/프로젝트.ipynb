{
 "cells": [
  {
   "cell_type": "code",
   "execution_count": 2,
   "metadata": {},
   "outputs": [],
   "source": [
    "import time\n",
    "import math\n",
    "import pymysql\n",
    "import urllib.request\n",
    "from bs4 import BeautifulSoup\n",
    "from selenium import webdriver\n",
    "from selenium.webdriver.common.by import By\n",
    "from selenium.webdriver.support.ui import WebDriverWait\n",
    "from selenium.webdriver.support import expected_conditions as EC"
   ]
  },
  {
   "cell_type": "code",
   "execution_count": 22,
   "metadata": {},
   "outputs": [],
   "source": [
    "main_url = 'http://www.gunsys.com/q/qpass_takeExam.php?examUid=2901'"
   ]
  },
  {
   "cell_type": "code",
   "execution_count": 23,
   "metadata": {},
   "outputs": [],
   "source": [
    "driver = webdriver.Chrome(\"C:/driver/chromedriver.exe\")\n",
    "driver.get(main_url)\n",
    "button = driver.find_element_by_xpath('//*[@id=\"index_div\"]/table/tbody/tr[3]/td/table/tbody/tr[2]/td[4]/a')\n",
    "button.click()"
   ]
  },
  {
   "cell_type": "code",
   "execution_count": 8,
   "metadata": {},
   "outputs": [],
   "source": [
    "image = driver.find_element_by_xpath('//*[@id=\"div00\"]/table[1]/tbody/tr/td[1]/table[2]/tbody/tr[1]/td[2]/img')"
   ]
  },
  {
   "cell_type": "code",
   "execution_count": 9,
   "metadata": {},
   "outputs": [
    {
     "data": {
      "text/plain": [
       "<selenium.webdriver.remote.webelement.WebElement (session=\"92e10ee3f4e6d6ed03afd7db7f897262\", element=\"0.6587383269779061-2\")>"
      ]
     },
     "execution_count": 9,
     "metadata": {},
     "output_type": "execute_result"
    }
   ],
   "source": []
  },
  {
   "cell_type": "code",
   "execution_count": 24,
   "metadata": {},
   "outputs": [],
   "source": [
    "# Beautifulsoup4 로 구현하기!\n",
    "html = urllib.request.urlopen(main_url)\n",
    "source = html.read()\n",
    "soup = BeautifulSoup(source, 'html.parser')"
   ]
  },
  {
   "cell_type": "code",
   "execution_count": 25,
   "metadata": {},
   "outputs": [],
   "source": [
    "imgs = soup.find_all(\"img\")"
   ]
  },
  {
   "cell_type": "code",
   "execution_count": 36,
   "metadata": {},
   "outputs": [
    {
     "name": "stdout",
     "output_type": "stream",
     "text": [
      "       http://www.gunsys.com/q/upfile/qpass179422_0\n",
      "       http://www.gunsys.com/q/upfile/qpass179426_0\n",
      "       http://www.gunsys.com/q/upfile/qpass179428_0\n",
      "       http://www.gunsys.com/q/upfile/qpass179430_0\n",
      "       http://www.gunsys.com/q/upfile/qpass179436_0\n",
      "       http://www.gunsys.com/q/upfile/qpass179437_0\n",
      "       http://www.gunsys.com/q/upfile/qpass179439_0\n",
      "       http://www.gunsys.com/q/upfile/qpass179444_0\n",
      "       http://www.gunsys.com/q/upfile/qpass179444_1\n",
      "       http://www.gunsys.com/q/upfile/qpass179444_2\n",
      "       http://www.gunsys.com/q/upfile/qpass179444_3\n",
      "       http://www.gunsys.com/q/upfile/qpass179444_4\n",
      "       http://www.gunsys.com/q/upfile/qpass179454_0\n",
      "       http://www.gunsys.com/q/upfile/qpass179462_0\n",
      "       http://www.gunsys.com/q/upfile/qpass179465_0\n",
      "       http://www.gunsys.com/q/upfile/qpass179472_0\n",
      "       http://www.gunsys.com/q/upfile/qpass179480_0\n",
      "       http://www.gunsys.com/q/upfile/qpass179492_0\n",
      "       http://www.gunsys.com/q/upfile/qpass179497_0\n"
     ]
    }
   ],
   "source": [
    "img_list = []\n",
    "\n",
    "# 문항 내에 있는 그림만 리스트에 받기\n",
    "for img in imgs:\n",
    "    if \"upfile/qpass\" in img[\"src\"]:\n",
    "        img_list.append(img)\n",
    "\n",
    "# 이미지 추출\n",
    "for each in img_list:\n",
    "    img_src = each.get(\"src\")\n",
    "    img_url = 'http://www.gunsys.com/q/' + img_src\n",
    "    print(img_url)\n",
    "#     b = requests.get(img_url).content\n",
    "#     file_name = os.path.basename(img_url) +'.jpg'\n",
    "#     with open(file_name, 'wb') as f:\n",
    "#         f.write(b)"
   ]
  },
  {
   "cell_type": "code",
   "execution_count": 4,
   "metadata": {},
   "outputs": [],
   "source": [
    "a = urllib.request.Request('http://www.gunsys.com/q/upfile/qpass179428_0')"
   ]
  },
  {
   "cell_type": "code",
   "execution_count": 10,
   "metadata": {},
   "outputs": [],
   "source": [
    "import requests\n",
    "import os"
   ]
  },
  {
   "cell_type": "code",
   "execution_count": 8,
   "metadata": {},
   "outputs": [],
   "source": [
    "b = requests.get('http://www.gunsys.com/q/upfile/qpass179428_0').content"
   ]
  },
  {
   "cell_type": "code",
   "execution_count": 17,
   "metadata": {},
   "outputs": [],
   "source": [
    "file_name = os.path.basename('http://www.gunsys.com/q/upfile/qpass179428_0') + \".jpg\""
   ]
  },
  {
   "cell_type": "code",
   "execution_count": 18,
   "metadata": {},
   "outputs": [],
   "source": [
    "with open(file_name, 'wb') as f:\n",
    "    f.write(b)"
   ]
  },
  {
   "cell_type": "code",
   "execution_count": null,
   "metadata": {},
   "outputs": [],
   "source": []
  }
 ],
 "metadata": {
  "kernelspec": {
   "display_name": "Python 3",
   "language": "python",
   "name": "python3"
  },
  "language_info": {
   "codemirror_mode": {
    "name": "ipython",
    "version": 3
   },
   "file_extension": ".py",
   "mimetype": "text/x-python",
   "name": "python",
   "nbconvert_exporter": "python",
   "pygments_lexer": "ipython3",
   "version": "3.6.7"
  }
 },
 "nbformat": 4,
 "nbformat_minor": 2
}
