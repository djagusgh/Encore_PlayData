{
 "cells": [
  {
   "cell_type": "code",
   "execution_count": 2,
   "metadata": {},
   "outputs": [],
   "source": [
    "def solution(h):\n",
    "    answers = []\n",
    "\n",
    "    for i in reversed(range(len(h))):\n",
    "        answer = 0\n",
    "        state = 0  # 수신 가능 탑이 없는 경우 : 0, 존재하는 경우 : 1\n",
    "        for j in reversed(range(i)):\n",
    "            if h[j] > h[i]:\n",
    "                answer = j + 1\n",
    "                answers.append(answer)\n",
    "                state = 1 # 수신 가능 상태이므로 1로 바뀜\n",
    "                break\n",
    "        if state == 0: \n",
    "            answers.append(0)\n",
    "    \n",
    "    answers.reverse() # append 함수 특성상 답과 반대결과 -> 한 번 뒤집어준다!\n",
    "    \n",
    "    return answers"
   ]
  },
  {
   "cell_type": "code",
   "execution_count": 3,
   "metadata": {},
   "outputs": [
    {
     "name": "stdout",
     "output_type": "stream",
     "text": [
      "[0, 0, 2, 2, 4]\n",
      "[0, 0, 0, 3, 3, 3, 6]\n",
      "[0, 0, 2, 0, 0, 5, 6]\n"
     ]
    }
   ],
   "source": [
    "print(solution([6,9,5,7,4]))\n",
    "print(solution([3,9,9,3,5,7,2]))\n",
    "print(solution([1, 5, 3, 6, 7, 6, 5]))\n"
   ]
  },
  {
   "cell_type": "code",
   "execution_count": null,
   "metadata": {},
   "outputs": [],
   "source": [
    "## 다른 사람 풀이 - 참고 하자!\n",
    "def solution(h):\n",
    "    ans = [0] * len(h)\n",
    "    for i in range(len(h)-1, 0, -1):\n",
    "        for j in range(i-1, -1, -1):\n",
    "            if h[i] < h[j]:\n",
    "                ans[i] = j+1\n",
    "                break\n",
    "    return ans"
   ]
  }
 ],
 "metadata": {
  "kernelspec": {
   "display_name": "Python 3",
   "language": "python",
   "name": "python3"
  },
  "language_info": {
   "codemirror_mode": {
    "name": "ipython",
    "version": 3
   },
   "file_extension": ".py",
   "mimetype": "text/x-python",
   "name": "python",
   "nbconvert_exporter": "python",
   "pygments_lexer": "ipython3",
   "version": "3.6.6"
  }
 },
 "nbformat": 4,
 "nbformat_minor": 2
}
