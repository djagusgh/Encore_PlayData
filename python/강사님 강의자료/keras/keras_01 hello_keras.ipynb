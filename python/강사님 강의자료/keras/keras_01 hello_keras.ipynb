{
 "cells": [
  {
   "cell_type": "code",
   "execution_count": 5,
   "metadata": {},
   "outputs": [],
   "source": [
    "%matplotlib inline\n",
    "import matplotlib.pyplot as plt\n",
    "import numpy as np\n",
    "\n",
    "import keras\n",
    "from keras.models import Sequential\n",
    "from keras.layers.core import Dense\n",
    "from keras.utils import np_utils"
   ]
  },
  {
   "cell_type": "code",
   "execution_count": 6,
   "metadata": {},
   "outputs": [
    {
     "data": {
      "text/plain": [
       "'2.2.4'"
      ]
     },
     "execution_count": 6,
     "metadata": {},
     "output_type": "execute_result"
    }
   ],
   "source": [
    "keras.__version__"
   ]
  },
  {
   "cell_type": "code",
   "execution_count": 12,
   "metadata": {},
   "outputs": [],
   "source": [
    "x = np.linspace(1, 10, 1000)\n",
    "y = 2 * x + 1"
   ]
  },
  {
   "cell_type": "code",
   "execution_count": 11,
   "metadata": {},
   "outputs": [],
   "source": [
    "model = Sequential()"
   ]
  },
  {
   "cell_type": "code",
   "execution_count": 13,
   "metadata": {},
   "outputs": [],
   "source": [
    "model.add(Dense(1, activation = 'linear', input_shape=(1, )))"
   ]
  },
  {
   "cell_type": "code",
   "execution_count": 14,
   "metadata": {},
   "outputs": [
    {
     "name": "stdout",
     "output_type": "stream",
     "text": [
      "_________________________________________________________________\n",
      "Layer (type)                 Output Shape              Param #   \n",
      "=================================================================\n",
      "dense_1 (Dense)              (None, 1)                 2         \n",
      "=================================================================\n",
      "Total params: 2\n",
      "Trainable params: 2\n",
      "Non-trainable params: 0\n",
      "_________________________________________________________________\n"
     ]
    }
   ],
   "source": [
    "model.summary()"
   ]
  },
  {
   "cell_type": "code",
   "execution_count": 15,
   "metadata": {},
   "outputs": [],
   "source": [
    "model.compile(loss='mse', optimizer = 'sgd')"
   ]
  },
  {
   "cell_type": "code",
   "execution_count": 16,
   "metadata": {},
   "outputs": [
    {
     "name": "stdout",
     "output_type": "stream",
     "text": [
      "Epoch 1/20\n",
      "1000/1000 [==============================] - 0s 193us/step - loss: 3.3923\n",
      "Epoch 2/20\n",
      "1000/1000 [==============================] - 0s 24us/step - loss: 0.0772\n",
      "Epoch 3/20\n",
      "1000/1000 [==============================] - 0s 21us/step - loss: 0.0610\n",
      "Epoch 4/20\n",
      "1000/1000 [==============================] - 0s 18us/step - loss: 0.0484\n",
      "Epoch 5/20\n",
      "1000/1000 [==============================] - 0s 20us/step - loss: 0.0384\n",
      "Epoch 6/20\n",
      "1000/1000 [==============================] - 0s 18us/step - loss: 0.0307\n",
      "Epoch 7/20\n",
      "1000/1000 [==============================] - 0s 20us/step - loss: 0.0243\n",
      "Epoch 8/20\n",
      "1000/1000 [==============================] - 0s 20us/step - loss: 0.0194\n",
      "Epoch 9/20\n",
      "1000/1000 [==============================] - 0s 20us/step - loss: 0.0154\n",
      "Epoch 10/20\n",
      "1000/1000 [==============================] - 0s 20us/step - loss: 0.0123\n",
      "Epoch 11/20\n",
      "1000/1000 [==============================] - 0s 21us/step - loss: 0.0098\n",
      "Epoch 12/20\n",
      "1000/1000 [==============================] - 0s 20us/step - loss: 0.0078\n",
      "Epoch 13/20\n",
      "1000/1000 [==============================] - 0s 20us/step - loss: 0.0061\n",
      "Epoch 14/20\n",
      "1000/1000 [==============================] - 0s 19us/step - loss: 0.0049\n",
      "Epoch 15/20\n",
      "1000/1000 [==============================] - 0s 21us/step - loss: 0.0039\n",
      "Epoch 16/20\n",
      "1000/1000 [==============================] - 0s 20us/step - loss: 0.0031\n",
      "Epoch 17/20\n",
      "1000/1000 [==============================] - 0s 21us/step - loss: 0.0025\n",
      "Epoch 18/20\n",
      "1000/1000 [==============================] - 0s 20us/step - loss: 0.0020\n",
      "Epoch 19/20\n",
      "1000/1000 [==============================] - 0s 20us/step - loss: 0.0016\n",
      "Epoch 20/20\n",
      "1000/1000 [==============================] - 0s 20us/step - loss: 0.0013\n"
     ]
    },
    {
     "data": {
      "text/plain": [
       "<keras.callbacks.History at 0x257a4869f98>"
      ]
     },
     "execution_count": 16,
     "metadata": {},
     "output_type": "execute_result"
    }
   ],
   "source": [
    "model.fit(x, y, epochs=20)"
   ]
  },
  {
   "cell_type": "code",
   "execution_count": null,
   "metadata": {},
   "outputs": [],
   "source": []
  },
  {
   "cell_type": "code",
   "execution_count": null,
   "metadata": {},
   "outputs": [],
   "source": []
  },
  {
   "cell_type": "code",
   "execution_count": null,
   "metadata": {},
   "outputs": [],
   "source": []
  },
  {
   "cell_type": "code",
   "execution_count": null,
   "metadata": {},
   "outputs": [],
   "source": []
  },
  {
   "cell_type": "code",
   "execution_count": 18,
   "metadata": {},
   "outputs": [
    {
     "name": "stdout",
     "output_type": "stream",
     "text": [
      "[[25.06654 ]\n",
      " [29.090439]]\n"
     ]
    }
   ],
   "source": [
    "pred_x = []\n",
    "pred_x = np.append(pred_x, 12)\n",
    "pred_x = np.append(pred_x, 14)\n",
    "\n",
    "pred_y = model.predict(pred_x)\n",
    "print(pred_y)"
   ]
  },
  {
   "cell_type": "code",
   "execution_count": 20,
   "metadata": {},
   "outputs": [
    {
     "data": {
      "image/png": "[encoded data removed]",
      "text/plain": [
       "<Figure size 432x288 with 1 Axes>"
      ]
     },
     "metadata": {
      "needs_background": "light"
     },
     "output_type": "display_data"
    }
   ],
   "source": [
    "plt.plot(x, y)\n",
    "plt.scatter(pred_x, pred_y)\n",
    "plt.show()"
   ]
  },
  {
   "cell_type": "code",
   "execution_count": 22,
   "metadata": {},
   "outputs": [
    {
     "name": "stdout",
     "output_type": "stream",
     "text": [
      "      [array([[2.0119495]], dtype=float32), array([0.9231449], dtype=float32)]\n"
     ]
    }
   ],
   "source": [
    "print(\"     \", model.get_weights())\n",
    "# W = 2.0119495, b = 0.9231449"
   ]
  },
  {
   "cell_type": "code",
   "execution_count": null,
   "metadata": {},
   "outputs": [],
   "source": []
  }
 ],
 "metadata": {
  "kernelspec": {
   "display_name": "Python 3",
   "language": "python",
   "name": "python3"
  },
  "language_info": {
   "codemirror_mode": {
    "name": "ipython",
    "version": 3
   },
   "file_extension": ".py",
   "mimetype": "text/x-python",
   "name": "python",
   "nbconvert_exporter": "python",
   "pygments_lexer": "ipython3",
   "version": "3.6.7"
  }
 },
 "nbformat": 4,
 "nbformat_minor": 2
}
