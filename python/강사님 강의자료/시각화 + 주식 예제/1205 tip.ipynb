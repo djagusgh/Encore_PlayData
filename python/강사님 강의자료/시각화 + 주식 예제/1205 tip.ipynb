{
 "cells": [
  {
   "cell_type": "code",
   "execution_count": 1,
   "metadata": {},
   "outputs": [],
   "source": [
    "%matplotlib inline"
   ]
  },
  {
   "cell_type": "code",
   "execution_count": 2,
   "metadata": {},
   "outputs": [],
   "source": [
    "import matplotlib as mpl\n",
    "import matplotlib.pyplot as plt\n",
    "import matplotlib.font_manager as fm"
   ]
  },
  {
   "cell_type": "code",
   "execution_count": 3,
   "metadata": {},
   "outputs": [],
   "source": [
    "mpl.rcParams['axes.unicode_minus'] = False"
   ]
  },
  {
   "cell_type": "code",
   "execution_count": 4,
   "metadata": {},
   "outputs": [],
   "source": [
    "import numpy as np"
   ]
  },
  {
   "cell_type": "code",
   "execution_count": 7,
   "metadata": {},
   "outputs": [],
   "source": [
    "data = np.random.randint(-100, 100, 50).cumsum()"
   ]
  },
  {
   "cell_type": "code",
   "execution_count": 8,
   "metadata": {},
   "outputs": [
    {
     "data": {
      "text/plain": [
       "array([ -33,  -92,  -90,  -91, -169, -220, -317, -285, -209, -178,  -93,\n",
       "        -45, -118, -191, -185, -279, -200, -261, -265, -331, -411, -437,\n",
       "       -459, -552, -562, -645, -562, -491, -520, -578, -599, -657, -571,\n",
       "       -489, -395, -492, -462, -546, -609, -709, -761, -853, -906, -924,\n",
       "       -853, -831, -901, -917, -984, -992], dtype=int32)"
      ]
     },
     "execution_count": 8,
     "metadata": {},
     "output_type": "execute_result"
    }
   ],
   "source": [
    "data"
   ]
  },
  {
   "cell_type": "code",
   "execution_count": 10,
   "metadata": {},
   "outputs": [
    {
     "data": {
      "image/png": "[encoded data removed]",
      "text/plain": [
       "<Figure size 432x288 with 1 Axes>"
      ]
     },
     "metadata": {
      "needs_background": "light"
     },
     "output_type": "display_data"
    }
   ],
   "source": [
    "plt.plot(range(50), data, 'r')\n",
    "plt.title('시간별 가격 추이')\n",
    "plt.ylabel('주식 가격')\n",
    "plt.xlabel('시간(분)')\n",
    "plt.show()"
   ]
  },
  {
   "cell_type": "code",
   "execution_count": 11,
   "metadata": {},
   "outputs": [],
   "source": [
    "from IPython.core.interactiveshell import InteractiveShell"
   ]
  },
  {
   "cell_type": "code",
   "execution_count": 12,
   "metadata": {},
   "outputs": [],
   "source": [
    "InteractiveShell.ast_node_interactivity = 'all' # print 안쓰고 출력할 수 있게 하는 옵션"
   ]
  },
  {
   "cell_type": "code",
   "execution_count": 14,
   "metadata": {},
   "outputs": [
    {
     "data": {
      "text/plain": [
       "10"
      ]
     },
     "execution_count": 14,
     "metadata": {},
     "output_type": "execute_result"
    },
    {
     "data": {
      "text/plain": [
       "20"
      ]
     },
     "execution_count": 14,
     "metadata": {},
     "output_type": "execute_result"
    }
   ],
   "source": [
    "a = 10\n",
    "a\n",
    "b = 20\n",
    "b"
   ]
  },
  {
   "cell_type": "code",
   "execution_count": 15,
   "metadata": {},
   "outputs": [
    {
     "data": {
      "text/plain": [
       "'3.0.1'"
      ]
     },
     "execution_count": 15,
     "metadata": {},
     "output_type": "execute_result"
    },
    {
     "data": {
      "text/plain": [
       "'C:\\\\Users\\\\ASUS\\\\.matplotlib'"
      ]
     },
     "execution_count": 15,
     "metadata": {},
     "output_type": "execute_result"
    },
    {
     "data": {
      "text/plain": [
       "'C:\\\\Users\\\\ASUS\\\\.matplotlib'"
      ]
     },
     "execution_count": 15,
     "metadata": {},
     "output_type": "execute_result"
    }
   ],
   "source": [
    "mpl.__version__\n",
    "mpl.get_configdir()\n",
    "mpl.get_cachedir()"
   ]
  },
  {
   "cell_type": "code",
   "execution_count": 16,
   "metadata": {},
   "outputs": [
    {
     "data": {
      "text/plain": [
       "'C:\\\\Users\\\\ASUS\\\\Anaconda3\\\\envs\\\\py36\\\\lib\\\\site-packages\\\\matplotlib\\\\mpl-data\\\\matplotlibrc'"
      ]
     },
     "execution_count": 16,
     "metadata": {},
     "output_type": "execute_result"
    }
   ],
   "source": [
    "mpl.matplotlib_fname()"
   ]
  },
  {
   "cell_type": "code",
   "execution_count": 17,
   "metadata": {},
   "outputs": [],
   "source": [
    "font_list = fm.findSystemFonts(fontext='ttf')"
   ]
  },
  {
   "cell_type": "code",
   "execution_count": 19,
   "metadata": {},
   "outputs": [
    {
     "data": {
      "text/plain": [
       "[]"
      ]
     },
     "execution_count": 19,
     "metadata": {},
     "output_type": "execute_result"
    }
   ],
   "source": [
    "[(f.name, f,fname) for f in fm.fontManager.ttflist if 'Nanum' in f.fname]"
   ]
  },
  {
   "cell_type": "code",
   "execution_count": 20,
   "metadata": {},
   "outputs": [
    {
     "data": {
      "text/plain": [
       "[<Font 'cmss10' (cmss10.ttf) normal normal 400 normal>,\n",
       " <Font 'DejaVu Sans' (DejaVuSans-Oblique.ttf) oblique normal 400 normal>,\n",
       " <Font 'STIXSizeFiveSym' (STIXSizFiveSymReg.ttf) normal normal regular normal>,\n",
       " <Font 'STIXSizeOneSym' (STIXSizOneSymReg.ttf) normal normal regular normal>,\n",
       " <Font 'cmr10' (cmr10.ttf) normal normal 400 normal>,\n",
       " <Font 'STIXGeneral' (STIXGeneralBolIta.ttf) italic normal bold normal>,\n",
       " <Font 'DejaVu Sans Mono' (DejaVuSansMono-Bold.ttf) normal normal bold normal>,\n",
       " <Font 'DejaVu Sans Mono' (DejaVuSansMono-Oblique.ttf) oblique normal 400 normal>,\n",
       " <Font 'DejaVu Serif' (DejaVuSerif-BoldItalic.ttf) italic normal bold normal>,\n",
       " <Font 'cmb10' (cmb10.ttf) normal normal 400 normal>,\n",
       " <Font 'DejaVu Serif' (DejaVuSerif.ttf) normal normal 400 normal>,\n",
       " <Font 'cmsy10' (cmsy10.ttf) normal normal 400 normal>,\n",
       " <Font 'DejaVu Serif Display' (DejaVuSerifDisplay.ttf) normal normal 400 normal>,\n",
       " <Font 'STIXNonUnicode' (STIXNonUniBolIta.ttf) italic normal bold normal>,\n",
       " <Font 'STIXSizeThreeSym' (STIXSizThreeSymBol.ttf) normal normal bold normal>,\n",
       " <Font 'cmmi10' (cmmi10.ttf) normal normal 400 normal>,\n",
       " <Font 'STIXSizeTwoSym' (STIXSizTwoSymBol.ttf) normal normal bold normal>,\n",
       " <Font 'cmex10' (cmex10.ttf) normal normal 400 normal>,\n",
       " <Font 'STIXNonUnicode' (STIXNonUniIta.ttf) italic normal 400 normal>,\n",
       " <Font 'STIXSizeTwoSym' (STIXSizTwoSymReg.ttf) normal normal regular normal>,\n",
       " <Font 'DejaVu Sans' (DejaVuSans-BoldOblique.ttf) oblique normal bold normal>,\n",
       " <Font 'DejaVu Sans Mono' (DejaVuSansMono-BoldOblique.ttf) oblique normal bold normal>,\n",
       " <Font 'STIXSizeOneSym' (STIXSizOneSymBol.ttf) normal normal bold normal>,\n",
       " <Font 'STIXGeneral' (STIXGeneralItalic.ttf) italic normal 400 normal>,\n",
       " <Font 'STIXSizeFourSym' (STIXSizFourSymBol.ttf) normal normal bold normal>,\n",
       " <Font 'cmtt10' (cmtt10.ttf) normal normal 400 normal>,\n",
       " <Font 'DejaVu Serif' (DejaVuSerif-Bold.ttf) normal normal bold normal>,\n",
       " <Font 'DejaVu Sans' (DejaVuSans-Bold.ttf) normal normal bold normal>,\n",
       " <Font 'STIXSizeFourSym' (STIXSizFourSymReg.ttf) normal normal regular normal>,\n",
       " <Font 'STIXNonUnicode' (STIXNonUni.ttf) normal normal regular normal>,\n",
       " <Font 'DejaVu Serif' (DejaVuSerif-Italic.ttf) italic normal 400 normal>,\n",
       " <Font 'STIXSizeThreeSym' (STIXSizThreeSymReg.ttf) normal normal regular normal>,\n",
       " <Font 'DejaVu Sans Mono' (DejaVuSansMono.ttf) normal normal 400 normal>,\n",
       " <Font 'DejaVu Sans' (DejaVuSans.ttf) normal normal 400 normal>,\n",
       " <Font 'STIXGeneral' (STIXGeneralBol.ttf) normal normal bold normal>,\n",
       " <Font 'DejaVu Sans Display' (DejaVuSansDisplay.ttf) normal normal 400 normal>,\n",
       " <Font 'STIXNonUnicode' (STIXNonUniBol.ttf) normal normal bold normal>,\n",
       " <Font 'STIXGeneral' (STIXGeneral.ttf) normal normal regular normal>,\n",
       " <Font 'Franklin Gothic Heavy' (FRAHV.TTF) normal normal heavy normal>,\n",
       " <Font 'MV Boli' (mvboli.ttf) normal normal 400 normal>,\n",
       " <Font 'Eras Demi ITC' (ERASDEMI.TTF) normal normal demi normal>,\n",
       " <Font 'Arial' (ARIALN.TTF) normal normal 400 condensed>,\n",
       " <Font 'Copperplate Gothic Light' (COPRGTL.TTF) normal normal light normal>,\n",
       " <Font 'Elephant' (ELEPHNT.TTF) normal normal 400 normal>,\n",
       " <Font 'Old English Text MT' (OLDENGL.TTF) normal normal 400 normal>,\n",
       " <Font 'Rockwell Condensed' (ROCCB___.TTF) normal normal bold condensed>,\n",
       " <Font 'Corbel' (corbeli.ttf) italic normal 400 normal>,\n",
       " <Font 'Gill Sans MT' (GIL_____.TTF) normal normal 400 normal>,\n",
       " <Font 'Brush Script MT' (BRUSHSCI.TTF) italic normal 400 normal>,\n",
       " <Font 'Bodoni MT' (BOD_R.TTF) normal normal 400 normal>,\n",
       " <Font 'Lucida Bright' (LBRITEDI.TTF) italic normal demibold normal>,\n",
       " <Font 'Palatino Linotype' (palab.ttf) normal normal bold normal>,\n",
       " <Font 'Century Gothic' (GOTHICI.TTF) italic normal 400 normal>,\n",
       " <Font 'Times New Roman' (timesi.ttf) italic normal roman normal>,\n",
       " <Font 'Magic R' (HMKMMAG.TTF) normal normal 400 normal>,\n",
       " <Font 'Sylfaen' (sylfaen.ttf) normal normal 400 normal>,\n",
       " <Font 'Juice ITC' (JUICE___.TTF) normal normal 400 normal>,\n",
       " <Font 'Monotype Corsiva' (MTCORSVA.TTF) normal normal 400 normal>,\n",
       " <Font 'Californian FB' (CALIFI.TTF) italic normal 400 normal>,\n",
       " <Font 'Book Antiqua' (BKANT.TTF) normal normal book normal>,\n",
       " <Font 'Rage Italic' (RAGE.TTF) italic normal 400 normal>,\n",
       " <Font 'Script MT Bold' (SCRIPTBL.TTF) normal normal bold normal>,\n",
       " <Font 'Segoe UI' (seguisb.ttf) normal normal 400 normal>,\n",
       " <Font 'Perpetua Titling MT' (PERTIBD.TTF) normal normal bold normal>,\n",
       " <Font 'Lucida Sans Unicode' (l_10646.ttf) normal normal 400 normal>,\n",
       " <Font 'Goudy Old Style' (GOUDOS.TTF) normal normal 400 normal>,\n",
       " <Font 'Georgia' (georgiaz.ttf) italic normal bold normal>,\n",
       " <Font 'Copperplate Gothic Bold' (COPRGTB.TTF) normal normal bold normal>,\n",
       " <Font 'Corbel' (corbelz.ttf) italic normal bold normal>,\n",
       " <Font 'Arial Rounded MT Bold' (ARLRDBD.TTF) normal normal bold normal>,\n",
       " <Font 'Gill Sans MT' (GILI____.TTF) italic normal 400 normal>,\n",
       " <Font 'Maiandra GD' (MAIAN.TTF) normal normal 400 normal>,\n",
       " <Font 'Constantia' (constanz.ttf) italic normal bold normal>,\n",
       " <Font 'HYGraphic-Medium' (H2GPRM.TTF) normal normal 400 normal>,\n",
       " <Font 'Arial' (ARIALNI.TTF) italic normal 400 condensed>,\n",
       " <Font 'Viner Hand ITC' (VINERITC.TTF) normal normal 400 normal>,\n",
       " <Font 'Agency FB' (AGENCYB.TTF) normal normal bold normal>,\n",
       " <Font 'Palatino Linotype' (pala.ttf) normal normal 400 normal>,\n",
       " <Font 'Nirmala UI' (NirmalaS.ttf) normal normal light normal>,\n",
       " <Font 'HYPMokGak-Bold' (H2MKPB.TTF) normal normal 400 normal>,\n",
       " <Font 'Malgun Gothic' (malgunsl.ttf) normal normal light normal>,\n",
       " <Font 'Century' (CENTURY.TTF) normal normal 400 normal>,\n",
       " <Font 'Rockwell Condensed' (ROCC____.TTF) normal normal 400 condensed>,\n",
       " <Font 'New Gulim' (NGULIM.TTF) normal normal 400 normal>,\n",
       " <Font 'Microsoft Uighur' (MSUIGHUB.TTF) normal normal bold normal>,\n",
       " <Font 'Bernard MT Condensed' (BERNHC.TTF) normal normal 400 condensed>,\n",
       " <Font 'Calibri' (calibrib.ttf) normal normal bold normal>,\n",
       " <Font 'Algerian' (ALGER.TTF) normal normal 400 normal>,\n",
       " <Font 'Lucida Bright' (LBRITED.TTF) normal normal demibold normal>,\n",
       " <Font 'Eras Light ITC' (ERASLGHT.TTF) normal normal light normal>,\n",
       " <Font 'Bodoni MT' (BOD_BI.TTF) italic normal bold normal>,\n",
       " <Font 'HYShortSamul-Medium' (H2SA1M.TTF) normal normal 400 normal>,\n",
       " <Font 'Lucida Fax' (LFAXDI.TTF) italic normal demibold normal>,\n",
       " <Font 'Verdana' (verdanai.ttf) italic normal 400 normal>,\n",
       " <Font 'Nirmala UI' (Nirmala.ttf) normal normal 400 normal>,\n",
       " <Font 'Haettenschweiler' (HATTEN.TTF) normal normal 400 normal>,\n",
       " <Font 'Century Gothic' (GOTHICB.TTF) normal normal bold normal>,\n",
       " <Font 'Malgun Gothic' (malgun.ttf) normal normal 400 normal>,\n",
       " <Font 'Segoe UI Emoji' (seguiemj.ttf) normal normal 400 normal>,\n",
       " <Font 'Franklin Gothic Heavy' (FRAHVIT.TTF) italic normal heavy normal>,\n",
       " <Font 'Lucida Fax' (LFAXI.TTF) italic normal 400 normal>,\n",
       " <Font 'Microsoft Tai Le' (taileb.ttf) normal normal bold normal>,\n",
       " <Font 'MT Extra' (MTEXTRA.TTF) normal normal 400 normal>,\n",
       " <Font 'Rockwell' (ROCKB.TTF) normal normal bold normal>,\n",
       " <Font 'Californian FB' (CALIFR.TTF) normal normal 400 normal>,\n",
       " <Font 'Candara' (Candarai.ttf) italic normal 400 normal>,\n",
       " <Font 'Perpetua' (PERI____.TTF) italic normal 400 normal>,\n",
       " <Font 'Bodoni MT' (BOD_BLAI.TTF) italic normal black normal>,\n",
       " <Font 'Gadugi' (gadugi.ttf) normal normal 400 normal>,\n",
       " <Font 'HYPost-Medium' (H2PORM.TTF) normal normal 400 normal>,\n",
       " <Font 'MS Outlook' (OUTLOOK.TTF) normal normal 400 normal>,\n",
       " <Font 'Bauhaus 93' (BAUHS93.TTF) normal normal 400 normal>,\n",
       " <Font 'Edwardian Script ITC' (ITCEDSCR.TTF) normal normal 400 normal>,\n",
       " <Font 'Century Schoolbook' (SCHLBKBI.TTF) italic normal book normal>,\n",
       " <Font 'HYPost-Light' (H2PORL.TTF) normal normal 400 normal>,\n",
       " <Font 'Cambria' (cambriaz.ttf) italic normal bold normal>,\n",
       " <Font 'Bodoni MT' (BOD_CBI.TTF) italic normal bold condensed>,\n",
       " <Font 'Rockwell' (ROCK.TTF) normal normal 400 normal>,\n",
       " <Font 'HYGothic-Extra' (H2GTRE.TTF) normal normal 400 normal>,\n",
       " <Font 'Rockwell' (ROCKBI.TTF) italic normal bold normal>,\n",
       " <Font 'Matura MT Script Capitals' (MATURASC.TTF) normal normal 400 normal>,\n",
       " <Font 'Bookman Old Style' (BOOKOSI.TTF) italic normal book normal>,\n",
       " <Font 'Myanmar Text' (mmrtextb.ttf) normal normal bold normal>,\n",
       " <Font 'Wingdings' (wingding.ttf) normal normal 400 normal>,\n",
       " <Font 'Perpetua' (PERB____.TTF) normal normal bold normal>,\n",
       " <Font 'Microsoft New Tai Lue' (ntailu.ttf) normal normal 400 normal>,\n",
       " <Font 'Arial' (arial.ttf) normal normal 400 normal>,\n",
       " <Font 'Lucida Bright' (LBRITE.TTF) normal normal 400 normal>,\n",
       " <Font 'Century Schoolbook' (CENSCBK.TTF) normal normal book normal>,\n",
       " <Font 'Courier New' (cour.ttf) normal normal 400 normal>,\n",
       " <Font 'Palace Script MT' (PALSCRI.TTF) normal normal 400 normal>,\n",
       " <Font 'Lucida Bright' (LBRITEI.TTF) italic normal 400 normal>,\n",
       " <Font 'Perpetua Titling MT' (PERTILI.TTF) normal normal light normal>,\n",
       " <Font 'Franklin Gothic Book' (FRABKIT.TTF) italic normal book normal>,\n",
       " <Font 'Blackadder ITC' (ITCBLKAD.TTF) normal normal black normal>,\n",
       " <Font 'Cambria' (cambriab.ttf) normal normal bold normal>,\n",
       " <Font 'Harlow Solid Italic' (HARLOWSI.TTF) italic normal 400 normal>,\n",
       " <Font 'Vladimir Script' (VLADIMIR.TTF) normal normal 400 normal>,\n",
       " <Font 'Segoe Print' (segoepr.ttf) normal normal 400 normal>,\n",
       " <Font 'Myanmar Text' (mmrtext.ttf) normal normal 400 normal>,\n",
       " <Font 'Niagara Solid' (NIAGSOL.TTF) normal normal 400 normal>,\n",
       " <Font 'Segoe UI' (seguisbi.ttf) italic normal semibold normal>,\n",
       " <Font 'HYGothic-Medium' (H2GTRM.TTF) normal normal 400 normal>,\n",
       " <Font 'Gill Sans MT Condensed' (GILC____.TTF) normal normal 400 condensed>,\n",
       " <Font 'Gabriola' (Gabriola.ttf) normal normal 400 normal>,\n",
       " <Font 'Lucida Calligraphy' (LCALLIG.TTF) italic normal 400 normal>,\n",
       " <Font 'Ebrima' (ebrimabd.ttf) normal normal 700 normal>,\n",
       " <Font 'Tw Cen MT' (TCM_____.TTF) normal normal 400 normal>,\n",
       " <Font 'Forte' (FORTE.TTF) normal normal 400 normal>,\n",
       " <Font 'Leelawadee UI' (LeelawUI.ttf) normal normal 400 normal>,\n",
       " <Font 'Tw Cen MT Condensed Extra Bold' (TCCEB.TTF) normal normal bold condensed>,\n",
       " <Font 'Rockwell Extra Bold' (ROCKEB.TTF) normal normal bold normal>,\n",
       " <Font 'Gill Sans MT' (GILBI___.TTF) italic normal bold normal>,\n",
       " <Font 'Modern No. 20' (MOD20.TTF) normal normal 400 normal>,\n",
       " <Font 'Niagara Engraved' (NIAGENG.TTF) normal normal 400 normal>,\n",
       " <Font 'Kunstler Script' (KUNSTLER.TTF) normal normal 400 normal>,\n",
       " <Font 'Eras Medium ITC' (ERASMD.TTF) normal normal medium normal>,\n",
       " <Font 'Lucida Sans Typewriter' (LTYPEO.TTF) oblique normal 400 normal>,\n",
       " <Font 'Segoe UI' (seguisli.ttf) italic normal light normal>,\n",
       " <Font 'Arial' (arialbd.ttf) normal normal bold normal>,\n",
       " <Font 'Candara' (Candara.ttf) normal normal 400 normal>,\n",
       " <Font 'Comic Sans MS' (comic.ttf) normal normal 400 normal>,\n",
       " <Font 'Palatino Linotype' (palabi.ttf) italic normal bold normal>,\n",
       " <Font 'Californian FB' (CALIFB.TTF) normal normal bold normal>,\n",
       " <Font 'Lucida Sans' (LSANS.TTF) normal normal regular normal>,\n",
       " <Font 'HYHeadLine-Medium' (H2HDRM.TTF) normal normal 400 normal>,\n",
       " <Font 'Century Schoolbook' (SCHLBKB.TTF) normal normal book normal>,\n",
       " <Font 'Lucida Sans' (LSANSDI.TTF) italic normal demibold normal>,\n",
       " <Font 'Century Gothic' (GOTHICBI.TTF) italic normal bold normal>,\n",
       " <Font 'Leelawadee' (LEELAWAD.TTF) normal normal 400 normal>,\n",
       " <Font 'Ravie' (RAVIE.TTF) normal normal 400 normal>,\n",
       " <Font 'Calibri' (calibrili.ttf) italic normal light normal>,\n",
       " <Font 'OCR A Extended' (OCRAEXT.TTF) normal normal 400 normal>,\n",
       " <Font 'Centaur' (CENTAUR.TTF) normal normal 400 normal>,\n",
       " <Font 'Symbol' (symbol.ttf) normal normal 400 normal>,\n",
       " <Font 'Garamond' (GARAIT.TTF) italic normal 400 normal>,\n",
       " <Font 'Leelawadee' (LEELAWDB.TTF) normal normal bold normal>,\n",
       " <Font 'Wingdings 2' (WINGDNG2.TTF) normal normal 400 normal>,\n",
       " <Font 'Franklin Gothic Medium Cond' (FRAMDCN.TTF) normal normal medium condensed>,\n",
       " <Font 'Goudy Old Style' (GOUDOSB.TTF) normal normal bold normal>,\n",
       " <Font 'Ink Free' (Inkfree.ttf) normal normal 400 normal>,\n",
       " <Font 'Gill Sans MT' (GILB____.TTF) normal normal bold normal>,\n",
       " <Font 'Goudy Old Style' (GOUDOSI.TTF) italic normal 400 normal>,\n",
       " <Font 'Times New Roman' (times.ttf) normal normal roman normal>,\n",
       " <Font 'Gill Sans Ultra Bold Condensed' (GILLUBCD.TTF) normal normal bold condensed>,\n",
       " <Font 'Verdana' (verdana.ttf) normal normal 400 normal>,\n",
       " <Font 'Felix Titling' (FELIXTI.TTF) normal normal 400 normal>,\n",
       " <Font 'Tahoma' (tahomabd.ttf) normal normal 700 normal>,\n",
       " <Font 'Eras Bold ITC' (ERASBD.TTF) normal normal bold normal>,\n",
       " <Font 'Bell MT' (BELLB.TTF) normal normal bold normal>,\n",
       " <Font 'Parchment' (PARCHM.TTF) normal normal 400 normal>,\n",
       " <Font 'Georgia' (georgiai.ttf) italic normal 400 normal>,\n",
       " <Font 'Constantia' (constan.ttf) normal normal 400 normal>,\n",
       " <Font 'Constantia' (constanb.ttf) normal normal bold normal>,\n",
       " <Font 'Bookman Old Style' (BOOKOSBI.TTF) italic normal book normal>,\n",
       " <Font 'Footlight MT Light' (FTLTLT.TTF) normal normal light normal>,\n",
       " <Font 'Bookman Old Style' (BOOKOSB.TTF) normal normal book normal>,\n",
       " <Font 'Lucida Sans' (LSANSI.TTF) italic normal 400 normal>,\n",
       " <Font 'Papyrus' (PAPYRUS.TTF) normal normal 400 normal>,\n",
       " <Font 'Century Schoolbook' (SCHLBKI.TTF) italic normal book normal>,\n",
       " <Font 'Constantia' (constani.ttf) italic normal 400 normal>,\n",
       " <Font 'Microsoft Tai Le' (taile.ttf) normal normal 400 normal>,\n",
       " <Font 'High Tower Text' (HTOWERTI.TTF) italic normal 400 normal>,\n",
       " <Font 'Headline R' (HMKMRHD.TTF) normal normal 400 normal>,\n",
       " <Font 'Bradley Hand ITC' (BRADHITC.TTF) normal normal 400 normal>,\n",
       " <Font 'Calibri' (calibri.ttf) normal normal 400 normal>,\n",
       " <Font 'HYSinMyeongJo-Medium' (H2MJSM.TTF) normal normal 400 normal>,\n",
       " <Font 'Rockwell' (ROCKI.TTF) italic normal 400 normal>,\n",
       " <Font 'Cooper Black' (COOPBL.TTF) normal normal black normal>,\n",
       " <Font 'Segoe Script' (segoescb.ttf) normal normal bold normal>,\n",
       " <Font 'Bodoni MT' (BOD_CI.TTF) italic normal 400 condensed>,\n",
       " <Font 'Goudy Stout' (GOUDYSTO.TTF) normal normal 400 normal>,\n",
       " <Font 'Impact' (impact.ttf) normal normal 400 normal>,\n",
       " <Font 'Pyunji R' (HMFMPYUN.TTF) normal normal 400 normal>,\n",
       " <Font 'Garamond' (GARA.TTF) normal normal 400 normal>,\n",
       " <Font 'Elephant' (ELEPHNTI.TTF) italic normal 400 normal>,\n",
       " <Font 'Calibri' (calibril.ttf) normal normal light normal>,\n",
       " <Font 'Segoe Script' (segoesc.ttf) normal normal 400 normal>,\n",
       " <Font 'Chiller' (CHILLER.TTF) normal normal 400 normal>,\n",
       " <Font 'Bodoni MT' (BOD_CB.TTF) normal normal bold condensed>,\n",
       " <Font 'Consolas' (consolai.ttf) italic normal 400 normal>,\n",
       " <Font 'Segoe UI Historic' (seguihis.ttf) normal normal 400 normal>,\n",
       " <Font 'Lucida Console' (lucon.ttf) normal normal 400 normal>,\n",
       " <Font 'Berlin Sans FB Demi' (BRLNSDB.TTF) normal normal demi normal>,\n",
       " <Font 'Lucida Sans Typewriter' (LTYPE.TTF) normal normal regular normal>,\n",
       " <Font 'Century Gothic' (GOTHIC.TTF) normal normal 400 normal>,\n",
       " <Font 'Vivaldi' (VIVALDII.TTF) italic normal 400 normal>,\n",
       " <Font 'Book Antiqua' (ANTQUAI.TTF) italic normal book normal>,\n",
       " <Font 'Lucida Handwriting' (LHANDW.TTF) italic normal 400 normal>,\n",
       " <Font 'BM JUA_TTF' (BMJUA_ttf.ttf) normal normal 400 normal>,\n",
       " <Font 'Segoe UI' (segoeuib.ttf) normal normal 700 normal>,\n",
       " <Font 'Yet R' (HMFMOLD.TTF) normal normal 400 normal>,\n",
       " <Font 'Tw Cen MT Condensed' (TCCM____.TTF) normal normal 400 condensed>,\n",
       " <Font 'Microsoft Yi Baiti' (msyi.ttf) normal normal 400 normal>,\n",
       " <Font 'Ebrima' (ebrima.ttf) normal normal 400 normal>,\n",
       " <Font 'Stencil' (STENCIL.TTF) normal normal 400 normal>,\n",
       " <Font 'Bookman Old Style' (BOOKOS.TTF) normal normal book normal>,\n",
       " <Font 'Pristina' (PRISTINA.TTF) normal normal 400 normal>,\n",
       " <Font 'Segoe Print' (segoeprb.ttf) normal normal bold normal>,\n",
       " <Font 'SimSun-ExtB' (simsunb.ttf) normal normal 400 normal>,\n",
       " <Font 'Informal Roman' (INFROMAN.TTF) normal normal roman normal>,\n",
       " <Font 'Comic Sans MS' (comici.ttf) italic normal 400 normal>,\n",
       " <Font 'Calibri' (calibriz.ttf) italic normal bold normal>,\n",
       " <Font 'Franklin Gothic Demi' (FRADMIT.TTF) italic normal demi normal>,\n",
       " <Font 'Book Antiqua' (ANTQUABI.TTF) italic normal book normal>,\n",
       " <Font 'Calibri' (calibrii.ttf) italic normal 400 normal>,\n",
       " <Font 'Showcard Gothic' (SHOWG.TTF) normal normal 400 normal>,\n",
       " <Font 'Segoe UI' (segoeuisl.ttf) normal normal 400 normal>,\n",
       " <Font 'Microsoft PhagsPa' (phagspa.ttf) normal normal 400 normal>,\n",
       " <Font 'Segoe UI' (segoeuii.ttf) italic normal 400 normal>,\n",
       " <Font 'Colonna MT' (COLONNA.TTF) normal normal 400 normal>,\n",
       " <Font 'Arial' (ariblk.ttf) normal normal black normal>,\n",
       " <Font 'Bodoni MT' (BOD_CR.TTF) normal normal 400 condensed>,\n",
       " <Font 'Mistral' (MISTRAL.TTF) normal normal 400 normal>,\n",
       " <Font 'Tw Cen MT' (TCB_____.TTF) normal normal bold normal>,\n",
       " <Font 'Microsoft PhagsPa' (phagspab.ttf) normal normal bold normal>,\n",
       " <Font 'Berlin Sans FB' (BRLNSR.TTF) normal normal 400 normal>,\n",
       " <Font 'Bodoni MT' (BOD_I.TTF) italic normal 400 normal>,\n",
       " <Font 'Verdana' (verdanaz.ttf) italic normal bold normal>,\n",
       " <Font 'Playbill' (PLAYBILL.TTF) normal normal 400 normal>,\n",
       " <Font 'MS Reference Specialty' (REFSPCL.TTF) normal normal 400 normal>,\n",
       " <Font 'Corbel' (corbel.ttf) normal normal 400 normal>,\n",
       " <Font 'Nirmala UI' (NirmalaB.ttf) normal normal bold normal>,\n",
       " <Font 'Cambria' (cambriai.ttf) italic normal 400 normal>,\n",
       " <Font 'High Tower Text' (HTOWERT.TTF) normal normal 400 normal>,\n",
       " <Font 'Garamond' (GARABD.TTF) normal normal bold normal>,\n",
       " <Font 'Tw Cen MT' (TCMI____.TTF) italic normal 400 normal>,\n",
       " <Font 'Bell MT' (BELLI.TTF) italic normal 400 normal>,\n",
       " <Font 'HYGungSo-Bold' (H2GSRB.TTF) normal normal 400 normal>,\n",
       " <Font 'Calisto MT' (CALIST.TTF) normal normal 400 normal>,\n",
       " <Font 'Candara' (Candaraz.ttf) italic normal bold normal>,\n",
       " <Font 'Leelawadee UI' (LeelaUIb.ttf) normal normal 700 normal>,\n",
       " <Font 'Palatino Linotype' (palai.ttf) italic normal 400 normal>,\n",
       " <Font 'Franklin Gothic Demi' (FRADM.TTF) normal normal demi normal>,\n",
       " <Font 'Marlett' (marlett.ttf) normal normal 400 normal>,\n",
       " <Font 'Engravers MT' (ENGR.TTF) normal normal 400 normal>,\n",
       " <Font 'BM HANNA Pro' (BMHANNAPro.ttf) normal normal 400 normal>,\n",
       " <Font 'Wingdings 3' (WINGDNG3.TTF) normal normal 400 normal>,\n",
       " <Font 'Verdana' (verdanab.ttf) normal normal bold normal>,\n",
       " <Font 'Calisto MT' (CALISTBI.TTF) italic normal bold normal>,\n",
       " <Font 'Harrington' (HARNGTON.TTF) normal normal 400 normal>,\n",
       " <Font 'Lucida Sans Typewriter' (LTYPEB.TTF) normal normal bold normal>,\n",
       " <Font 'Gloucester MT Extra Condensed' (GLECB.TTF) normal normal 400 condensed>,\n",
       " <Font 'Webdings' (webdings.ttf) normal normal 400 normal>,\n",
       " <Font 'Malgun Gothic' (malgunbd.ttf) normal normal bold normal>,\n",
       " <Font 'Gigi' (GIGI.TTF) normal normal 400 normal>,\n",
       " <Font 'Arial' (ARIALNBI.TTF) italic normal bold condensed>,\n",
       " <Font 'Microsoft Uighur' (MSUIGHUR.TTF) normal normal 400 normal>,\n",
       " <Font 'Comic Sans MS' (comicz.ttf) italic normal bold normal>,\n",
       " <Font 'HoloLens MDL2 Assets' (holomdl2.ttf) normal normal 400 normal>,\n",
       " <Font 'Segoe UI Symbol' (seguisym.ttf) normal normal 400 normal>,\n",
       " <Font 'Britannic Bold' (BRITANIC.TTF) normal normal bold normal>,\n",
       " <Font 'Tw Cen MT Condensed' (TCCB____.TTF) normal normal bold condensed>,\n",
       " <Font 'Perpetua' (PERBI___.TTF) italic normal bold normal>,\n",
       " <Font 'Courier New' (courbd.ttf) normal normal bold normal>,\n",
       " <Font 'Microsoft Himalaya' (himalaya.ttf) normal normal 400 normal>,\n",
       " <Font 'Broadway' (BROADW.TTF) normal normal 400 normal>,\n",
       " <Font 'Magneto' (MAGNETOB.TTF) normal normal bold normal>,\n",
       " <Font 'Arial' (arialbi.ttf) italic normal bold normal>,\n",
       " <Font 'Ami R' (HMKMAMI.TTF) normal normal 400 normal>,\n",
       " <Font 'Tw Cen MT' (TCBI____.TTF) italic normal bold normal>,\n",
       " <Font 'Perpetua' (PER_____.TTF) normal normal 400 normal>,\n",
       " <Font 'Leelawadee UI' (LeelUIsl.ttf) normal normal 400 normal>,\n",
       " <Font 'Kristen ITC' (ITCKRIST.TTF) normal normal 400 normal>,\n",
       " <Font 'Bodoni MT' (BOD_BLAR.TTF) normal normal black normal>,\n",
       " <Font 'Franklin Gothic Book' (FRABK.TTF) normal normal book normal>,\n",
       " <Font 'Arial' (ARIALNB.TTF) normal normal bold condensed>,\n",
       " <Font 'Book Antiqua' (ANTQUAB.TTF) normal normal book normal>,\n",
       " <Font 'Poor Richard' (POORICH.TTF) normal normal 400 normal>,\n",
       " <Font 'Bodoni MT' (BOD_B.TTF) normal normal bold normal>,\n",
       " <Font 'Segoe UI' (segoeuiz.ttf) italic normal bold normal>,\n",
       " <Font 'Segoe UI' (segoeuil.ttf) normal normal 400 normal>,\n",
       " <Font 'Calisto MT' (CALISTB.TTF) normal normal bold normal>,\n",
       " <Font 'Franklin Gothic Medium' (framd.ttf) normal normal medium normal>,\n",
       " <Font 'Bahnschrift' (bahnschrift.ttf) normal normal 400 normal>,\n",
       " <Font 'Consolas' (consolaz.ttf) italic normal bold normal>,\n",
       " <Font 'Trebuchet MS' (trebucit.ttf) italic normal 400 normal>,\n",
       " <Font 'Trebuchet MS' (trebucbi.ttf) italic normal bold normal>,\n",
       " <Font 'Tempus Sans ITC' (TEMPSITC.TTF) normal normal 400 normal>,\n",
       " <Font 'Bookshelf Symbol 7' (BSSYM7.TTF) normal normal book normal>,\n",
       " <Font 'Franklin Gothic Medium' (framdit.ttf) italic normal medium normal>,\n",
       " <Font 'Georgia' (georgiab.ttf) normal normal bold normal>,\n",
       " <Font 'Lucida Fax' (LFAX.TTF) normal normal regular normal>,\n",
       " <Font 'Tahoma' (tahoma.ttf) normal normal 400 normal>,\n",
       " <Font 'Freestyle Script' (FREESCPT.TTF) normal normal 400 normal>,\n",
       " <Font 'Segoe MDL2 Assets' (segmdl2.ttf) normal normal 400 normal>,\n",
       " <Font 'HYMyeongJo-Extra' (H2MJRE.TTF) normal normal 400 normal>,\n",
       " <Font 'Courier New' (courbi.ttf) italic normal bold normal>,\n",
       " <Font 'Lucida Fax' (LFAXD.TTF) normal normal demibold normal>,\n",
       " <Font 'Javanese Text' (javatext.ttf) normal normal 400 normal>,\n",
       " <Font 'Georgia' (georgia.ttf) normal normal 400 normal>,\n",
       " <Font 'French Script MT' (FRSCRIPT.TTF) normal normal 400 normal>,\n",
       " <Font 'Calisto MT' (CALISTI.TTF) italic normal 400 normal>,\n",
       " <Font 'Gill Sans MT Ext Condensed Bold' (GLSNECB.TTF) normal normal bold condensed>,\n",
       " <Font 'Segoe UI' (segoeui.ttf) normal normal 400 normal>,\n",
       " <Font 'Consolas' (consola.ttf) normal normal 400 normal>,\n",
       " <Font 'MS Reference Sans Serif' (REFSAN.TTF) normal normal 400 normal>,\n",
       " <Font 'Consolas' (consolab.ttf) normal normal bold normal>,\n",
       " <Font 'BM YEONSUNG' (BMYEONSUNG_ttf.ttf) normal normal 400 normal>,\n",
       " <Font 'Arial' (ariali.ttf) italic normal 400 normal>,\n",
       " <Font 'Comic Sans MS' (comicbd.ttf) normal normal bold normal>,\n",
       " <Font 'Castellar' (CASTELAR.TTF) normal normal 400 normal>,\n",
       " <Font 'Berlin Sans FB' (BRLNSB.TTF) normal normal bold normal>,\n",
       " <Font 'Agency FB' (AGENCYR.TTF) normal normal 400 normal>,\n",
       " <Font 'Snap ITC' (SNAP____.TTF) normal normal 400 normal>,\n",
       " <Font 'Imprint MT Shadow' (IMPRISHA.TTF) normal normal 400 normal>,\n",
       " <Font 'Bodoni MT' (BOD_PSTC.TTF) normal normal 400 normal>,\n",
       " <Font 'Bell MT' (BELL.TTF) normal normal 400 normal>,\n",
       " <Font 'Corbel' (corbelb.ttf) normal normal bold normal>,\n",
       " <Font 'Lucida Sans Typewriter' (LTYPEBO.TTF) oblique normal bold normal>,\n",
       " <Font 'Jokerman' (JOKERMAN.TTF) normal normal 400 normal>,\n",
       " <Font 'Times New Roman' (timesbi.ttf) italic normal roman normal>,\n",
       " <Font 'Candara' (Candarab.ttf) normal normal bold normal>,\n",
       " <Font 'Gill Sans Ultra Bold' (GILSANUB.TTF) normal normal bold normal>,\n",
       " <Font 'Segoe UI' (seguibl.ttf) normal normal 400 normal>,\n",
       " <Font 'Gadugi' (gadugib.ttf) normal normal bold normal>,\n",
       " <Font 'BM HANNA Air' (BMHANNAAir_ttf.ttf) normal normal 400 normal>,\n",
       " <Font 'Courier New' (couri.ttf) italic normal 400 normal>,\n",
       " <Font 'Mongolian Baiti' (monbaiti.ttf) normal normal 400 normal>,\n",
       " <Font 'Microsoft New Tai Lue' (ntailub.ttf) normal normal bold normal>,\n",
       " <Font 'Franklin Gothic Demi Cond' (FRADMCN.TTF) normal normal demi condensed>,\n",
       " <Font 'Baskerville Old Face' (BASKVILL.TTF) normal normal 400 normal>,\n",
       " <Font 'Trebuchet MS' (trebucbd.ttf) normal normal bold normal>,\n",
       " <Font 'Trebuchet MS' (trebuc.ttf) normal normal 400 normal>,\n",
       " <Font 'Microsoft Sans Serif' (micross.ttf) normal normal 400 normal>,\n",
       " <Font 'Segoe UI' (seguibli.ttf) italic normal 400 normal>,\n",
       " <Font 'Lucida Sans' (LSANSD.TTF) normal normal roman normal>,\n",
       " <Font 'Wide Latin' (LATINWD.TTF) normal normal 400 expanded>,\n",
       " <Font 'Times New Roman' (timesbd.ttf) normal normal roman normal>,\n",
       " <Font 'Segoe UI' (seguili.ttf) italic normal light normal>,\n",
       " <Font 'Curlz MT' (CURLZ___.TTF) normal normal 400 normal>,\n",
       " <Font 'Onyx' (ONYX.TTF) normal normal 400 normal>]"
      ]
     },
     "execution_count": 20,
     "metadata": {},
     "output_type": "execute_result"
    }
   ],
   "source": [
    "path = 'C:\\\\\n",
    "'"
   ]
  },
  {
   "cell_type": "code",
   "execution_count": null,
   "metadata": {},
   "outputs": [],
   "source": []
  }
 ],
 "metadata": {
  "kernelspec": {
   "display_name": "Python 3",
   "language": "python",
   "name": "python3"
  },
  "language_info": {
   "codemirror_mode": {
    "name": "ipython",
    "version": 3
   },
   "file_extension": ".py",
   "mimetype": "text/x-python",
   "name": "python",
   "nbconvert_exporter": "python",
   "pygments_lexer": "ipython3",
   "version": "3.6.7"
  }
 },
 "nbformat": 4,
 "nbformat_minor": 2
}
