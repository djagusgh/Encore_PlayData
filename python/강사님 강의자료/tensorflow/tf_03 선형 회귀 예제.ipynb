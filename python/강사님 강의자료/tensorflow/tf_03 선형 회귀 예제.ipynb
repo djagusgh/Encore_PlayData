{
 "cells": [
  {
   "cell_type": "code",
   "execution_count": 1,
   "metadata": {},
   "outputs": [],
   "source": [
    "import tensorflow as tf"
   ]
  },
  {
   "cell_type": "code",
   "execution_count": 2,
   "metadata": {},
   "outputs": [],
   "source": [
    "x_data = [1,2,3]\n",
    "y_data = [1,2,3]"
   ]
  },
  {
   "cell_type": "code",
   "execution_count": 4,
   "metadata": {},
   "outputs": [],
   "source": [
    "W = tf.Variable(tf.random_uniform([1], -1.0, 1.0))\n",
    "b = tf.Variable(tf.random_uniform([1], -1.0, 1.0))"
   ]
  },
  {
   "cell_type": "code",
   "execution_count": 6,
   "metadata": {},
   "outputs": [
    {
     "name": "stdout",
     "output_type": "stream",
     "text": [
      "       Tensor(\"X_1:0\", dtype=float32)\n",
      "       Tensor(\"Y_1:0\", dtype=float32)\n"
     ]
    }
   ],
   "source": [
    "X = tf.placeholder(tf.float32, name= 'X')\n",
    "Y = tf.placeholder(tf.float32, name= 'Y')\n",
    "print(\"      \", X)\n",
    "print(\"      \", Y)"
   ]
  },
  {
   "cell_type": "code",
   "execution_count": 8,
   "metadata": {},
   "outputs": [],
   "source": [
    "hypothesis = W * X + b"
   ]
  },
  {
   "cell_type": "code",
   "execution_count": 9,
   "metadata": {},
   "outputs": [],
   "source": [
    "cost = tf.reduce_mean(tf.square(hypothesis - Y)) # cost function"
   ]
  },
  {
   "cell_type": "code",
   "execution_count": 11,
   "metadata": {},
   "outputs": [],
   "source": [
    "optimizer = tf.train.GradientDescentOptimizer(learning_rate=0.1) ## optimizer 중비"
   ]
  },
  {
   "cell_type": "code",
   "execution_count": 12,
   "metadata": {},
   "outputs": [],
   "source": [
    "train_op = optimizer.minimize(cost)"
   ]
  },
  {
   "cell_type": "code",
   "execution_count": 14,
   "metadata": {},
   "outputs": [
    {
     "name": "stdout",
     "output_type": "stream",
     "text": [
      "step = 0 cost_val= 1.6082636 W= [1.0717824] b= [-0.01703091]\n",
      "step = 1 cost_val= 0.019445926 W= [1.0115979] b= [-0.04233766]\n",
      "step = 2 cost_val= 0.00045608656 W= [1.0177083] b= [-0.03850928]\n",
      "step = 3 cost_val= 0.00021861924 W= [1.0165843] b= [-0.03789074]\n",
      "step = 4 cost_val= 0.00020565752 W= [1.0162619] b= [-0.0369463]\n",
      "step = 5 cost_val= 0.00019585727 W= [1.0158627] b= [-0.0360618]\n",
      "step = 6 cost_val= 0.00018655503 W= [1.0154822] b= [-0.03519453]\n",
      "step = 7 cost_val= 0.00017769197 W= [1.01511] b= [-0.0343485]\n",
      "step = 8 cost_val= 0.00016925253 W= [1.0147468] b= [-0.0335228]\n",
      "step = 9 cost_val= 0.00016121361 W= [1.0143923] b= [-0.03271696]\n",
      "step = 10 cost_val= 0.00015355491 W= [1.0140463] b= [-0.03193046]\n",
      "step = 11 cost_val= 0.00014626229 W= [1.0137086] b= [-0.0311629]\n",
      "step = 12 cost_val= 0.00013931365 W= [1.0133791] b= [-0.03041375]\n",
      "step = 13 cost_val= 0.00013269579 W= [1.0130575] b= [-0.02968264]\n",
      "step = 14 cost_val= 0.00012639347 W= [1.0127436] b= [-0.0289691]\n",
      "step = 15 cost_val= 0.000120390854 W= [1.0124372] b= [-0.02827273]\n",
      "step = 16 cost_val= 0.00011467147 W= [1.0121382] b= [-0.02759307]\n",
      "step = 17 cost_val= 0.000109223234 W= [1.0118464] b= [-0.02692974]\n",
      "step = 18 cost_val= 0.00010403458 W= [1.0115618] b= [-0.02628235]\n",
      "step = 19 cost_val= 9.909405e-05 W= [1.0112838] b= [-0.02565058]\n",
      "step = 20 cost_val= 9.438709e-05 W= [1.0110126] b= [-0.02503396]\n",
      "step = 21 cost_val= 8.990403e-05 W= [1.0107478] b= [-0.02443219]\n",
      "step = 22 cost_val= 8.563301e-05 W= [1.0104895] b= [-0.02384486]\n",
      "step = 23 cost_val= 8.1565406e-05 W= [1.0102372] b= [-0.02327167]\n",
      "step = 24 cost_val= 7.7692246e-05 W= [1.0099912] b= [-0.02271223]\n",
      "step = 25 cost_val= 7.4001284e-05 W= [1.009751] b= [-0.02216625]\n",
      "step = 26 cost_val= 7.048671e-05 W= [1.0095166] b= [-0.02163339]\n",
      "step = 27 cost_val= 6.713754e-05 W= [1.0092878] b= [-0.02111335]\n",
      "step = 28 cost_val= 6.3948835e-05 W= [1.0090646] b= [-0.0206058]\n",
      "step = 29 cost_val= 6.0910923e-05 W= [1.0088466] b= [-0.02011046]\n",
      "step = 30 cost_val= 5.8018253e-05 W= [1.008634] b= [-0.01962702]\n",
      "step = 31 cost_val= 5.5261447e-05 W= [1.0084264] b= [-0.01915519]\n",
      "step = 32 cost_val= 5.2636937e-05 W= [1.0082239] b= [-0.01869472]\n",
      "step = 33 cost_val= 5.0136743e-05 W= [1.0080261] b= [-0.01824533]\n",
      "step = 34 cost_val= 4.775589e-05 W= [1.0078332] b= [-0.01780672]\n",
      "step = 35 cost_val= 4.5486875e-05 W= [1.0076449] b= [-0.01737867]\n",
      "step = 36 cost_val= 4.3326876e-05 W= [1.0074611] b= [-0.01696089]\n",
      "step = 37 cost_val= 4.1268464e-05 W= [1.0072818] b= [-0.01655314]\n",
      "step = 38 cost_val= 3.930807e-05 W= [1.0071067] b= [-0.01615522]\n",
      "step = 39 cost_val= 3.74404e-05 W= [1.006936] b= [-0.01576683]\n",
      "step = 40 cost_val= 3.5662077e-05 W= [1.0067692] b= [-0.01538783]\n",
      "step = 41 cost_val= 3.3968685e-05 W= [1.0066065] b= [-0.01501794]\n",
      "step = 42 cost_val= 3.2354426e-05 W= [1.0064477] b= [-0.01465692]\n",
      "step = 43 cost_val= 3.0817322e-05 W= [1.0062927] b= [-0.0143046]\n",
      "step = 44 cost_val= 2.9353812e-05 W= [1.0061414] b= [-0.01396075]\n",
      "step = 45 cost_val= 2.7959622e-05 W= [1.0059937] b= [-0.01362516]\n",
      "step = 46 cost_val= 2.6631524e-05 W= [1.0058497] b= [-0.01329762]\n",
      "step = 47 cost_val= 2.5366753e-05 W= [1.005709] b= [-0.01297798]\n",
      "step = 48 cost_val= 2.4161332e-05 W= [1.0055718] b= [-0.01266599]\n",
      "step = 49 cost_val= 2.3014356e-05 W= [1.0054379] b= [-0.01236153]\n",
      "step = 50 cost_val= 2.1921156e-05 W= [1.0053071] b= [-0.01206437]\n",
      "step = 51 cost_val= 2.08794e-05 W= [1.0051796] b= [-0.01177431]\n",
      "step = 52 cost_val= 1.988807e-05 W= [1.0050551] b= [-0.01149131]\n",
      "step = 53 cost_val= 1.8943712e-05 W= [1.0049335] b= [-0.01121509]\n",
      "step = 54 cost_val= 1.8044173e-05 W= [1.0048149] b= [-0.01094547]\n",
      "step = 55 cost_val= 1.7186338e-05 W= [1.0046992] b= [-0.01068232]\n",
      "step = 56 cost_val= 1.63702e-05 W= [1.0045862] b= [-0.01042554]\n",
      "step = 57 cost_val= 1.5592605e-05 W= [1.004476] b= [-0.01017492]\n",
      "step = 58 cost_val= 1.4851453e-05 W= [1.0043684] b= [-0.0099303]\n",
      "step = 59 cost_val= 1.4146523e-05 W= [1.0042633] b= [-0.00969162]\n",
      "step = 60 cost_val= 1.3473856e-05 W= [1.0041609] b= [-0.0094586]\n",
      "step = 61 cost_val= 1.2834433e-05 W= [1.0040609] b= [-0.00923124]\n",
      "step = 62 cost_val= 1.2224696e-05 W= [1.0039632] b= [-0.00900934]\n",
      "step = 63 cost_val= 1.1644138e-05 W= [1.003868] b= [-0.00879276]\n",
      "step = 64 cost_val= 1.1090558e-05 W= [1.003775] b= [-0.00858139]\n",
      "step = 65 cost_val= 1.0563985e-05 W= [1.0036843] b= [-0.0083751]\n",
      "step = 66 cost_val= 1.0062274e-05 W= [1.0035957] b= [-0.00817379]\n",
      "step = 67 cost_val= 9.584354e-06 W= [1.0035093] b= [-0.00797731]\n",
      "step = 68 cost_val= 9.129368e-06 W= [1.0034249] b= [-0.00778557]\n",
      "step = 69 cost_val= 8.695591e-06 W= [1.0033425] b= [-0.00759841]\n",
      "step = 70 cost_val= 8.282318e-06 W= [1.0032622] b= [-0.00741572]\n",
      "step = 71 cost_val= 7.889169e-06 W= [1.0031837] b= [-0.00723745]\n",
      "step = 72 cost_val= 7.51409e-06 W= [1.0031072] b= [-0.00706344]\n",
      "step = 73 cost_val= 7.157573e-06 W= [1.0030324] b= [-0.00689364]\n",
      "step = 74 cost_val= 6.817301e-06 W= [1.0029596] b= [-0.00672789]\n",
      "step = 75 cost_val= 6.493224e-06 W= [1.0028886] b= [-0.00656615]\n",
      "step = 76 cost_val= 6.1851147e-06 W= [1.0028191] b= [-0.00640834]\n",
      "step = 77 cost_val= 5.8911332e-06 W= [1.0027514] b= [-0.00625429]\n",
      "step = 78 cost_val= 5.6117024e-06 W= [1.0026851] b= [-0.00610397]\n",
      "step = 79 cost_val= 5.3449403e-06 W= [1.0026206] b= [-0.0059572]\n",
      "step = 80 cost_val= 5.090938e-06 W= [1.0025576] b= [-0.00581399]\n",
      "step = 81 cost_val= 4.848994e-06 W= [1.0024961] b= [-0.00567423]\n",
      "step = 82 cost_val= 4.6188734e-06 W= [1.0024362] b= [-0.00553783]\n",
      "step = 83 cost_val= 4.399555e-06 W= [1.0023775] b= [-0.00540473]\n",
      "step = 84 cost_val= 4.1904673e-06 W= [1.0023204] b= [-0.0052748]\n",
      "step = 85 cost_val= 3.9915644e-06 W= [1.0022646] b= [-0.00514801]\n",
      "step = 86 cost_val= 3.8020787e-06 W= [1.0022101] b= [-0.00502427]\n",
      "step = 87 cost_val= 3.621352e-06 W= [1.0021571] b= [-0.00490347]\n",
      "step = 88 cost_val= 3.4491084e-06 W= [1.0021052] b= [-0.0047856]\n",
      "step = 89 cost_val= 3.2855316e-06 W= [1.0020546] b= [-0.00467058]\n",
      "step = 90 cost_val= 3.1292102e-06 W= [1.0020052] b= [-0.00455828]\n",
      "step = 91 cost_val= 2.9807968e-06 W= [1.0019569] b= [-0.00444871]\n",
      "step = 92 cost_val= 2.8391987e-06 W= [1.00191] b= [-0.00434175]\n",
      "step = 93 cost_val= 2.7041363e-06 W= [1.0018641] b= [-0.00423738]\n",
      "step = 94 cost_val= 2.5759743e-06 W= [1.0018193] b= [-0.00413554]\n",
      "step = 95 cost_val= 2.4535386e-06 W= [1.0017755] b= [-0.00403614]\n",
      "step = 96 cost_val= 2.3369191e-06 W= [1.0017328] b= [-0.00393911]\n",
      "step = 97 cost_val= 2.2259048e-06 W= [1.0016912] b= [-0.00384441]\n",
      "step = 98 cost_val= 2.1200967e-06 W= [1.0016506] b= [-0.003752]\n",
      "step = 99 cost_val= 2.0195234e-06 W= [1.0016109] b= [-0.00366183]\n",
      "X:5, Y: [5.0043926]\n",
      "X:2.5, Y: [2.5003653]\n"
     ]
    }
   ],
   "source": [
    "with tf.Session() as sess:\n",
    "    sess.run(tf.global_variables_initializer()) ## 변수 초기화\n",
    "    \n",
    "    # 100번 훈련\n",
    "    for step in range(100):\n",
    "        _, cost_val = sess.run([train_op, cost], feed_dict={X : x_data, Y : y_data})\n",
    "        print('step =', step, 'cost_val=', cost_val, 'W=', sess.run(W), 'b=', sess.run(b))\n",
    "    # 완료 후 테스트 데이터로 결과 확인\n",
    "    print('X:5, Y:', sess.run(hypothesis, feed_dict={X:5})) # 5에 가까운 값 출력\n",
    "    print('X:2.5, Y:', sess.run(hypothesis, feed_dict={X:2.5})) # 2.5에 가까운 값 출력\n",
    "    \n",
    "    "
   ]
  },
  {
   "cell_type": "code",
   "execution_count": null,
   "metadata": {},
   "outputs": [],
   "source": []
  }
 ],
 "metadata": {
  "kernelspec": {
   "display_name": "Python 3",
   "language": "python",
   "name": "python3"
  },
  "language_info": {
   "codemirror_mode": {
    "name": "ipython",
    "version": 3
   },
   "file_extension": ".py",
   "mimetype": "text/x-python",
   "name": "python",
   "nbconvert_exporter": "python",
   "pygments_lexer": "ipython3",
   "version": "3.6.7"
  }
 },
 "nbformat": 4,
 "nbformat_minor": 2
}
