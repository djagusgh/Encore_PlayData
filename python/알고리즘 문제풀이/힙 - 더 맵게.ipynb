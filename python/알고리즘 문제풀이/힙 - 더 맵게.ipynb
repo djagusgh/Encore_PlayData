{
 "cells": [
  {
   "cell_type": "code",
   "execution_count": 10,
   "metadata": {},
   "outputs": [],
   "source": [
    "from heapq import heapify,heappop, heappush, nsmallest\n",
    "    "
   ]
  },
  {
   "cell_type": "code",
   "execution_count": 26,
   "metadata": {},
   "outputs": [],
   "source": [
    "def solution(scoville, K):\n",
    "    num = 0\n",
    "    while(True):\n",
    "        num += 1\n",
    "        min_1st = min(scoville)\n",
    "        scoville.remove(min_1st)\n",
    "        \n",
    "        min_2nd = min(scoville)\n",
    "        scoville.remove(min_2nd)\n",
    "        \n",
    "        sc_num = min_1st + 2 * min_2nd\n",
    "        scoville.append(sc_num)\n",
    "        \n",
    "        if len(scoville) == 1 and scoville[0] < K:\n",
    "            num = -1\n",
    "            break\n",
    "        \n",
    "        if min(scoville) >= K:\n",
    "            break\n",
    "    \n",
    "    return num"
   ]
  },
  {
   "cell_type": "code",
   "execution_count": 27,
   "metadata": {},
   "outputs": [
    {
     "data": {
      "text/plain": [
       "2"
      ]
     },
     "execution_count": 27,
     "metadata": {},
     "output_type": "execute_result"
    }
   ],
   "source": [
    "solution([1,2,3,9,10,12], 7)\n"
   ]
  },
  {
   "cell_type": "code",
   "execution_count": 23,
   "metadata": {},
   "outputs": [],
   "source": [
    "def solution(scoville, K):\n",
    "    num = 0\n",
    "    heapify(scoville)\n",
    "    while(True):\n",
    "        num += 1\n",
    "        min_1st = heappop(scoville)\n",
    "        min_2nd = heappop(scoville)\n",
    "        sc_num = min_1st + 2 * min_2nd\n",
    "\n",
    "        heappush(scoville, sc_num)\n",
    "        \n",
    "        if len(scoville) == 1 and scoville[0] < K:\n",
    "            num = -1\n",
    "            break\n",
    "        if min(scoville) >= K:\n",
    "            break\n",
    "    \n",
    "    return num"
   ]
  },
  {
   "cell_type": "code",
   "execution_count": 25,
   "metadata": {},
   "outputs": [
    {
     "data": {
      "text/plain": [
       "2"
      ]
     },
     "execution_count": 25,
     "metadata": {},
     "output_type": "execute_result"
    }
   ],
   "source": [
    "solution([1,2,3,9,10,12], 7)"
   ]
  },
  {
   "cell_type": "code",
   "execution_count": 26,
   "metadata": {},
   "outputs": [
    {
     "data": {
      "text/plain": [
       "[3, 6, 4, 7, 9]"
      ]
     },
     "execution_count": 26,
     "metadata": {},
     "output_type": "execute_result"
    }
   ],
   "source": [
    "a = [9, 6, 4, 7, 3]\n",
    "heapq.heapify(a)\n",
    "a\n"
   ]
  },
  {
   "cell_type": "code",
   "execution_count": null,
   "metadata": {},
   "outputs": [],
   "source": []
  }
 ],
 "metadata": {
  "kernelspec": {
   "display_name": "Python 3",
   "language": "python",
   "name": "python3"
  },
  "language_info": {
   "codemirror_mode": {
    "name": "ipython",
    "version": 3
   },
   "file_extension": ".py",
   "mimetype": "text/x-python",
   "name": "python",
   "nbconvert_exporter": "python",
   "pygments_lexer": "ipython3",
   "version": "3.6.6"
  }
 },
 "nbformat": 4,
 "nbformat_minor": 2
}
