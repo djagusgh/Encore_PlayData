{
 "cells": [
  {
   "cell_type": "markdown",
   "metadata": {},
   "source": [
    "풀이 방법\n",
    "- "
   ]
  },
  {
   "cell_type": "code",
   "execution_count": 4,
   "metadata": {},
   "outputs": [],
   "source": [
    "arrangement = \"()(((()())(())()))(())\""
   ]
  },
  {
   "cell_type": "code",
   "execution_count": 8,
   "metadata": {},
   "outputs": [],
   "source": [
    "# stack 미사용\n",
    "def solution(arrangement):\n",
    "    left = 0       # '(' 의 갯수\n",
    "    right = 0      # ')' 의 갯수\n",
    "    answer = 0\n",
    "    for i in range(0, len(arrangement) - 1):\n",
    "        if arrangement[i] == '(':\n",
    "            left += 1\n",
    "            if arrangement[i + 1] == ')':\n",
    "                right \n",
    "                answer += left - right  # right +=1을 해주면 다음 반복문 돌 때 right이 또 더해짐 (2가 더해지는 결과!)\n",
    "        elif arrangement[i] == ')':\n",
    "            right += 1\n",
    "            if arrangement[i + 1] == ')':\n",
    "                answer += 1\n",
    "    return answer"
   ]
  },
  {
   "cell_type": "code",
   "execution_count": 28,
   "metadata": {},
   "outputs": [
    {
     "data": {
      "text/plain": [
       "17"
      ]
     },
     "execution_count": 28,
     "metadata": {},
     "output_type": "execute_result"
    }
   ],
   "source": [
    "solution(arrangement)"
   ]
  },
  {
   "cell_type": "code",
   "execution_count": 2,
   "metadata": {},
   "outputs": [],
   "source": [
    "# stack 사용 -> 위에꺼와 원리는 일치함!\n",
    "\n",
    "def solution2(arrangement):\n",
    "    answer = 0\n",
    "    stack_list = []\n",
    "    last_peek = ''\n",
    "    \n",
    "    for i in arrangement:\n",
    "        if i == '(':\n",
    "            stack_list.append('(')\n",
    "        else:\n",
    "            if last_peek == '(':\n",
    "                stack_list.pop()\n",
    "                answer += len(stack_list)\n",
    "            else:\n",
    "                stack_list.pop()\n",
    "                answer += 1\n",
    "        last_peek = i\n",
    "    \n",
    "    return answer\n",
    "    \n",
    "    "
   ]
  },
  {
   "cell_type": "code",
   "execution_count": 3,
   "metadata": {},
   "outputs": [
    {
     "data": {
      "text/plain": [
       "17"
      ]
     },
     "execution_count": 3,
     "metadata": {},
     "output_type": "execute_result"
    }
   ],
   "source": [
    "solution2(arrangement)"
   ]
  }
 ],
 "metadata": {
  "kernelspec": {
   "display_name": "Python 3",
   "language": "python",
   "name": "python3"
  },
  "language_info": {
   "codemirror_mode": {
    "name": "ipython",
    "version": 3
   },
   "file_extension": ".py",
   "mimetype": "text/x-python",
   "name": "python",
   "nbconvert_exporter": "python",
   "pygments_lexer": "ipython3",
   "version": "3.7.0"
  }
 },
 "nbformat": 4,
 "nbformat_minor": 2
}
