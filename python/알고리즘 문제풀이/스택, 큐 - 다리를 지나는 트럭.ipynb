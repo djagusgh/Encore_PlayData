{
 "cells": [
  {
   "cell_type": "markdown",
   "metadata": {},
   "source": [
    "\n",
    "\n",
    "\n"
   ]
  },
  {
   "cell_type": "code",
   "execution_count": null,
   "metadata": {},
   "outputs": [],
   "source": [
    "from functools import reduce"
   ]
  },
  {
   "cell_type": "code",
   "execution_count": null,
   "metadata": {},
   "outputs": [],
   "source": [
    "##"
   ]
  },
  {
   "cell_type": "code",
   "execution_count": 2,
   "metadata": {},
   "outputs": [
    {
     "data": {
      "text/plain": [
       "45"
      ]
     },
     "execution_count": 2,
     "metadata": {},
     "output_type": "execute_result"
    }
   ],
   "source": [
    "queue = [1,2,3,4,5,6,7,8,9]\n",
    "reduce(lambda x, y: x+ y, queue)"
   ]
  },
  {
   "cell_type": "code",
   "execution_count": 3,
   "metadata": {},
   "outputs": [],
   "source": [
    "# queue 함수 구현\n",
    "def put(queue, item): # queue에 값 넣음\n",
    "    queue.insert(0, item)\n",
    "\n",
    "def get(queue):       # queue에서 값 뻼\n",
    "    del queue[len(queue) - 1]"
   ]
  },
  {
   "cell_type": "code",
   "execution_count": 59,
   "metadata": {},
   "outputs": [],
   "source": [
    "## 풀이는 맞으나 시간이 너무 오래걸려 fail\n",
    "## Why? while문 돌때마다 queue_sum을 계산하기 때문\n",
    "\n",
    "def solution(bridge_length, weight, truck_weights):\n",
    "    time = 0\n",
    "    queue = [0 for i in range(bridge_length)]\n",
    "    truck = truck_weights.pop(0)\n",
    "    while(True):\n",
    "        queue_sum = reduce(lambda x, y : x+ y, queue[:len(queue) - 1]) # queue의 마지막 원소는 반복문 돌때마다 무조건 빠져나감 -> 고려 x            \n",
    "        if truck_weights != []:\n",
    "            time += 1\n",
    "            if truck + queue_sum <= weight:\n",
    "                get(queue)\n",
    "                put(queue, truck)\n",
    "                truck = truck_weights.pop(0)\n",
    "            else:\n",
    "                get(queue)\n",
    "                put(queue, 0)   \n",
    "        elif truck != None:\n",
    "            if truck + queue_sum <= weight:\n",
    "                get(queue)\n",
    "                put(queue, truck)\n",
    "                truck = None\n",
    "            else:\n",
    "                get(queue)\n",
    "                put(queue, 0)\n",
    "            time += 1\n",
    "        else:\n",
    "            time += 1\n",
    "            get(queue)\n",
    "            put(queue, 0)\n",
    "            if(queue == [0 for i in range(bridge_length)]):\n",
    "                break;\n",
    "    return time\n",
    "            "
   ]
  },
  {
   "cell_type": "code",
   "execution_count": 71,
   "metadata": {},
   "outputs": [],
   "source": [
    "# solution 1과 원리는 같지만, 실행시간 개선을 위해 queue_sum을 반복문 밖에서 한번만 계산하고,\n",
    "# if 문 내에서 queue에 원소가 들어가고 나갈때마다 queue_sum에 직접 값을 더하거나 빼줌 -> 코드가 ㅈㄴ 더러워지네?\n",
    "def solution2(bridge_length, weight, truck_weights):\n",
    "    time = 0\n",
    "    queue = [0 for i in range(bridge_length)]\n",
    "    truck = truck_weights.pop(0)\n",
    "    queue_sum = reduce(lambda x, y : x+ y, queue[:len(queue) - 1]) # queue의 마지막 원소는 반복문 돌때마다 무조건 빠져나감 -> 고려 x\n",
    "    while(True):            \n",
    "        if truck_weights != []:\n",
    "            time += 1\n",
    "            if truck + queue_sum <= weight:\n",
    "                get(queue)\n",
    "                queue_sum -= queue[len(queue) - 1]\n",
    "                put(queue, truck)\n",
    "                queue_sum += queue[0]\n",
    "                truck = truck_weights.pop(0)\n",
    "            else:\n",
    "                get(queue)\n",
    "                queue_sum -= queue[len(queue) - 1]\n",
    "                put(queue, 0)\n",
    "        \n",
    "        elif truck != None:\n",
    "            if truck + queue_sum <= weight:\n",
    "                get(queue)\n",
    "                queue_sum -= queue[len(queue) - 1]\n",
    "                put(queue, truck)\n",
    "                queue_sum += queue[0]\n",
    "                truck = None\n",
    "            else:\n",
    "                get(queue)\n",
    "                queue_sum -= queue[len(queue) - 1]\n",
    "                put(queue, 0)\n",
    "            time += 1\n",
    "        \n",
    "        else:\n",
    "            time += 1\n",
    "            get(queue)\n",
    "            put(queue, 0)\n",
    "            if(queue == [0 for i in range(bridge_length)]):\n",
    "                break;\n",
    "    \n",
    "    return time"
   ]
  },
  {
   "cell_type": "code",
   "execution_count": 72,
   "metadata": {},
   "outputs": [
    {
     "data": {
      "text/plain": [
       "8"
      ]
     },
     "execution_count": 72,
     "metadata": {},
     "output_type": "execute_result"
    }
   ],
   "source": [
    "solution2(2, 10, [7,4,5,6])"
   ]
  },
  {
   "cell_type": "code",
   "execution_count": 73,
   "metadata": {},
   "outputs": [
    {
     "data": {
      "text/plain": [
       "110"
      ]
     },
     "execution_count": 73,
     "metadata": {},
     "output_type": "execute_result"
    }
   ],
   "source": [
    "solution(100, 100,[10,10,10,10,10,10,10,10,10,10])"
   ]
  },
  {
   "cell_type": "code",
   "execution_count": 74,
   "metadata": {},
   "outputs": [
    {
     "data": {
      "text/plain": [
       "101"
      ]
     },
     "execution_count": 74,
     "metadata": {},
     "output_type": "execute_result"
    }
   ],
   "source": [
    "solution(100, 100, [10])"
   ]
  },
  {
   "cell_type": "code",
   "execution_count": null,
   "metadata": {},
   "outputs": [],
   "source": []
  }
 ],
 "metadata": {
  "kernelspec": {
   "display_name": "Python 3",
   "language": "python",
   "name": "python3"
  },
  "language_info": {
   "codemirror_mode": {
    "name": "ipython",
    "version": 3
   },
   "file_extension": ".py",
   "mimetype": "text/x-python",
   "name": "python",
   "nbconvert_exporter": "python",
   "pygments_lexer": "ipython3",
   "version": "3.6.6"
  }
 },
 "nbformat": 4,
 "nbformat_minor": 2
}
