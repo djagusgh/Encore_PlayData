{
 "cells": [
  {
   "cell_type": "code",
   "execution_count": 14,
   "metadata": {},
   "outputs": [],
   "source": [
    "# 시간 초과되는 코드\n",
    "\n",
    "def solution(participant, completion):\n",
    "    \n",
    "    answer = ''\n",
    "    for each in completion:\n",
    "        participant.remove(each)\n",
    "        \n",
    "    answer = participant[0]\n",
    "    \n",
    "    return answer"
   ]
  },
  {
   "cell_type": "code",
   "execution_count": 28,
   "metadata": {},
   "outputs": [],
   "source": [
    "def solution(participant, completion):\n",
    "    \n",
    "    answer = ''\n",
    "    participant.sort()\n",
    "    completion.sort()\n",
    "    \n",
    "    for idx, _ in enumerate(participant):\n",
    "        try:\n",
    "            if participant[idx] != completion[idx]:\n",
    "\n",
    "                answer = participant[idx]\n",
    "                break\n",
    "        except: # completion의 길이가 1만큼 더 짧기 때문에, indexError 발생 시 맨 마지막 원소가 답\n",
    "            answer = participant[-1]\n",
    "    \n",
    "    return answer"
   ]
  },
  {
   "cell_type": "code",
   "execution_count": 29,
   "metadata": {},
   "outputs": [
    {
     "data": {
      "text/plain": [
       "'vinko'"
      ]
     },
     "execution_count": 29,
     "metadata": {},
     "output_type": "execute_result"
    }
   ],
   "source": [
    "solution(b, c)"
   ]
  },
  {
   "cell_type": "code",
   "execution_count": 24,
   "metadata": {},
   "outputs": [
    {
     "data": {
      "text/plain": [
       "['filipa', 'josipa', 'marina', 'nikola', 'vinko']"
      ]
     },
     "execution_count": 24,
     "metadata": {},
     "output_type": "execute_result"
    }
   ],
   "source": [
    "b = ['marina', 'josipa', 'nikola', 'vinko', 'filipa']\n",
    "c = ['josipa', 'filipa', 'marina', 'nikola']\n",
    "b.sort()\n",
    "c.sort()\n",
    "b"
   ]
  },
  {
   "cell_type": "code",
   "execution_count": 25,
   "metadata": {},
   "outputs": [
    {
     "data": {
      "text/plain": [
       "['filipa', 'josipa', 'marina', 'nikola']"
      ]
     },
     "execution_count": 25,
     "metadata": {},
     "output_type": "execute_result"
    }
   ],
   "source": [
    "c"
   ]
  },
  {
   "cell_type": "code",
   "execution_count": null,
   "metadata": {},
   "outputs": [],
   "source": []
  }
 ],
 "metadata": {
  "kernelspec": {
   "display_name": "Python 3",
   "language": "python",
   "name": "python3"
  },
  "language_info": {
   "codemirror_mode": {
    "name": "ipython",
    "version": 3
   },
   "file_extension": ".py",
   "mimetype": "text/x-python",
   "name": "python",
   "nbconvert_exporter": "python",
   "pygments_lexer": "ipython3",
   "version": "3.6.7"
  }
 },
 "nbformat": 4,
 "nbformat_minor": 2
}
