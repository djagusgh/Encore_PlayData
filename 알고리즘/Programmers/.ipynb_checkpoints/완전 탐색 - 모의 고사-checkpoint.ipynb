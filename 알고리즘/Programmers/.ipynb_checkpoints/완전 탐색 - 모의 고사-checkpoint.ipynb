{
 "cells": [
  {
   "cell_type": "code",
   "execution_count": 70,
   "metadata": {},
   "outputs": [],
   "source": [
    "def solution(answers):\n",
    "    answer = []\n",
    "    # 문제 갯수\n",
    "    num_answer = len(answers)\n",
    "    \n",
    "    # 1,2,3번 수포자 정답 리스트\n",
    "    no_1 = [];no_2 = [];no_3 = []\n",
    "    \n",
    "    # 1,2,3번 정답 갯수\n",
    "    cor_1 = 0; cor_2 = 0; cor_3 = 0; \n",
    "    \n",
    "    for i in range(1, num_answer + 1):\n",
    "        # 1번 수포자\n",
    "        if i % 5 == 0:\n",
    "            no_1.append(5)\n",
    "        else:\n",
    "            no_1.append(i % 5)\n",
    "        # 2번 수포자\n",
    "        if (i % 8) % 2 == 1:no_2.append(2);\n",
    "        elif (i % 8) == 2:no_2.append(1);\n",
    "        elif (i % 8) == 4:no_2.append(3);\n",
    "        elif (i % 8) == 6:no_2.append(4);\n",
    "        else:no_2.append(5);\n",
    "        # 3번 수포자\n",
    "        if (i % 10) == 0 or (i % 10) == 9: no_3.append(5);\n",
    "        elif (i % 10) <= 2: no_3.append(3);\n",
    "        elif (i % 10) <= 4: no_3.append(1);\n",
    "        elif (i % 10) <= 6: no_3.append(2);\n",
    "        elif (i % 10) <= 8: no_3.append(4);\n",
    "    \n",
    "    for j, each in enumerate(answers):\n",
    "        if each == no_1[j]:\n",
    "            cor_1 += 1\n",
    "        if each == no_2[j]:\n",
    "            cor_2 += 1\n",
    "        if each == no_3[j]:\n",
    "            cor_3 += 1\n",
    "    \n",
    "    temp = [cor_1, cor_2, cor_3]\n",
    "    for i, each in enumerate(temp):\n",
    "        if max(temp) == each:\n",
    "            answer.append(i + 1)\n",
    "    answer.sort()\n",
    "#     if len(set(temp)) == 3:\n",
    "#         answer.append(temp.index(max(temp)) + 1)\n",
    "#     elif len(set(temp)) == 2:\n",
    "#         count = 0\n",
    "#         for each in temp:\n",
    "#             if each == max(temp):\n",
    "#                 count += 1\n",
    "#         if count == 1:\n",
    "#             answer.append(temp.index(max(temp)) + 1)\n",
    "#         elif count == 2:\n",
    "#             answer.append(temp.index(max(temp)) + 1)\n",
    "#             temp.pop(temp.index(max(temp)))\n",
    "#             answer.append(temp.index(max(temp)) + 2)\n",
    "#     else:\n",
    "#         answer = [1,2,3]\n",
    "    \n",
    "\n",
    "    return answer\n",
    "    "
   ]
  },
  {
   "cell_type": "code",
   "execution_count": 72,
   "metadata": {},
   "outputs": [
    {
     "data": {
      "text/plain": [
       "[1, 2]"
      ]
     },
     "execution_count": 72,
     "metadata": {},
     "output_type": "execute_result"
    }
   ],
   "source": [
    "solution([1,2,2,3,4])"
   ]
  },
  {
   "cell_type": "code",
   "execution_count": 64,
   "metadata": {},
   "outputs": [
    {
     "data": {
      "text/plain": [
       "0"
      ]
     },
     "execution_count": 64,
     "metadata": {},
     "output_type": "execute_result"
    }
   ],
   "source": [
    "b = [2,2, 1]\n",
    "\n",
    "b.index(max(b))"
   ]
  },
  {
   "cell_type": "code",
   "execution_count": null,
   "metadata": {},
   "outputs": [],
   "source": []
  }
 ],
 "metadata": {
  "kernelspec": {
   "display_name": "Python 3",
   "language": "python",
   "name": "python3"
  },
  "language_info": {
   "codemirror_mode": {
    "name": "ipython",
    "version": 3
   },
   "file_extension": ".py",
   "mimetype": "text/x-python",
   "name": "python",
   "nbconvert_exporter": "python",
   "pygments_lexer": "ipython3",
   "version": "3.6.7"
  }
 },
 "nbformat": 4,
 "nbformat_minor": 2
}
