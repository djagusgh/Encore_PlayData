{
 "cells": [
  {
   "cell_type": "code",
   "execution_count": 19,
   "metadata": {},
   "outputs": [],
   "source": [
    "def solution(clothes):\n",
    "    answer = 0\n",
    "    \n",
    "    parts = [i[1] for i in clothes]\n",
    "    \n",
    "    # {'headgear': ['yellow_hat', 'green_turban'], 'eyewear': ['blue_sunglasses']} 식으로 자료 구조 변경!\n",
    "    clothes_dict = {}\n",
    "    for part in parts:\n",
    "        clothes_dict[part] = [cloth[0] for cloth in clothes if cloth[1] == part]\n",
    "    \n",
    "    keys_length = len(clothes_dict.keys())\n",
    "    \n",
    "    for i in range(keys_length):\n",
    "    \n",
    "    \n",
    "    \n",
    "        \n",
    "    \n",
    "    return clothes_dict"
   ]
  },
  {
   "cell_type": "code",
   "execution_count": 20,
   "metadata": {},
   "outputs": [
    {
     "name": "stdout",
     "output_type": "stream",
     "text": [
      "        3\n"
     ]
    },
    {
     "data": {
      "text/plain": [
       "{'headgear': ['yellow_hat', 'green_turban', 'aaa'],\n",
       " 'eyewear': ['blue_sunglasses'],\n",
       " 'face': ['crow_mask']}"
      ]
     },
     "execution_count": 20,
     "metadata": {},
     "output_type": "execute_result"
    }
   ],
   "source": [
    "solution([['yellow_hat', 'headgear'], ['blue_sunglasses', 'eyewear'], ['green_turban', 'headgear'], ['aaa', 'headgear'],\n",
    "         ['crow_mask', 'face'] ])"
   ]
  },
  {
   "cell_type": "code",
   "execution_count": null,
   "metadata": {},
   "outputs": [],
   "source": []
  }
 ],
 "metadata": {
  "kernelspec": {
   "display_name": "Python 3",
   "language": "python",
   "name": "python3"
  },
  "language_info": {
   "codemirror_mode": {
    "name": "ipython",
    "version": 3
   },
   "file_extension": ".py",
   "mimetype": "text/x-python",
   "name": "python",
   "nbconvert_exporter": "python",
   "pygments_lexer": "ipython3",
   "version": "3.6.7"
  }
 },
 "nbformat": 4,
 "nbformat_minor": 2
}
