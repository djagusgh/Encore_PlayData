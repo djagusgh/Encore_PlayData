{
 "cells": [
  {
   "cell_type": "code",
   "execution_count": 26,
   "metadata": {},
   "outputs": [],
   "source": [
    "# 시간 초과하는 코드\n",
    "\n",
    "from itertools import permutations\n",
    "def solution(numbers):\n",
    "    \n",
    "    answer = 0 # 최댓값\n",
    "    index = list(range(len(numbers)))\n",
    "    allCases = permutations(index, len(index)) # 모든 경우를 보기 때문에 매우 비효율적\n",
    "    for each in allCases:\n",
    "        each_num = \"\"\n",
    "        for i in each:\n",
    "            each_num += str(numbers[i])\n",
    "        each_num = int(each_num)\n",
    "        \n",
    "        if each_num >= answer:\n",
    "            answer = each_num\n",
    "            \n",
    "    answer = str(answer)\n",
    "    \n",
    "    return answer\n",
    "        \n",
    "    "
   ]
  },
  {
   "cell_type": "code",
   "execution_count": 27,
   "metadata": {},
   "outputs": [
    {
     "data": {
      "text/plain": [
       "9534330"
      ]
     },
     "execution_count": 27,
     "metadata": {},
     "output_type": "execute_result"
    }
   ],
   "source": [
    "solution([3, 30, 34, 5, 9])"
   ]
  },
  {
   "cell_type": "code",
   "execution_count": 10,
   "metadata": {},
   "outputs": [],
   "source": [
    "def solution(numbers):\n",
    "\n",
    "    answer = \"\"\n",
    "    max_len = 0\n",
    "    reg_numbers = []\n",
    "    \n",
    "    for _, each in enumerate(numbers):\n",
    "        length = len(str(each))\n",
    "        reg_numbers.append((each, length))\n",
    "    # reg_numbers = sorted(reg_numbers, key= lambda x: x[0] / (10 ** (x[1]-1)), reverse=True)\n",
    "    \n",
    "    # 12, 121 합칠 때 12121가 출력되게 하게끔 변경    \n",
    "    # -> 4번째 오게 되는 수에 대한 예측을 sort 조건에 넣자\n",
    "    \n",
    "    print(\"        \", reg_numbers)\n",
    "    \n",
    "    # 정렬 \n",
    "    for i, each in enumerate(reg_numbers):\n",
    "        if reg_numbers[i]\n",
    "         \n",
    "    return answer"
   ]
  },
  {
   "cell_type": "code",
   "execution_count": 8,
   "metadata": {},
   "outputs": [
    {
     "name": "stdout",
     "output_type": "stream",
     "text": [
      "         [(86, 2), (5, 1), (4, 1), (3, 1), (22, 2), (121, 3), (12, 2)]\n",
      "      (86, 2)\n",
      "      (5, 1)\n",
      "      (4, 1)\n",
      "      (3, 1)\n",
      "      (22, 2)\n",
      "      (121, 3)\n",
      "      (12, 2)\n"
     ]
    },
    {
     "data": {
      "text/plain": [
       "''"
      ]
     },
     "execution_count": 8,
     "metadata": {},
     "output_type": "execute_result"
    }
   ],
   "source": [
    "solution([3,4,5, 22 , 86, 121, 12]) # ???\n"
   ]
  },
  {
   "cell_type": "code",
   "execution_count": 139,
   "metadata": {},
   "outputs": [],
   "source": [
    "def solution(numbers):\n",
    "    answer =\"\"\n",
    "    # 문제의 조건에 맞게 정렬\n",
    "#     for i in range(len(numbers)):\n",
    "#         max_idx = numbers[i:].index(max(numbers[i:], key= lambda x: int(str(x)[0]) )) + i\n",
    "#         numbers[i], numbers[max_idx] = numbers[max_idx], numbers[i]\n",
    "\n",
    "    numbers = sorted(numbers, key= lambda x: int(str(x)[0]), reverse=True )\n",
    "#     print(\"      \", numbers)\n",
    "    \n",
    "    for j in range(len(numbers)):\n",
    "        answer += str(numbers[j])\n",
    "        \n",
    "    return answer"
   ]
  },
  {
   "cell_type": "code",
   "execution_count": 140,
   "metadata": {},
   "outputs": [
    {
     "name": "stdout",
     "output_type": "stream",
     "text": [
      "       [30, 3]\n"
     ]
    },
    {
     "data": {
      "text/plain": [
       "'303'"
      ]
     },
     "execution_count": 140,
     "metadata": {},
     "output_type": "execute_result"
    }
   ],
   "source": [
    "solution([30, 3])"
   ]
  },
  {
   "cell_type": "markdown",
   "metadata": {},
   "source": [
    "##### b = [2,5,3,9,1,7]\n"
   ]
  },
  {
   "cell_type": "code",
   "execution_count": 129,
   "metadata": {},
   "outputs": [],
   "source": [
    "def solution2(numbers):\n",
    "    answer = \"\"\n",
    "    # 문제의 조건에 맞게 정렬\n",
    "    for i in range(len(numbers)):\n",
    "        for j in range( len(numbers)):\n",
    "            \n",
    "            temp1 = str(numbers[i]) + str(numbers[j])\n",
    "            temp2 = str(numbers[j]) + str(numbers[i])\n",
    "            if len(temp1) >= 4 and int(temp1[3]) > int(temp2[3]):\n",
    "                pass\n",
    "            elif int(str(numbers[i])[0]) >= int(str(numbers[j])[0]):\n",
    "                numbers[i], numbers[j] = numbers[j], numbers[i]\n",
    "            \n",
    "            \n",
    "    print(\"       \", numbers)\n",
    "    \n",
    "                \n",
    "    "
   ]
  },
  {
   "cell_type": "code",
   "execution_count": 131,
   "metadata": {},
   "outputs": [
    {
     "name": "stdout",
     "output_type": "stream",
     "text": [
      "        [6, 5, 4, 3, 2, 2, 121, 12]\n"
     ]
    }
   ],
   "source": [
    "solution2([5,6,2,2,121,12, 3, 4])"
   ]
  },
  {
   "cell_type": "code",
   "execution_count": null,
   "metadata": {},
   "outputs": [],
   "source": []
  }
 ],
 "metadata": {
  "kernelspec": {
   "display_name": "Python 3",
   "language": "python",
   "name": "python3"
  },
  "language_info": {
   "codemirror_mode": {
    "name": "ipython",
    "version": 3
   },
   "file_extension": ".py",
   "mimetype": "text/x-python",
   "name": "python",
   "nbconvert_exporter": "python",
   "pygments_lexer": "ipython3",
   "version": "3.6.7"
  }
 },
 "nbformat": 4,
 "nbformat_minor": 2
}
