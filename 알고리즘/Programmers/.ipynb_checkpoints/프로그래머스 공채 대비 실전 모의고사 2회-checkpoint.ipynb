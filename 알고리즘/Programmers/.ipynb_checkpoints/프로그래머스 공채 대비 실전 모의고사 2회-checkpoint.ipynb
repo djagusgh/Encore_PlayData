{
 "cells": [
  {
   "cell_type": "markdown",
   "metadata": {},
   "source": [
    "# 1~ 3번 내가 푼 풀이"
   ]
  },
  {
   "cell_type": "markdown",
   "metadata": {},
   "source": [
    "### 1번 배열 회전"
   ]
  },
  {
   "cell_type": "code",
   "execution_count": null,
   "metadata": {},
   "outputs": [],
   "source": [
    "arr1 = [4,3,2,1]\n",
    "\n",
    "def rotate(arr):\n",
    "    answer = []\n",
    "    answer.append(arr[-1])\n",
    "    for i in range(0, len(arr)-1):\n",
    "        answer.append(arr[i])\n",
    "    return answer\n",
    "\n",
    "def solution(arrA, arrB):\n",
    "    answer = True\n",
    "    \n",
    "    if len(arrA) != len(arrB):\n",
    "        return False\n",
    "    \n",
    "    count = 0\n",
    "    i = 0 \n",
    "    while(i < len(arrA)):\n",
    "        arrA = rotate(arrA)\n",
    "        if arrA != arrB:\n",
    "            count += 1\n",
    "        i += 1\n",
    "            \n",
    "    if count == len(arrA):\n",
    "        answer = False\n",
    "    else:\n",
    "        answer = True   \n",
    "    return answer\n"
   ]
  },
  {
   "cell_type": "markdown",
   "metadata": {},
   "source": [
    "## 2번 가로등\n",
    "\n",
    "<br>\n",
    "길이가 l인 도로에 가로등이 여러대 놓여 있습니다. 전체 도로를 밝히기 위해 좌/우 각각 d만큼을 밝히는 전구를 사려고합니다. 이때 d 값이 충분히 크다면 전체 도로를 밝게 비출 수 있지만, d 값이 작다면 일부 도로는 빛이 닿지 않습니다.\n",
    "<br>\n",
    "도로 길이 l과 가로등의 위치 v가 주어졌을 때, 도로를 모두 밝히는 d 값 중 최솟값을 구해주세요.\n",
    "\n"
   ]
  },
  {
   "cell_type": "code",
   "execution_count": 181,
   "metadata": {},
   "outputs": [],
   "source": [
    "def solution(l, v):\n",
    "    d = 0\n",
    "    # 정렬\n",
    "    v.sort()\n",
    "    # 인접 가로등 간 거리를 담는 리스트\n",
    "    if len(v) >= 2:\n",
    "        distances = [v[i] - v[i-1] for i in range(1, len(v))]\n",
    "        left_d = v[0]\n",
    "        right_d = l - v[-1]\n",
    "        \n",
    "        max_d = max(distances)\n",
    "        if max_d % 2 == 0:\n",
    "            d = max(int(max_d/2), left_d, right_d)\n",
    "        else:\n",
    "            d = max(int(max_d/2) + 1, left_d, right_d)\n",
    "        return d\n",
    "    \n",
    "    else: # 가로등 갯수 1개\n",
    "        left_d = v[0]\n",
    "        right_d = l - v[0]\n",
    "        d = max(left_d, right_d)\n",
    "        return d\n",
    "        \n"
   ]
  },
  {
   "cell_type": "markdown",
   "metadata": {},
   "source": [
    "### 빙고 게임\n",
    "\n",
    "<br> --> O(n^3)에서 시간복잡도를 더 줄이는 법을 찾지 못함\n"
   ]
  },
  {
   "cell_type": "code",
   "execution_count": 4,
   "metadata": {},
   "outputs": [],
   "source": [
    "def count_zero(arr):\n",
    "    count = 0\n",
    "    for each in arr:\n",
    "        if each == 0:\n",
    "            count += 1\n",
    "    return count\n",
    "\n",
    "def solution(board, nums):\n",
    "    answer = 0\n",
    "    length = len(board)\n",
    "    \n",
    "    # 매칭되는 것 -> 0으로 , 줄의 합이 0이면 빙고 + 1\n",
    "    for row in board:\n",
    "        for i in range(length):\n",
    "            if row[i] in nums:\n",
    "                row[i] = 0\n",
    "                \n",
    "    # 가로,세로 판정 \n",
    "    for i, row in enumerate(board):\n",
    "        column = [board[j][i] for j in range(length)]\n",
    "        if sum(row) == 0:\n",
    "            answer += 1\n",
    "        if sum(column) == 0:\n",
    "            answer += 1\n",
    "        \n",
    "    # 대각선\n",
    "    diag1 = [board[i][i] for i in range(length)]\n",
    "    diag2 = [board[i][length-i-1] for i in range(length)]\n",
    "    if sum(diag1) == 0:\n",
    "        answer += 1\n",
    "    if sum(diag2) == 0:\n",
    "        answer += 1\n",
    "\n",
    "    return answer"
   ]
  },
  {
   "cell_type": "markdown",
   "metadata": {},
   "source": [
    "# 해설\n"
   ]
  },
  {
   "cell_type": "markdown",
   "metadata": {},
   "source": [
    "### 1번 배열 회전"
   ]
  },
  {
   "cell_type": "code",
   "execution_count": 1,
   "metadata": {},
   "outputs": [],
   "source": [
    "def rotate(arr):\n",
    "    return arr[-1:] + arr[:-1]\n",
    "\n",
    "def solution(arrA, arrB):\n",
    "    arrA_len = len(arrA)\n",
    "    arrA_len = len(arrB)\n",
    "    \n",
    "    # 길이가 다른 배열은 회전해도 같아질 수 없으므로, early return\n",
    "    if(arrA_len!=arrB_len):\n",
    "        return False\n",
    "    \n",
    "    # arrA를 한칸씩 회전하며, arrB와 같은지 확인\n",
    "    for _ in range(arrA_len):\n",
    "        if arrA == arrB:\n",
    "            return true\n",
    "        arrA = rotate(arA)\n",
    "    return False"
   ]
  },
  {
   "cell_type": "markdown",
   "metadata": {},
   "source": [
    "## 2번 가로등"
   ]
  },
  {
   "cell_type": "markdown",
   "metadata": {},
   "source": [
    "####  1) Sorting & Greedy  - O(nlogn)"
   ]
  },
  {
   "cell_type": "code",
   "execution_count": 3,
   "metadata": {},
   "outputs": [],
   "source": [
    "# l : 도로의 길이, v : 가로등의 위치 담는 배열\n",
    "\n",
    "def solution(l, v):\n",
    "    v.sort()\n",
    "    ans = max(v[0], l - v[-1])\n",
    "    for i in range(l, len(v)):\n",
    "        ans = max(ans, (v[i] - v[i-1] + 1)//2)\n",
    "    return answer"
   ]
  },
  {
   "cell_type": "markdown",
   "metadata": {},
   "source": [
    "#### 2) binary search - O(nlogn)"
   ]
  },
  {
   "cell_type": "code",
   "execution_count": 5,
   "metadata": {},
   "outputs": [],
   "source": [
    "def solution(l, v):\n",
    "    n = len(v)\n",
    "    answer = l\n",
    "    v.sort()\n",
    "    \n",
    "    left, right = 0, l\n",
    "    while(left <= right) :\n",
    "        mid = (left + right) // 2\n",
    "        \n",
    "        # 맨 앞 가로등과 맨 뒤 가로등이 도로의 양 끝을 지나는지 확인\n",
    "        if v[0] - mid > 0 or v[n-1] + mid < l :\n",
    "            left = mid + 1\n",
    "            continue\n",
    "        \n",
    "        # 나머지 가로등으로 이분 탐색\n",
    "        flag = False\n",
    "        for i in range(1, n) :\n",
    "            if v[i-1] + mid < v[i] - mid :\n",
    "                flag = True\n",
    "                break\n",
    "        if flag:\n",
    "            left = mid + 1\n",
    "        else:\n",
    "            answer = mid\n",
    "            right = mid - 1\n",
    "        \n",
    "    return answer"
   ]
  },
  {
   "cell_type": "markdown",
   "metadata": {},
   "source": [
    "## 3.빙고"
   ]
  },
  {
   "cell_type": "code",
   "execution_count": 9,
   "metadata": {},
   "outputs": [],
   "source": [
    "# board : 2차원 배열\n",
    "# nums : 사용자가 말한 숫자 배열\n",
    "\n",
    "def solution(board, nums):\n",
    "    n = len(board)\n",
    "    vertical = [0 for _ in range(n)]\n",
    "    horizontal = [0 for _ in range(n)]\n",
    "    lu_diag = 0\n",
    "    ru_diag = 0\n",
    "    \n",
    "    # 중요) 탐색을 O(1)로 하기 위해 nums를 set 자료구조로 변환\n",
    "    \n",
    "    nums = set(nums)\n",
    "    for p in range(n):\n",
    "        for q in range(n):\n",
    "            if board[p][q] in nums:\n",
    "                horizontal[q] += 1\n",
    "                vertical[p] += 1\n",
    "                if p == q:\n",
    "                    lu_diag += 1\n",
    "                if p + q == n - 1:\n",
    "                    ru_diag += 1\n",
    "        \n",
    "    cnt = 0\n",
    "    cnt += vertical.count(n)\n",
    "    cnt += horizontal.count(n)\n",
    "    \n",
    "    if lu_diag == n:\n",
    "        cnt += 1\n",
    "    if ru_diag == n:\n",
    "        cnt += 1\n",
    "    return cnt"
   ]
  },
  {
   "cell_type": "code",
   "execution_count": 8,
   "metadata": {},
   "outputs": [
    {
     "data": {
      "text/plain": [
       "2"
      ]
     },
     "execution_count": 8,
     "metadata": {},
     "output_type": "execute_result"
    }
   ],
   "source": []
  },
  {
   "cell_type": "code",
   "execution_count": null,
   "metadata": {},
   "outputs": [],
   "source": []
  }
 ],
 "metadata": {
  "kernelspec": {
   "display_name": "Python 3",
   "language": "python",
   "name": "python3"
  },
  "language_info": {
   "codemirror_mode": {
    "name": "ipython",
    "version": 3
   },
   "file_extension": ".py",
   "mimetype": "text/x-python",
   "name": "python",
   "nbconvert_exporter": "python",
   "pygments_lexer": "ipython3",
   "version": "3.6.7"
  }
 },
 "nbformat": 4,
 "nbformat_minor": 2
}
