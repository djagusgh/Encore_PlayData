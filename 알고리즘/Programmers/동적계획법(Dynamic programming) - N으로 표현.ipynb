{
 "cells": [
  {
   "cell_type": "code",
   "execution_count": null,
   "metadata": {},
   "outputs": [],
   "source": [
    "def solution(N,number):\n",
    "    \"\"\"\n",
    "    number : 큰 수\n",
    "    N      : 1~9 사이 수\n",
    "    \"\"\"\n",
    "    \n",
    "    \n",
    "    if N == 1:\n",
    "        return number\n",
    "    if number == 1:\n",
    "        return 2\n",
    "    \n",
    "    if number % N == 0:\n",
    "        return int(number / N)\n",
    "    elif:\n",
    "        \n",
    "    \n",
    "    \n",
    "\n",
    "    "
   ]
  },
  {
   "cell_type": "code",
   "execution_count": null,
   "metadata": {},
   "outputs": [],
   "source": [
    "def plus():\n",
    "        "
   ]
  },
  {
   "cell_type": "code",
   "execution_count": null,
   "metadata": {},
   "outputs": [],
   "source": [
    "def minus():"
   ]
  }
 ],
 "metadata": {
  "kernelspec": {
   "display_name": "Python 3",
   "language": "python",
   "name": "python3"
  },
  "language_info": {
   "codemirror_mode": {
    "name": "ipython",
    "version": 3
   },
   "file_extension": ".py",
   "mimetype": "text/x-python",
   "name": "python",
   "nbconvert_exporter": "python",
   "pygments_lexer": "ipython3",
   "version": "3.6.7"
  }
 },
 "nbformat": 4,
 "nbformat_minor": 2
}
