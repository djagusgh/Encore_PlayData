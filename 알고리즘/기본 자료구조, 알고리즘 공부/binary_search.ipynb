{
 "cells": [
  {
   "cell_type": "markdown",
   "metadata": {},
   "source": [
    "## 1. 반복문을 사용한 이진 탐색"
   ]
  },
  {
   "cell_type": "code",
   "execution_count": 106,
   "metadata": {},
   "outputs": [],
   "source": [
    "# 1) 찾는 숫자가 있으면 찾는 숫자의 인덱스 리턴\n",
    "# 2) 아닌 경우 -1 리턴\n",
    "\n",
    "def binary_search(arr, x, lo=0, hi=None): # arr : 정렬되어있다고 가정\n",
    "    if lo < 0:\n",
    "        raise ValueError('lo must be non-negative')        \n",
    "    if hi is None:\n",
    "        hi = len(arr) - 1\n",
    "        \n",
    "        while hi >= lo: # hi\n",
    "            mid = (lo + hi) // 2\n",
    "            \n",
    "            if x > arr[mid]:\n",
    "                lo = mid + 1\n",
    "            elif x < arr[mid]:\n",
    "                hi = mid - 1\n",
    "            else:\n",
    "                return mid\n",
    "        \n",
    "        return -1 # 발견되지 않았을 때 if low -1 을 리턴하면 x가 들어갈 위치 바로 왼쪽의 값을 리턴한다!"
   ]
  },
  {
   "cell_type": "code",
   "execution_count": 110,
   "metadata": {},
   "outputs": [
    {
     "data": {
      "text/plain": [
       "-1"
      ]
     },
     "execution_count": 110,
     "metadata": {},
     "output_type": "execute_result"
    }
   ],
   "source": [
    "arr = [2,4,6,7,13,19,21]\n",
    "x = 4\n",
    "binary_search(arr, 3)"
   ]
  },
  {
   "cell_type": "markdown",
   "metadata": {},
   "source": [
    "## 2. 재귀함수 이용한 이진 탐색 "
   ]
  },
  {
   "cell_type": "code",
   "execution_count": 178,
   "metadata": {},
   "outputs": [],
   "source": [
    "def binary_search_recursion(arr, x, lo, hi):\n",
    "    \n",
    "    if lo > hi:\n",
    "        return None    \n",
    "    mid = (lo + hi) // 2\n",
    "\n",
    "    if x == arr[mid]:\n",
    "        return mid\n",
    "    elif x > arr[mid]:\n",
    "        \n",
    "    \n",
    "\n",
    "    \n",
    "\n"
   ]
  },
  {
   "cell_type": "code",
   "execution_count": 179,
   "metadata": {},
   "outputs": [
    {
     "data": {
      "text/plain": [
       "1"
      ]
     },
     "execution_count": 179,
     "metadata": {},
     "output_type": "execute_result"
    }
   ],
   "source": [
    "binary_search_recursion(arr=[2,4,6,8,10], x=4, lo=0,hi=4)\n"
   ]
  },
  {
   "cell_type": "code",
   "execution_count": null,
   "metadata": {},
   "outputs": [],
   "source": [
    "#     if lo > hi:\n",
    "#         return None\n",
    "    \n",
    "#     mid = (hi + lo) // 2\n",
    "    \n",
    "#     if x == arr[mid]:\n",
    "#         return mid\n",
    "#     elif x > arr[mid]:\n",
    "#         return binary_search_recursion(arr, x, mid + 1, hi)\n",
    "#     else:\n",
    "#         return binary_search_recursion(arr, x, lo, mid - 1)"
   ]
  },
  {
   "cell_type": "code",
   "execution_count": null,
   "metadata": {},
   "outputs": [],
   "source": []
  }
 ],
 "metadata": {
  "kernelspec": {
   "display_name": "Python 3",
   "language": "python",
   "name": "python3"
  },
  "language_info": {
   "codemirror_mode": {
    "name": "ipython",
    "version": 3
   },
   "file_extension": ".py",
   "mimetype": "text/x-python",
   "name": "python",
   "nbconvert_exporter": "python",
   "pygments_lexer": "ipython3",
   "version": "3.6.7"
  }
 },
 "nbformat": 4,
 "nbformat_minor": 2
}
