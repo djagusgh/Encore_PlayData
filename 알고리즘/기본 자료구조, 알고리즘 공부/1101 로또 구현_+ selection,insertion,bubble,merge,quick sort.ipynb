{
 "cells": [
  {
   "cell_type": "code",
   "execution_count": null,
   "metadata": {},
   "outputs": [],
   "source": [
    "import random"
   ]
  },
  {
   "cell_type": "code",
   "execution_count": 18,
   "metadata": {},
   "outputs": [
    {
     "data": {
      "text/plain": [
       "[1, 4, 9, 16, 25]"
      ]
     },
     "execution_count": 18,
     "metadata": {},
     "output_type": "execute_result"
    }
   ],
   "source": [
    "# 함수형 프로그래밍\n",
    "a = [1,2,3,4,5]\n",
    "b = list(map(lambda x : x*x, a))"
   ]
  },
  {
   "cell_type": "code",
   "execution_count": 19,
   "metadata": {},
   "outputs": [
    {
     "data": {
      "text/plain": [
       "5"
      ]
     },
     "execution_count": 19,
     "metadata": {},
     "output_type": "execute_result"
    }
   ],
   "source": [
    "# 다른 함수로부터 함수가 리턴될 수 있다.\n",
    "def foo(x):\n",
    "    def bar(y):\n",
    "        return x + y\n",
    "    return bar\n",
    "f = foo(3)\n",
    "f(2)"
   ]
  },
  {
   "cell_type": "code",
   "execution_count": null,
   "metadata": {},
   "outputs": [],
   "source": []
  },
  {
   "cell_type": "code",
   "execution_count": 10,
   "metadata": {},
   "outputs": [],
   "source": [
    "def lotto_game(): # 실제 로또 게임 구현\n",
    "    \"\"\"\n",
    "    1. 게임을 몇 회 진행할지 받음(num_game)\n",
    "    2. 답 설정 - 실제 로또 게임처럼 45개의 공을 섞고 7개를 뽑고, 합이 100보다 작거나 170보다 크면 답을 다시 만듦\n",
    "    3. num_game 만큼 사용자가 답을 입력(입력 숫자 7개 : guess(리스트)에 저장, guess를 다시 guess_list에 저장)\n",
    "    4. 각 guess와 answer 비교 -> 몇 개 숫자 맞는지 확인(correct), correct를 correct_list에 저장)\n",
    "    5. correct 중 가장 큰 값(final_correct)을 이용해 몇 등인지를 산출\n",
    "    \"\"\"\n",
    "    # random.seed(1)  test 용\n",
    "    import random\n",
    "   \n",
    "    # 1. 게임을 몇 회 진행할지 받음(num_game)\n",
    "    \n",
    "    while(True):\n",
    "        num_game = int(input(\"몇 회 진행하시겠습니까(최대 5회) : \"))\n",
    "        if num_game > 5:\n",
    "            print(\"횟수가 너무 많습니다. 다시 입력해주세요.\")\n",
    "        else:\n",
    "            break\n",
    "            \n",
    "    #2. 답 설정 - 실제 로또 게임처럼 45개의 공을 섞고 7개를 뽑고, 합이 100보다 작거나 170보다 크면 답을 다시 만듦\n",
    "    while(True):\n",
    "        balls = [i for i in range(1, 46)]\n",
    "        random.shuffle(balls)\n",
    "        # (마지막 : 2등 보너스 볼)\n",
    "        answer = [balls[i] for i in range(7)]\n",
    "        if sum(answer) < 100 or sum(answer) > 170:\n",
    "            print(\"나올 확률이 너무 작은 값 {}\".format(answer))\n",
    "            print(\"합 100미만 170이상은 확률적으로 너무 낮은 값입니다. 답을 재설정합니다.\")\n",
    "            pass\n",
    "        break\n",
    "    \n",
    "    # 3. num_game 만큼 사용자가 답을 입력(입력 숫자 7개 : guess(리스트)에 저장, guess를 다시 guess_list에 저장)\n",
    "    guess_list = [] # 사용자 입력값을 받는 이중 리스트\n",
    "    for i in range(num_game):\n",
    "        print(\"{} 번째\".format(i + 1))\n",
    "        guess = []\n",
    "        j = 1\n",
    "        while(j <= 7):\n",
    "            num = int(input(\"1부터 45까지의 번호를 입력하세요 : \"))\n",
    "            if num >= 46:\n",
    "                print(\"45보다 큰 숫자입니다. 다시 입력하세요.\")\n",
    "            else:\n",
    "                guess.append(num)\n",
    "                j += 1\n",
    "        guess_list.append(guess)\n",
    "    \n",
    "    print(\"사용자가 입력한 로또 번호는 {} 입니다.\".format(guess_list))\n",
    "    print(\"이번 로또의 정답은 {} 입니다.\".format(answer))\n",
    "    \n",
    "    # 4. 각 guess와 answer 비교 -> 몇 개 숫자 맞는지 확인(correct), correct를 correct_list에 저장)\n",
    "    \n",
    "    correct_list = []\n",
    "    for guess in guess_list:\n",
    "        correct = 0\n",
    "        for i in range(6):\n",
    "            if guess[i] in answer:\n",
    "                correct += 1\n",
    "        correct_list.append(correct)\n",
    "    final_correct = max(correct_list)\n",
    "    final_guess = guess_list[correct_list.index(final_correct)]\n",
    "    \n",
    "    print(\"가장 높게 맞춘 갯수 : {}\".format(final_correct))\n",
    "    print(\"이 때 사용자의 입력값 : {}\".format(final_guess))\n",
    "       \n",
    "    # 5. correct 중 가장 큰 값(final_correct)을 이용해 몇 등인지를 산출\n",
    "    # 2등, 3등 같이 있으면 문제 있음 -> 그럴 확률 거의 0에 가깝다고 생각...\n",
    "    rank = \"\"\n",
    "    if final_correct == 6: rank = \"1등\";\n",
    "    elif final_correct == 5:\n",
    "        # 2등인지 3등인지 구별\n",
    "        if final_guess[6] == answer[6]:\n",
    "            rank = \"2등\";\n",
    "        else:\n",
    "            rank = \"3등\";\n",
    "    elif final_correct == 4: rank = \"4등\";\n",
    "    elif final_correct == 3: rank = \"5등\";\n",
    "    else: rank = \"꽝입니다.\";\n",
    "    return rank\n",
    "\n",
    "# print(lotto_game())"
   ]
  },
  {
   "cell_type": "code",
   "execution_count": 11,
   "metadata": {},
   "outputs": [
    {
     "name": "stdout",
     "output_type": "stream",
     "text": [
      "몇 회 진행하시겠습니까(최대 5회) : 2\n",
      "1 번째\n",
      "1부터 45까지의 번호를 입력하세요 : 1\n",
      "1부터 45까지의 번호를 입력하세요 : 2\n",
      "1부터 45까지의 번호를 입력하세요 : 3\n",
      "1부터 45까지의 번호를 입력하세요 : 4\n",
      "1부터 45까지의 번호를 입력하세요 : 5\n",
      "1부터 45까지의 번호를 입력하세요 : 6\n",
      "1부터 45까지의 번호를 입력하세요 : 7\n",
      "2 번째\n",
      "1부터 45까지의 번호를 입력하세요 : 3\n",
      "1부터 45까지의 번호를 입력하세요 : 10\n",
      "1부터 45까지의 번호를 입력하세요 : 43\n",
      "1부터 45까지의 번호를 입력하세요 : 33\n",
      "1부터 45까지의 번호를 입력하세요 : 5\n",
      "1부터 45까지의 번호를 입력하세요 : 25\n",
      "1부터 45까지의 번호를 입력하세요 : 12\n",
      "사용자가 입력한 로또 번호는 [[1, 2, 3, 4, 5, 6, 7], [3, 10, 43, 33, 5, 25, 12]] 입니다.\n",
      "이번 로또의 정답은 [32, 4, 21, 37, 1, 5, 26] 입니다.\n",
      "가장 높게 맞춘 갯수 : 3\n",
      "이 때 사용자의 입력값 : [1, 2, 3, 4, 5, 6, 7]\n",
      "5등\n"
     ]
    }
   ],
   "source": [
    "print(lotto_game())"
   ]
  },
  {
   "cell_type": "code",
   "execution_count": 6,
   "metadata": {},
   "outputs": [],
   "source": [
    "# [3, 10, 43, 33, 6, 26, 13]"
   ]
  },
  {
   "cell_type": "markdown",
   "metadata": {},
   "source": [
    "# 정렬 알고리즘 공부"
   ]
  },
  {
   "cell_type": "markdown",
   "metadata": {},
   "source": [
    "# 1. 선택 정렬(selection sort)\n",
    "<img src = \"insertion_sort.png\" width=\"300\" height=\"300\">\n",
    "\n",
    "###  \n",
    "### 1. 주어진 리스트 중에 최소값을 찾는다.\n",
    "### 2. 그 값을 맨 앞에 위치한 값과 교체한다(패스(pass)).\n",
    "### 3. 맨 처음 위치를 뺀 나머지 리스트를 같은 방법으로 교체한다.\n"
   ]
  },
  {
   "cell_type": "code",
   "execution_count": 185,
   "metadata": {},
   "outputs": [],
   "source": [
    "def selection_sort(a):\n",
    "    for i in range(len(a) - 1):\n",
    "        # 1. i번째 원소를 min_idx로 저장\n",
    "        min_idx = i\n",
    "        # 2. i+1 index~ 끝까지 중에 최솟값의 index 찾기\n",
    "        for j in range(i + 1, len(a)):\n",
    "            if a[j] < a[min_idx]:\n",
    "                min_idx = j\n",
    "        # 3. 두 원소 위치 바꿔주기\n",
    "        a[i], a[min_idx] = a[min_idx], a[i]\n",
    "    return a    "
   ]
  },
  {
   "cell_type": "code",
   "execution_count": 186,
   "metadata": {},
   "outputs": [
    {
     "data": {
      "text/plain": [
       "[1, 2, 3, 5, 7, 8]"
      ]
     },
     "execution_count": 186,
     "metadata": {},
     "output_type": "execute_result"
    }
   ],
   "source": [
    "selection_sort([5,7,8,2,3,1])"
   ]
  },
  {
   "cell_type": "markdown",
   "metadata": {},
   "source": [
    "# 2. 삽입 정렬\n",
    "<img src = \"insertion_sort.png\" width=\"300\" height=\"300\">\n",
    "\n",
    "###   \n",
    "\n",
    "###  자료 배열의 모든 요소를 앞에서부터 차례대로 이미 정렬된 배열 부분과 비교하여, \n",
    "\n",
    "### 자신의 위치를 찾아 삽입함으로써 정렬을 완성하는 알고리즘이다.\n",
    "\n",
    "### k번째 반복 후의 결과 배열은, 앞쪽 k + 1 항목이 정렬된 상태이다."
   ]
  },
  {
   "cell_type": "code",
   "execution_count": 210,
   "metadata": {},
   "outputs": [],
   "source": [
    "# 2) insertion sort\n",
    "def insertion_sort(a):\n",
    "    for i in range(1, len(a)):\n",
    "        # i - 1까지의 리스트는 정렬되어있음!\n",
    "        # a[i]가 새로 들어갈 자리를 찾고, 그 자리에 삽입하는 for문\n",
    "        for j in range(0, i):\n",
    "            if a[j] > a[i]:\n",
    "                temp = a.pop(i)\n",
    "                a.insert(j, temp)        \n",
    "    return a"
   ]
  },
  {
   "cell_type": "code",
   "execution_count": 212,
   "metadata": {},
   "outputs": [
    {
     "name": "stdout",
     "output_type": "stream",
     "text": [
      "[1, 3, 5, 7, 8, 9]\n"
     ]
    }
   ],
   "source": [
    "print(insertion_sort([1,5,7,3,8,9]))"
   ]
  },
  {
   "cell_type": "markdown",
   "metadata": {},
   "source": [
    "# 3. 합병 정렬(merge sort)\n",
    "\n",
    "<img src = \"merge_sort.png\" width=\"300\" height=\"300\">\n",
    "\n",
    "####   \n",
    "#### 1. 리스트의 길이가 0 또는 1이면 이미 정렬된 것으로 본다. 그렇지 않은 경우에는\n",
    "#### 정렬되지 않은 리스트를 절반으로 잘라 비슷한 크기의 두 부분 리스트로 나눈다.\n",
    "#### 3. 각 부분 리스트를 재귀적으로 합병 정렬을 이용해 정렬한다.\n",
    "#### 4. 두 부분 리스트를 다시 하나의 정렬된 리스트로 합병한다.\n",
    "\n"
   ]
  },
  {
   "cell_type": "code",
   "execution_count": 280,
   "metadata": {},
   "outputs": [],
   "source": [
    "def merge(a, b): # a, b 두 list를 합치면서 정렬하는 함수\n",
    "    answer = []\n",
    "    i = 0\n",
    "    j = 0\n",
    "    while(i < len(a) and j < len(b)):\n",
    "        if(a[i] < b[j]):\n",
    "            answer.append(a[i])\n",
    "            i += 1\n",
    "        else:\n",
    "            answer.append(b[j])\n",
    "            j += 1\n",
    "    # while문 나왔을 때 남은 것들(a, b 길이가 다를 때) 한 번에 answer로 집어넣음\n",
    "    if i == len(a):\n",
    "        for k in range(j, len(b)):\n",
    "            answer.append(b[k])\n",
    "    if j == len(b):\n",
    "        for k in range(i, len(a)):\n",
    "            answer.append(a[k])\n",
    "    return answer\n",
    "\n",
    "def merge_sort(c):\n",
    "    if(len(c) == 1):\n",
    "        return c\n",
    "    front = c[:int(0.5*len(c))] \n",
    "    back = c[int(0.5*len(c)):]\n",
    "    d = merge_sort(front)\n",
    "    e = merge_sort(back)\n",
    "    c = merge(d, e)\n",
    "    \n",
    "    return c"
   ]
  },
  {
   "cell_type": "code",
   "execution_count": 310,
   "metadata": {},
   "outputs": [
    {
     "name": "stdout",
     "output_type": "stream",
     "text": [
      "[1, 2, 3, 4, 5, 6, 8, 10]\n",
      "[1, 2, 3, 4, 5, 7, 8, 10]\n"
     ]
    }
   ],
   "source": [
    "print(merge_sort([1,3,5,7,10,4,8,2]))"
   ]
  },
  {
   "cell_type": "markdown",
   "metadata": {},
   "source": [
    "# 4. 거품 정렬(Bubble Sort)\n",
    "\n",
    "<img src = \"bubble_sort.png\" width=\"300\" height=\"300\">\n",
    "\n",
    "###   \n",
    "### 두 인접한 원소를 검사하여 정렬하는 방법\n",
    "### 간단하지만, 비효율적인 방법\n"
   ]
  },
  {
   "cell_type": "code",
   "execution_count": 7,
   "metadata": {},
   "outputs": [],
   "source": [
    "def bubble_sort(a):\n",
    "    for i in range(len(a) - 1):\n",
    "        for j in range(len(a) - 1):\n",
    "            if a[j] > a[j + 1]:\n",
    "                # 두 원소의 위치를 바꿔줌\n",
    "                a[j], a[j + 1] = a[j + 1], a[j]\n",
    "    return a"
   ]
  },
  {
   "cell_type": "code",
   "execution_count": 8,
   "metadata": {},
   "outputs": [
    {
     "data": {
      "text/plain": [
       "[1, 2, 5, 7, 8, 9]"
      ]
     },
     "execution_count": 8,
     "metadata": {},
     "output_type": "execute_result"
    }
   ],
   "source": [
    "bubble_sort([2,5,7,8,9,1])"
   ]
  },
  {
   "cell_type": "markdown",
   "metadata": {},
   "source": [
    "# 5. 퀵 정렬(Quick Sort)\n",
    "\n",
    "<img src = \"quick_sort.png\" width=\"300\" height=\"300\">\n",
    "\n",
    "### 리스트 가운데서 하나의 원소를 고른다. 이렇게 고른 원소를 피벗이라고 한다.\n",
    "### 피벗 앞에는 피벗보다 값이 작은 모든 원소들이 오고, 피벗 뒤에는 피벗보다 값이 큰 모든 원소들이 오도록 피벗을 기준으로 리스트를 둘로 나눈다. 이렇게 리스트를 둘로 나누는 것을 분할이라고 한다. 분할을 마친 뒤에 피벗은 더 이상 움직이지 않는다.\n",
    "### 분할된 두 개의 작은 리스트에 대해 재귀(Recursion)적으로 이 과정을 반복한다. 재귀는 리스트의 크기가 0이나 1이 될 때까지 반복된다."
   ]
  },
  {
   "cell_type": "code",
   "execution_count": 26,
   "metadata": {},
   "outputs": [],
   "source": [
    "def position_pivot(a):\n",
    "    \"\"\"\n",
    "    pivot 기준으로 \n",
    "    \"\"\"\n",
    "    # a[0]을 pivot으로 생각!\n",
    "    left = 1\n",
    "    right = len(a) - 1\n",
    "    while(right > left):\n",
    "        if right >\n",
    "\n",
    "    # pivot 위치 결정\n",
    "    a[0], a[right] = a[right], a[0]\n",
    "    return right\n",
    "\n",
    "def quick_sort(a):\n",
    "    if len(a) <= 1:\n",
    "        return a\n",
    "\n",
    "    index = position_pivot(a)\n",
    "    print(index)\n",
    "    front = a[:index]\n",
    "    back = a[index+1:]\n",
    "    print(front)\n",
    "    print(back)\n",
    "    quick_sort(front)\n",
    "    quick_sort(back)\n",
    "    \n",
    "    return a"
   ]
  },
  {
   "cell_type": "code",
   "execution_count": 27,
   "metadata": {},
   "outputs": [
    {
     "data": {
      "text/plain": [
       "4"
      ]
     },
     "execution_count": 27,
     "metadata": {},
     "output_type": "execute_result"
    }
   ],
   "source": [
    "c = [5,3,8,4,9,1,6,2,7]\n",
    "position_pivot(c)\n"
   ]
  },
  {
   "cell_type": "markdown",
   "metadata": {},
   "source": [
    "\n"
   ]
  },
  {
   "cell_type": "code",
   "execution_count": 28,
   "metadata": {},
   "outputs": [
    {
     "name": "stdout",
     "output_type": "stream",
     "text": [
      "1\n",
      "[3]\n",
      "[2, 4, 5, 9, 6, 8, 7]\n",
      "1\n",
      "[4]\n",
      "[5, 9, 6, 8, 7]\n",
      "1\n",
      "[9]\n",
      "[6, 8, 7]\n",
      "1\n",
      "[8]\n",
      "[7]\n"
     ]
    },
    {
     "data": {
      "text/plain": [
       "[3, 1, 2, 4, 5, 9, 6, 8, 7]"
      ]
     },
     "execution_count": 28,
     "metadata": {},
     "output_type": "execute_result"
    }
   ],
   "source": [
    "quick_sort(c)"
   ]
  },
  {
   "cell_type": "code",
   "execution_count": null,
   "metadata": {},
   "outputs": [],
   "source": []
  }
 ],
 "metadata": {
  "kernelspec": {
   "display_name": "Python 3",
   "language": "python",
   "name": "python3"
  },
  "language_info": {
   "codemirror_mode": {
    "name": "ipython",
    "version": 3
   },
   "file_extension": ".py",
   "mimetype": "text/x-python",
   "name": "python",
   "nbconvert_exporter": "python",
   "pygments_lexer": "ipython3",
   "version": "3.7.1"
  }
 },
 "nbformat": 4,
 "nbformat_minor": 2
}
