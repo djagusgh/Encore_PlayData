{
 "cells": [
  {
   "cell_type": "code",
   "execution_count": 3,
   "metadata": {},
   "outputs": [],
   "source": [
    "# 이진 트리\n",
    "\n",
    "class Node:\n",
    "    def __init__(self, data):\n",
    "        self.data = data\n",
    "        self.left = None\n",
    "        self.right = None"
   ]
  },
  {
   "cell_type": "code",
   "execution_count": 11,
   "metadata": {},
   "outputs": [],
   "source": [
    "root = None\n",
    "\n",
    "def init_tree():\n",
    "    global root\n",
    "    \n",
    "    new_node = Node(\"A\")\n",
    "    root = new_node\n",
    "    new_node = Node(\"B\")\n",
    "    root.left = new_node\n",
    "    new_node = Node(\"C\")\n",
    "    root.right = new_node\n",
    "    \n",
    "    new_node_1 = Node(\"D\")\n",
    "    new_node_2 = Node(\"E\")\n",
    "    node = root.left\n",
    "    node.left = new_node_1\n",
    "    node.right = new_node_2\n",
    "    \n",
    "    new_node_1 = Node(\"F\")\n",
    "    new_node_2 = Node(\"G\")\n",
    "    node = root.right\n",
    "    node.left = new_node_1\n",
    "    node.right = new_node_2"
   ]
  },
  {
   "cell_type": "code",
   "execution_count": 12,
   "metadata": {},
   "outputs": [],
   "source": [
    "# 7.2 전위 순회(Pre-Order Traverse)\n",
    "# 가운데 -> 왼쪽 -> 오른쪽 순\n",
    "def preorder_traverse(node):\n",
    "    if node == None:\n",
    "        return\n",
    "    print(node.data, end = '->')\n",
    "    preorder_traverse(node.left)\n",
    "    preorder_traverse(node.right)"
   ]
  },
  {
   "cell_type": "code",
   "execution_count": 13,
   "metadata": {},
   "outputs": [],
   "source": [
    "# 7.3 중위 순회(In-Order Traverse)\n",
    "# 왼쪽 -> 가운데 -> 오른쪽 순\n",
    "\n",
    "def inorder_traverse(node):\n",
    "    if node == None:\n",
    "        return\n",
    "    inorder_traverse(node.left)\n",
    "    print(node.data, end = '->')\n",
    "    inorder_traverse(node.right)"
   ]
  },
  {
   "cell_type": "code",
   "execution_count": 14,
   "metadata": {},
   "outputs": [],
   "source": [
    "# 7.4 후위 순회(Post-Order Traverse)\n",
    "# 왼쪽 -> 오른쪽 -> 가운데\n",
    "\n",
    "def postorder_traverse(node):\n",
    "    if node == None:\n",
    "        return\n",
    "    postorder_traverse(node.left)\n",
    "    postorder_traverse(node.right)\n",
    "    print(node.data, end = '->')"
   ]
  },
  {
   "cell_type": "code",
   "execution_count": 23,
   "metadata": {},
   "outputs": [],
   "source": [
    "# 7.5 단계 순회(Level-Order Traverse) 알고리즘\n",
    "# root node 부터 단계 순서대로 왼쪽부터 오른쪽으로 방문하는 순회 알고리즘\n",
    "\n",
    "levelq = []\n",
    "\n",
    "def levelorder_traverse(node):\n",
    "    global levelq\n",
    "    levelq.append(node)\n",
    "    \n",
    "    while len(levelq) != 0:\n",
    "        # visit\n",
    "        visit_node = levelq.pop(0)\n",
    "        print(visit_node.data, end = ' -> ')\n",
    "        # child put\n",
    "        if visit_node.left != None:\n",
    "            levelq.append(visit_node.left)\n",
    "        if visit_node.right != None:\n",
    "            levelq.append(visit_node.right)\n",
    "            "
   ]
  },
  {
   "cell_type": "code",
   "execution_count": 24,
   "metadata": {},
   "outputs": [
    {
     "name": "stdout",
     "output_type": "stream",
     "text": [
      "A->B->D->E->C->F->G->"
     ]
    }
   ],
   "source": [
    "init_tree()\n",
    "preorder_traverse(root)"
   ]
  },
  {
   "cell_type": "code",
   "execution_count": 25,
   "metadata": {},
   "outputs": [
    {
     "name": "stdout",
     "output_type": "stream",
     "text": [
      "D->B->E->A->F->C->G->"
     ]
    }
   ],
   "source": [
    "inorder_traverse(root)"
   ]
  },
  {
   "cell_type": "code",
   "execution_count": 26,
   "metadata": {},
   "outputs": [
    {
     "name": "stdout",
     "output_type": "stream",
     "text": [
      "D->E->B->F->G->C->A->"
     ]
    }
   ],
   "source": [
    "postorder_traverse(root)"
   ]
  },
  {
   "cell_type": "code",
   "execution_count": 27,
   "metadata": {},
   "outputs": [
    {
     "name": "stdout",
     "output_type": "stream",
     "text": [
      "A -> B -> C -> D -> E -> F -> G -> "
     ]
    }
   ],
   "source": [
    "levelorder_traverse(root)"
   ]
  }
 ],
 "metadata": {
  "kernelspec": {
   "display_name": "Python 3",
   "language": "python",
   "name": "python3"
  },
  "language_info": {
   "codemirror_mode": {
    "name": "ipython",
    "version": 3
   },
   "file_extension": ".py",
   "mimetype": "text/x-python",
   "name": "python",
   "nbconvert_exporter": "python",
   "pygments_lexer": "ipython3",
   "version": "3.7.1"
  }
 },
 "nbformat": 4,
 "nbformat_minor": 2
}
