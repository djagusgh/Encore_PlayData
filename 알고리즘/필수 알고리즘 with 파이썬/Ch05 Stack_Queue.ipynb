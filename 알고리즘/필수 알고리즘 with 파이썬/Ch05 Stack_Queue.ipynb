{
 "cells": [
  {
   "cell_type": "code",
   "execution_count": 1,
   "metadata": {},
   "outputs": [],
   "source": [
    "stack = []\n",
    "\n",
    "def push(item):\n",
    "    stack.append(item)\n",
    "    \n",
    "def pop():\n",
    "    return stack.pop()"
   ]
  },
  {
   "cell_type": "code",
   "execution_count": null,
   "metadata": {},
   "outputs": [],
   "source": [
    "# 5.3 stack의 응용\n",
    "\n",
    "# 계산기 프로그래밍\n"
   ]
  },
  {
   "cell_type": "code",
   "execution_count": 11,
   "metadata": {},
   "outputs": [],
   "source": [
    "# 피연산자(숫자) 스택\n",
    "operand_stack = []\n",
    "# 연산자 스택\n",
    "operator_stack = []\n",
    "\n",
    "# 2 * 3 + 1\n",
    "# 1 + 2 * 3\n",
    "# 1 * 2 + 3 모두 가능하게 끔!\n",
    "\n",
    "\n",
    "\n",
    "\n",
    "def calculator(string):\n",
    "    \n",
    "    operator_rank = { \"+\" : 2, \"-\" : 2, \"*\" : 1, \"/\" : 1}\n",
    "    \n",
    "    # 피연산자(숫자) 스택\n",
    "    operand_stack = []\n",
    "    # 연산자 스택\n",
    "    operator_stack = []\n",
    "    \n",
    "    values= string.split()\n",
    "    for i, each in enumerate(values):\n",
    "        try:\n",
    "            values[i] = int(each)\n",
    "        except ValueError:\n",
    "            continue\n",
    "    \n",
    "    operand_stack.push(values)\n",
    "    operator_stack.push()\n",
    "    \n",
    "    \n",
    "    \n",
    "    \n",
    "    "
   ]
  },
  {
   "cell_type": "code",
   "execution_count": 12,
   "metadata": {},
   "outputs": [
    {
     "name": "stdout",
     "output_type": "stream",
     "text": [
      "[1, '+', 2, '*', 3]\n"
     ]
    }
   ],
   "source": []
  },
  {
   "cell_type": "code",
   "execution_count": null,
   "metadata": {},
   "outputs": [],
   "source": []
  }
 ],
 "metadata": {
  "kernelspec": {
   "display_name": "Python 3",
   "language": "python",
   "name": "python3"
  },
  "language_info": {
   "codemirror_mode": {
    "name": "ipython",
    "version": 3
   },
   "file_extension": ".py",
   "mimetype": "text/x-python",
   "name": "python",
   "nbconvert_exporter": "python",
   "pygments_lexer": "ipython3",
   "version": "3.7.1"
  }
 },
 "nbformat": 4,
 "nbformat_minor": 2
}
