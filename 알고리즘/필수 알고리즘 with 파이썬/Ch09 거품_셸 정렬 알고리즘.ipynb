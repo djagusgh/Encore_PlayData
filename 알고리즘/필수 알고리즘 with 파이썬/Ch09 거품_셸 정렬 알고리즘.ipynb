{
 "cells": [
  {
   "cell_type": "code",
   "execution_count": 1,
   "metadata": {},
   "outputs": [],
   "source": [
    "import random\n",
    "import time\n",
    "\n",
    "def bubble_sort(random_list):\n",
    "    # 마지막에서부터 앞으로!\n",
    "    for start_index in range(len(random_list) - 1):\n",
    "        for index in range(1, len(random_list) - start_index):\n",
    "            if random_list[index - 1] > random_list[index]:\n",
    "                temp = random_list[index - 1]\n",
    "                random_list[index - 1] = random_list[index]\n",
    "                random_list[index] = temp\n",
    "                \n",
    "                "
   ]
  },
  {
   "cell_type": "code",
   "execution_count": 2,
   "metadata": {},
   "outputs": [],
   "source": [
    "# shell 정렬\n",
    "\n",
    "def shell_sort(random_list):\n",
    "    h = 1\n",
    "    while h < len(random_list):\n",
    "        h = h * 3 + 1\n",
    "    h = h // 3\n",
    "    \n",
    "    while h > 0:\n",
    "        for i in range(h):\n",
    "            start_index = i + h\n",
    "            \n",
    "            while start_index < len(random_list):\n",
    "                temp = random_list[start_index]\n",
    "                insert_index = start_index\n",
    "                \n",
    "                while insert_index > h - 1 and random_list[insert_index - h] > temp:\n",
    "                    random_list[insert_index] = random_list[insert_index - h]\n",
    "                    insert_index -= h\n",
    "                \n",
    "                random_list[insert_index] = temp\n",
    "                start_index = start_index + h\n",
    "        h = h // 3"
   ]
  },
  {
   "cell_type": "code",
   "execution_count": null,
   "metadata": {},
   "outputs": [],
   "source": [
    "def shell_sort(random_list):\n",
    "    \n",
    "    h = 1\n",
    "    while h < len(random_list):\n",
    "        h = h * 3 + 1\n",
    "    h = h // 3\n",
    "    \n",
    "    while h > 0:\n",
    "        \n",
    "        for i in range(h):\n",
    "            start_index = i + h\n",
    "            \n",
    "            while start_index < len(random_list):\n",
    "                \n",
    "                temp = random_list[start_index]\n",
    "                insert_index = start_index\n",
    "                \n",
    "                while insert_index > h - 1 and random_list[insert_index - h] > temp:\n",
    "                    \n",
    "                    random_list[insert_index] = random_list[insert_index - h]\n",
    "                    insert_index = insert_index - h\n",
    "                \n",
    "                random_list[insert_index] = temp\n",
    "                start_index += h\n",
    "            \n",
    "        h = h//3\n",
    "                \n",
    "                    \n",
    "            \n",
    "        \n",
    "    "
   ]
  },
  {
   "cell_type": "code",
   "execution_count": 5,
   "metadata": {},
   "outputs": [
    {
     "name": "stdout",
     "output_type": "stream",
     "text": [
      "[1, 3, 6, 6, 6, 7, 9, 10, 11, 14, 15, 16, 16, 16, 19, 19, 21, 22, 22, 23, 24, 25, 27, 27, 28, 29, 32, 33, 33, 33, 35, 35, 37, 37, 37, 39, 40, 43, 43, 44, 45, 45, 46, 46, 48, 49, 50, 52, 53, 54, 54, 54, 54, 54, 54, 55, 56, 59, 60, 61, 62, 64, 66, 67, 68, 68, 69, 69, 70, 70, 71, 71, 72, 75, 75, 77, 78, 79, 80, 82, 83, 84, 85, 86, 86, 86, 88, 90, 92, 93, 95, 96, 96, 97, 97, 98, 98, 98, 99, 100]\n"
     ]
    }
   ],
   "source": [
    "\n",
    "list3 = []\n",
    "\n",
    "for i in range(100):\n",
    "    list3.append(random.randint(1,100))\n",
    "\n",
    "shell_sort(list3)\n",
    "print(list3)"
   ]
  },
  {
   "cell_type": "code",
   "execution_count": null,
   "metadata": {},
   "outputs": [],
   "source": []
  }
 ],
 "metadata": {
  "kernelspec": {
   "display_name": "Python 3",
   "language": "python",
   "name": "python3"
  },
  "language_info": {
   "codemirror_mode": {
    "name": "ipython",
    "version": 3
   },
   "file_extension": ".py",
   "mimetype": "text/x-python",
   "name": "python",
   "nbconvert_exporter": "python",
   "pygments_lexer": "ipython3",
   "version": "3.7.1"
  }
 },
 "nbformat": 4,
 "nbformat_minor": 2
}
