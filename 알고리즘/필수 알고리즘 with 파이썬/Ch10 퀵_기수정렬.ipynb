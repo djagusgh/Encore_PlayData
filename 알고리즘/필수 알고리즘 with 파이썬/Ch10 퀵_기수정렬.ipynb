{
 "cells": [
  {
   "cell_type": "code",
   "execution_count": 1,
   "metadata": {},
   "outputs": [],
   "source": [
    "import random\n",
    "import time\n"
   ]
  },
  {
   "cell_type": "code",
   "execution_count": 18,
   "metadata": {},
   "outputs": [],
   "source": [
    "# 퀵정렬\n",
    "\n",
    "compare_counter = 0\n",
    "swap_counter = 0\n",
    "\n",
    "def swap(x, i, j):\n",
    "    x[i], x[j] = x[j], x[i]\n",
    "    \n",
    "def pivotFirst(x, lmark, rmark):\n",
    "    \n",
    "    pivot_val = x[lmark]\n",
    "    pivot_idx = lmark\n",
    "    \n",
    "    while lmark <= rmark:\n",
    "        while lmark <= rmark and x[lmark] <= pivot_val:\n",
    "            lmark += 1\n",
    "        while lmark <= rmark and x[rmark] >= pivot_val:\n",
    "            rmark -= 1\n",
    "        \n",
    "        if lmark <= rmark:\n",
    "            swap(x, lmark, rmark)\n",
    "            lmark += 1\n",
    "            rmark -= 1\n",
    "    swap(x, pivot_idx, rmark)\n",
    "    \n",
    "    return rmark\n",
    "\n",
    "def quickSort(x, pivotMethod = pivotFirst):\n",
    "    def _qsort(x, first, last):\n",
    "        if first < last:\n",
    "            splitpoint = pivotMethod(x, first, last)\n",
    "            _qsort(x, first, splitpoint-1)\n",
    "            _qsort(x, splitpoint+1, last)\n",
    "    _qsort(x, 0, len(x) - 1)"
   ]
  },
  {
   "cell_type": "code",
   "execution_count": 20,
   "metadata": {},
   "outputs": [
    {
     "name": "stdout",
     "output_type": "stream",
     "text": [
      "[1, 1, 2, 3, 4, 7, 10, 11, 11, 13, 16, 16, 17, 17, 20, 21, 21, 25, 26, 27, 27, 28, 31, 31, 32, 33, 34, 37, 37, 40, 40, 42, 43, 43, 43, 45, 45, 45, 46, 48, 49, 50, 51, 52, 53, 53, 53, 54, 54, 55, 55, 55, 56, 57, 57, 57, 59, 60, 61, 62, 63, 64, 65, 66, 67, 68, 68, 68, 69, 73, 73, 74, 75, 75, 76, 78, 79, 79, 81, 81, 81, 82, 83, 84, 84, 84, 85, 86, 86, 87, 87, 89, 89, 95, 95, 95, 96, 96, 98, 98]\n"
     ]
    }
   ],
   "source": [
    "temp = [random.randint(1, 100) for i in range(100)]\n",
    "quickSort(temp)\n",
    "print(temp)"
   ]
  },
  {
   "cell_type": "code",
   "execution_count": 17,
   "metadata": {},
   "outputs": [
    {
     "data": {
      "text/plain": [
       "([3, 5, 2, 6, 7, 8], 3)"
      ]
     },
     "execution_count": 17,
     "metadata": {},
     "output_type": "execute_result"
    }
   ],
   "source": [
    "pivotFirst([6,5,7,3,2,8], 0, 5)"
   ]
  },
  {
   "cell_type": "code",
   "execution_count": 1,
   "metadata": {},
   "outputs": [],
   "source": [
    "# 기수 정렬\n",
    "\n",
    "# 정렬할 데이터의 자릿수를 이용하여 데이터를 정렬하는 방식"
   ]
  },
  {
   "cell_type": "code",
   "execution_count": 2,
   "metadata": {},
   "outputs": [],
   "source": [
    "from math import log10\n",
    "from random import randint"
   ]
  },
  {
   "cell_type": "code",
   "execution_count": 16,
   "metadata": {},
   "outputs": [],
   "source": [
    "def get_digit(number, base, pos):\n",
    "    return (number // base ** pos) % base\n",
    "\n",
    "def prefix_sum(array):\n",
    "    for i in range(1, len(array)):\n",
    "        array[i] = array[i] + array[i-1]\n",
    "    return array\n",
    "\n",
    "def radixsort(l, base=10):\n",
    "    passes = int(log10(max(l)) + 1)\n",
    "    output = [0] * len(l)\n",
    "    \n",
    "    for pos in range(passes):\n",
    "        count = [0] * base\n",
    "        \n",
    "        for i in l:\n",
    "            digit = get_digit(i, base, pos)\n",
    "            count[digit] += 1\n",
    "        \n",
    "        count = prefix_sum(count)\n",
    "        \n",
    "        for i in reversed(l):\n",
    "            digit = get_digit(i, base, pos)\n",
    "            count[digit] -= 1\n",
    "            new_pos = count[digit]\n",
    "            output[new_pos] = i\n",
    "        \n",
    "        l = list(output)\n",
    "    return output\n",
    "        "
   ]
  },
  {
   "cell_type": "code",
   "execution_count": 14,
   "metadata": {},
   "outputs": [
    {
     "data": {
      "text/plain": [
       "[2, 12, 17, 20, 21]"
      ]
     },
     "execution_count": 14,
     "metadata": {},
     "output_type": "execute_result"
    }
   ],
   "source": [
    "prefix_sum([2,10,5,3,1])"
   ]
  },
  {
   "cell_type": "code",
   "execution_count": 10,
   "metadata": {},
   "outputs": [
    {
     "data": {
      "text/plain": [
       "3"
      ]
     },
     "execution_count": 10,
     "metadata": {},
     "output_type": "execute_result"
    }
   ],
   "source": [
    "get_digit(1000, 5, 3)"
   ]
  },
  {
   "cell_type": "code",
   "execution_count": 15,
   "metadata": {},
   "outputs": [
    {
     "data": {
      "text/plain": [
       "[0, 0, 0, 0, 0]"
      ]
     },
     "execution_count": 15,
     "metadata": {},
     "output_type": "execute_result"
    }
   ],
   "source": []
  }
 ],
 "metadata": {
  "kernelspec": {
   "display_name": "Python 3",
   "language": "python",
   "name": "python3"
  },
  "language_info": {
   "codemirror_mode": {
    "name": "ipython",
    "version": 3
   },
   "file_extension": ".py",
   "mimetype": "text/x-python",
   "name": "python",
   "nbconvert_exporter": "python",
   "pygments_lexer": "ipython3",
   "version": "3.7.1"
  }
 },
 "nbformat": 4,
 "nbformat_minor": 2
}
