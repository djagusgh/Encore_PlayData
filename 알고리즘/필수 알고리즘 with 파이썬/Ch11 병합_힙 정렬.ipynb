{
 "cells": [
  {
   "cell_type": "code",
   "execution_count": 2,
   "metadata": {},
   "outputs": [],
   "source": [
    "# merge sort\n",
    "from math import log10\n",
    "from random import randint\n",
    "\n",
    "def merge_sort(mylist):\n",
    "    if len(mylist) <= 1:\n",
    "        return mylist\n",
    "    half = len(mylist) // 2\n",
    "    left_list = merge_sort(mylist[:half])\n",
    "    right_list = merge_sort(mylist[half:])\n",
    "    \n",
    "    merged_list = []\n",
    "    \n",
    "    while len(left_list) > 0 and len(right_list) > 0:\n",
    "        if left_list[0] > right_list[0]:\n",
    "            merged_list.append(right_list[0])\n",
    "            right_list.pop(0)\n",
    "        else:\n",
    "            merged_list.append(left_list[0])\n",
    "            left_list.pop(0)\n",
    "    if len(left_list) > 0:\n",
    "        merged_list += left_list\n",
    "    if len(right_list) > 0:\n",
    "        merged_list += right_list\n",
    "    \n",
    "    return merged_list\n",
    "    "
   ]
  },
  {
   "cell_type": "code",
   "execution_count": 3,
   "metadata": {},
   "outputs": [],
   "source": [
    "# Heap sort"
   ]
  },
  {
   "cell_type": "code",
   "execution_count": 6,
   "metadata": {},
   "outputs": [],
   "source": [
    "import random\n",
    "from math import log10\n",
    "\n",
    "def left_node(idx = None):\n",
    "    return ((idx + 1) << 1) - 1\n",
    "\n",
    "def right_node(idx = None):\n",
    "    return (idx + 1) << 1\n",
    "\n",
    "def up_heap(mylist = None, idx=None, heap_size=None):\n",
    "    l_node = left_node(idx)\n",
    "    r_node - right_node(idx)\n",
    "    \n",
    "    if l_node <= heap_size and mylist[l_node] > mylist[idx]:\n",
    "    "
   ]
  },
  {
   "cell_type": "code",
   "execution_count": null,
   "metadata": {},
   "outputs": [],
   "source": []
  }
 ],
 "metadata": {
  "kernelspec": {
   "display_name": "Python 3",
   "language": "python",
   "name": "python3"
  },
  "language_info": {
   "codemirror_mode": {
    "name": "ipython",
    "version": 3
   },
   "file_extension": ".py",
   "mimetype": "text/x-python",
   "name": "python",
   "nbconvert_exporter": "python",
   "pygments_lexer": "ipython3",
   "version": "3.7.1"
  }
 },
 "nbformat": 4,
 "nbformat_minor": 2
}
