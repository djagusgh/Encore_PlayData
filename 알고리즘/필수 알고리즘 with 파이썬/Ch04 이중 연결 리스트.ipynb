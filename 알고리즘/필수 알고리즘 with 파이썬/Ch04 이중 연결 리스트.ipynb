{
 "cells": [
  {
   "cell_type": "code",
   "execution_count": 1,
   "metadata": {},
   "outputs": [],
   "source": [
    "# 4.1.1 이중 연결 리스트의 개념\n"
   ]
  },
  {
   "cell_type": "code",
   "execution_count": 11,
   "metadata": {},
   "outputs": [],
   "source": [
    "class Node:\n",
    "    def __init__(self, data, next=None, prev=None):\n",
    "        self.data = data\n",
    "        self.next = next\n",
    "        self.prev = prev\n",
    "\n",
    "def init_list():\n",
    "    global node_A\n",
    "    node_A = Node(\"A\")\n",
    "    node_B = Node(\"B\")\n",
    "    node_D = Node(\"D\")\n",
    "    node_E = Node(\"E\")\n",
    "    \n",
    "    node_A.next = node_B\n",
    "    \n",
    "    node_B.next = node_D\n",
    "    node_B.prev = node_A\n",
    "    \n",
    "    node_D.next = node_E\n",
    "    node_D.prev = node_B\n",
    "    \n",
    "    node_E.prev = node_D\n",
    "    \n",
    "def print_list():\n",
    "    global node_A\n",
    "    node = node_A\n",
    "    while node:\n",
    "        print(node.data)\n",
    "        node = node.next\n",
    "    print\n",
    "    \n",
    "\n",
    "def insert_node(data):\n",
    "    global node_A\n",
    "    \n",
    "    new_node = Node(data)\n",
    "    \n",
    "    node_P = node_A\n",
    "    node_T = node_A\n",
    "    \n",
    "    while node_T.data <= data:\n",
    "        node_P = node_T\n",
    "        node_T = node_T.next\n",
    "    \n",
    "    new_node.next = node_T\n",
    "    node_P.next = new_node\n",
    "    \n",
    "    new_node.prev = node_P\n",
    "    node_T.prev = new_node\n",
    "\n",
    "def delete_node(del_data):\n",
    "    global node_A\n",
    "    \n",
    "    prev_node = node_A\n",
    "    next_node = prev_node.next\n",
    "    \n",
    "    if prev_node.data == del_data:\n",
    "        node_A = next_node\n",
    "        del prev_node\n",
    "        return\n",
    "    \n",
    "    while next_node:\n",
    "        if next_node.data == del_data:\n",
    "            next_next_node = next_node.next\n",
    "            prev_node.next = next_next_node\n",
    "            next_next_node.prev = prev_node\n",
    "        \n",
    "            del next_node\n",
    "            break\n",
    "        \n",
    "        prev_node = next_node\n",
    "        next_node = next_node.next\n",
    "            \n",
    "    "
   ]
  },
  {
   "cell_type": "code",
   "execution_count": 12,
   "metadata": {},
   "outputs": [
    {
     "name": "stdout",
     "output_type": "stream",
     "text": [
      "연결 리스트 초기화 후\n",
      "A\n",
      "B\n",
      "D\n",
      "E\n",
      "노드 C의 추가 후\n",
      "A\n",
      "B\n",
      "C\n",
      "D\n",
      "E\n",
      "노드 D의 삭제 후\n",
      "A\n",
      "B\n",
      "C\n",
      "E\n"
     ]
    }
   ],
   "source": [
    "print(\"연결 리스트 초기화 후\")\n",
    "init_list()\n",
    "print_list()\n",
    "\n",
    "print(\"노드 C의 추가 후\")\n",
    "insert_node(\"C\")\n",
    "print_list()\n",
    "\n",
    "print(\"노드 D의 삭제 후\")\n",
    "delete_node(\"D\")\n",
    "print_list()"
   ]
  },
  {
   "cell_type": "code",
   "execution_count": null,
   "metadata": {},
   "outputs": [],
   "source": [
    "# 이중 연결 리스트의 장점\n",
    "\n"
   ]
  }
 ],
 "metadata": {
  "kernelspec": {
   "display_name": "Python 3",
   "language": "python",
   "name": "python3"
  },
  "language_info": {
   "codemirror_mode": {
    "name": "ipython",
    "version": 3
   },
   "file_extension": ".py",
   "mimetype": "text/x-python",
   "name": "python",
   "nbconvert_exporter": "python",
   "pygments_lexer": "ipython3",
   "version": "3.7.1"
  }
 },
 "nbformat": 4,
 "nbformat_minor": 2
}
