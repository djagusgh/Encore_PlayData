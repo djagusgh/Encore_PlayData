{
 "cells": [
  {
   "cell_type": "code",
   "execution_count": 1,
   "metadata": {},
   "outputs": [],
   "source": [
    "import random"
   ]
  },
  {
   "cell_type": "code",
   "execution_count": 2,
   "metadata": {},
   "outputs": [],
   "source": [
    "# 선택 정렬\n",
    "\n",
    "def selected_sort(random_list):\n",
    "    \n",
    "    for sel in range(len(random_list) - 1):\n",
    "        \n",
    "        min = random_list[sel]\n",
    "        min_idx = sel\n",
    "        # fin min value\n",
    "        for step in range(sel + 1, len(random_list)):\n",
    "            if min > random_list[step]:\n",
    "                min = random_list[step]\n",
    "                min_idx = step\n",
    "        # swap\n",
    "        random_list[min_idx] = random_list[sel]\n",
    "        random_list[sel] = min"
   ]
  },
  {
   "cell_type": "code",
   "execution_count": 16,
   "metadata": {},
   "outputs": [
    {
     "name": "stdout",
     "output_type": "stream",
     "text": [
      "[62, 73, 24, 94, 73, 83, 67, 17, 68, 69, 3, 93, 36, 77, 17, 98, 34, 50, 69, 87, 23, 51, 22, 100, 5, 61, 10, 90, 21, 36, 58, 36, 29, 82, 20, 59, 53, 46, 76, 58, 91, 30, 90, 75, 32, 6, 26, 21, 68, 56, 52, 30, 64, 54, 97, 22, 2, 70, 20, 55, 34, 1, 14, 85, 17, 44, 32, 80, 25, 28, 24, 23, 5, 2, 52, 81, 8, 29, 82, 88, 80, 8, 35, 19, 16, 94, 2, 66, 17, 87, 8, 35, 77, 48, 31, 63, 37, 58, 19, 18]\n"
     ]
    }
   ],
   "source": [
    "list2 = []\n",
    "for i in range(100):\n",
    "    list2.append(random.randint(1, 100))\n",
    "print(list2)"
   ]
  },
  {
   "cell_type": "code",
   "execution_count": 15,
   "metadata": {},
   "outputs": [
    {
     "name": "stdout",
     "output_type": "stream",
     "text": [
      "[2, 3, 4, 4, 6, 7, 7, 9, 10, 10, 11, 11, 12, 13, 14, 14, 15, 16, 16, 18, 18, 18, 18, 20, 20, 21, 21, 26, 28, 31, 32, 33, 34, 34, 35, 36, 38, 39, 40, 41, 42, 43, 43, 44, 47, 49, 50, 51, 53, 56, 57, 58, 59, 59, 60, 61, 61, 62, 62, 62, 65, 66, 68, 68, 70, 74, 75, 75, 76, 77, 78, 80, 80, 81, 81, 82, 83, 84, 84, 84, 85, 85, 85, 86, 86, 87, 88, 89, 90, 90, 90, 91, 92, 95, 95, 98, 99, 99, 100, 100]\n"
     ]
    }
   ],
   "source": [
    "selected_sort(list2)\n",
    "print(list2)"
   ]
  },
  {
   "cell_type": "code",
   "execution_count": 22,
   "metadata": {},
   "outputs": [],
   "source": [
    "# 삽입 정렬\n",
    "\n",
    "import random\n",
    "import time\n",
    "\n",
    "compare_counter = 0\n",
    "swap_counter = 0\n",
    "\n",
    "def insertion_sort(my_list):\n",
    "    global compare_counter, swap_counter\n",
    "    \n",
    "    my_list.insert(0, -1)\n",
    "    for s_idx in range(2, len(my_list)):\n",
    "        temp = my_list[s_idx]\n",
    "        ins_idx = s_idx\n",
    "        compare_counter += 1\n",
    "        \n",
    "        while my_list[ins_idx] > temp:\n",
    "            swap_counter += 1\n",
    "            my_list[ins_idx] = my_list[ins_idx - 1]\n",
    "            ins_idx -= 1\n",
    "        \n",
    "        my_list[ins_idx] = my_list[ins_idx - 1]\n",
    "        ins_idx -= 1\n",
    "    \n",
    "        my_list[ins_idx] = temp\n",
    "    del my_list[0]\n",
    "    "
   ]
  },
  {
   "cell_type": "code",
   "execution_count": null,
   "metadata": {},
   "outputs": [],
   "source": []
  }
 ],
 "metadata": {
  "kernelspec": {
   "display_name": "Python 3",
   "language": "python",
   "name": "python3"
  },
  "language_info": {
   "codemirror_mode": {
    "name": "ipython",
    "version": 3
   },
   "file_extension": ".py",
   "mimetype": "text/x-python",
   "name": "python",
   "nbconvert_exporter": "python",
   "pygments_lexer": "ipython3",
   "version": "3.7.1"
  }
 },
 "nbformat": 4,
 "nbformat_minor": 2
}
