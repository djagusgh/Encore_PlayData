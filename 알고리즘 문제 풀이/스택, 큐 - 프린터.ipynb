{
 "cells": [
  {
   "cell_type": "markdown",
   "metadata": {
    "scrolled": true
   },
   "source": [
    "<풀이방법>\n",
    "\n",
    "1) 같은 우선순위 값들을 구별하기 위해 priorities를 [우선 순위, 우선순위의 원래 위치]를 원소로 갖는 이중 리스트(merge)로 변형함\n",
    "\n",
    "\n",
    "2) priorities를 내림차순으로 정렬해놓음\n",
    "\n",
    "\n",
    "3) 반복문 부분 부터 -> 코드로 보는게 이해 잘됨!\n",
    "\n",
    "*** \n",
    "계속 실수했던 부분 : 반복문 돌 때 priorities를 제거하면서 check와 비교를 했었는데, [2,4,4,3,1] 대입 시 [4,4,3,1,2] 로 나옴\n",
    "\n",
    "-> priorities의 원소를 제거 하지 않고 i 번째 원소값과 check를 비교하니 잘 나옴"
   ]
  },
  {
   "cell_type": "code",
   "execution_count": null,
   "metadata": {},
   "outputs": [],
   "source": [
    "def solution(priorities, location):\n",
    "    answer = 0\n",
    "    merge = [] # [우선순위, 우선순위의 원래 위치] 를 원소로 갖는 리스트\n",
    "    # 1) merge 만들기\n",
    "    for i in range(len(priorities)):\n",
    "        comp = []\n",
    "        comp.append(priorities[i])\n",
    "        comp.append(i)\n",
    "        merge.append(comp)\n",
    "    \n",
    "    print(\"정렬하기 전 merge는 \")\n",
    "    print(merge)\n",
    "    priorities = sorted(priorities, reverse = True)\n",
    "    print(priorities)\n",
    "    \n",
    "    # 2) merge를 문제에 제시된 방법대로 정렬하기 \n",
    "    i = 0\n",
    "    while(i < len(priorities)):\n",
    "        check = merge[i][0]\n",
    "        if check == priorities[i]:\n",
    "            # priorities.remove(priorities[0])\n",
    "            \n",
    "            i += 1\n",
    "        else:\n",
    "            temp = merge.pop(i)\n",
    "            merge.append(temp)\n",
    "        \n",
    "        \n",
    "    print(\"정렬 후 merge는\")\n",
    "    print(merge)\n",
    "            \n",
    "    # 3) answer = 정렬된 merge에서 location의 위치\n",
    "    for comp in merge:\n",
    "        if(comp[1] == location):\n",
    "            answer = merge.index(comp) + 1\n",
    "\n",
    "    return answer"
   ]
  },
  {
   "cell_type": "code",
   "execution_count": 52,
   "metadata": {},
   "outputs": [
    {
     "name": "stdout",
     "output_type": "stream",
     "text": [
      "정렬하기 전 merge는 \n",
      "[[2, 0], [1, 1], [3, 2], [2, 3]]\n",
      "[3, 2, 2, 1]\n",
      "정렬 후 merge는\n",
      "[[3, 2], [2, 3], [2, 0], [1, 1]]\n"
     ]
    },
    {
     "data": {
      "text/plain": [
       "1"
      ]
     },
     "execution_count": 52,
     "metadata": {},
     "output_type": "execute_result"
    }
   ],
   "source": [
    "solution([2,1,3,2], 2)"
   ]
  },
  {
   "cell_type": "code",
   "execution_count": 53,
   "metadata": {},
   "outputs": [
    {
     "name": "stdout",
     "output_type": "stream",
     "text": [
      "정렬하기 전 merge는 \n",
      "[[2, 0], [4, 1], [4, 2], [3, 3], [1, 4]]\n",
      "[4, 4, 3, 2, 1]\n",
      "정렬 후 merge는\n",
      "[[4, 1], [4, 2], [3, 3], [2, 0], [1, 4]]\n"
     ]
    },
    {
     "data": {
      "text/plain": [
       "1"
      ]
     },
     "execution_count": 53,
     "metadata": {},
     "output_type": "execute_result"
    }
   ],
   "source": [
    "solution([2,4,4,3,1], 1)"
   ]
  },
  {
   "cell_type": "code",
   "execution_count": 39,
   "metadata": {},
   "outputs": [
    {
     "name": "stdout",
     "output_type": "stream",
     "text": [
      "정렬하기 전 merge는 \n",
      "[[1, 0], [2, 1]]\n",
      "[2, 1]\n",
      "정렬 후 merge는\n",
      "[[2, 1], [1, 0]]\n"
     ]
    },
    {
     "data": {
      "text/plain": [
       "1"
      ]
     },
     "execution_count": 39,
     "metadata": {},
     "output_type": "execute_result"
    }
   ],
   "source": [
    "solution([1,2], 1)"
   ]
  },
  {
   "cell_type": "code",
   "execution_count": null,
   "metadata": {},
   "outputs": [],
   "source": [
    "def solution3(a):\n",
    "\n",
    "    left = 0\n",
    "    right = 0\n",
    "    num_laser = 0\n",
    "    \n",
    "    i = 0\n",
    "    while(len(a) > 0):\n",
    "        \n",
    "        if a[i] == '(':\n",
    "            left += 1\n",
    "            if a[i+1]==')':\n",
    "                num_laser += 1\n",
    "        elif a[i] == ')':\n",
    "            right += 1\n",
    "        i += 1\n",
    "\n",
    "        if left == right:\n",
    "            if num_laser == 1:\n",
    "                a.pop(0)\n",
    "                a.pop(0)\n",
    "            else:\n",
    "                print(num_laser + 1)"
   ]
  },
  {
   "cell_type": "code",
   "execution_count": null,
   "metadata": {},
   "outputs": [],
   "source": [
    "solution3(\"((()))(())\")"
   ]
  },
  {
   "cell_type": "code",
   "execution_count": null,
   "metadata": {},
   "outputs": [],
   "source": [
    "a = [1,2,3,4,5]\n",
    "a.pop[1]"
   ]
  },
  {
   "cell_type": "code",
   "execution_count": null,
   "metadata": {},
   "outputs": [],
   "source": []
  }
 ],
 "metadata": {
  "kernelspec": {
   "display_name": "Python 3",
   "language": "python",
   "name": "python3"
  },
  "language_info": {
   "codemirror_mode": {
    "name": "ipython",
    "version": 3
   },
   "file_extension": ".py",
   "mimetype": "text/x-python",
   "name": "python",
   "nbconvert_exporter": "python",
   "pygments_lexer": "ipython3",
   "version": "3.7.0"
  }
 },
 "nbformat": 4,
 "nbformat_minor": 2
}
