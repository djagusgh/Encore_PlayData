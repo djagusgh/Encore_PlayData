{
 "cells": [
  {
   "cell_type": "code",
   "execution_count": 3,
   "metadata": {},
   "outputs": [],
   "source": [
    "def solution(p):\n",
    "    answer = []\n",
    "    add = 0\n",
    "    for i in range(len(p) - 1):\n",
    "        add += 1\n",
    "        if p[i + 1] >= p[i]:\n",
    "            pass\n",
    "        else:\n",
    "            for j in range(add, 0 , -1):\n",
    "                answer.append(j)\n",
    "            add = 0\n",
    "    \n",
    "    answer.append(1)\n",
    "    answer.append(0)\n",
    "    \n",
    "    return answer"
   ]
  },
  {
   "cell_type": "code",
   "execution_count": 4,
   "metadata": {},
   "outputs": [
    {
     "data": {
      "text/plain": [
       "[2, 1, 1, 0]"
      ]
     },
     "execution_count": 4,
     "metadata": {},
     "output_type": "execute_result"
    }
   ],
   "source": [
    "solution([498,501,470,489])"
   ]
  },
  {
   "cell_type": "code",
   "execution_count": 7,
   "metadata": {},
   "outputs": [],
   "source": [
    "def solution(p):\n",
    "    answer = []\n",
    "    add = 0\n",
    "    for i in range(len(p) -1):\n",
    "        add += 1\n",
    "        if p[i + 1] > p[i] and i ==len(p) - 2:\n",
    "            answer.append(1)\n",
    "        elif p[i + 1] < p[i] and i ==len(p) - 2:\n",
    "            answer.append(0)\n",
    "        elif p[i + 1] < p[i]:\n",
    "            for j in range(add, 0 , -1):\n",
    "                answer.append(j)\n",
    "            add = 0\n",
    "    answer.append(0)\n",
    "    \n",
    "    return answer"
   ]
  },
  {
   "cell_type": "code",
   "execution_count": 8,
   "metadata": {},
   "outputs": [
    {
     "data": {
      "text/plain": [
       "[3, 2, 1, 1, 0]"
      ]
     },
     "execution_count": 8,
     "metadata": {},
     "output_type": "execute_result"
    }
   ],
   "source": [
    "solution([9, 11, 15, 2, 7])"
   ]
  },
  {
   "cell_type": "code",
   "execution_count": 9,
   "metadata": {},
   "outputs": [
    {
     "data": {
      "text/plain": [
       "[2, 1, 0, 0]"
      ]
     },
     "execution_count": 9,
     "metadata": {},
     "output_type": "execute_result"
    }
   ],
   "source": [
    "solution([1,5,2,8,10,15,3])"
   ]
  },
  {
   "cell_type": "code",
   "execution_count": null,
   "metadata": {},
   "outputs": [],
   "source": [
    "# [2, 1, 4, 3, 2, 1, 0]"
   ]
  },
  {
   "cell_type": "code",
   "execution_count": null,
   "metadata": {},
   "outputs": [],
   "source": [
    "def solution(p): # ㄴㅇㄻㄴㄻㄴㅇㄻㄴㅇㄻㄴㅇㄹㄴㅁㅇㄹㄴㅁㅇㄹ\n",
    "    answer = []\n",
    "    add = 0\n",
    "    for i in range(len(p) -1):\n",
    "        add += 1\n",
    "        if p[i + 1] > p[i] and i ==len(p) - 2:\n",
    "            answer.append(1)\n",
    "        elif p[i + 1] < p[i] and i ==len(p) - 2:\n",
    "            answer.append(0)\n",
    "        elif p[i + 1] < p[i]:\n",
    "            for j in range(add, 0 , -1):\n",
    "                answer.append(j)\n",
    "            add = 0\n",
    "    answer.append(0)\n",
    "    \n",
    "    return answer"
   ]
  }
 ],
 "metadata": {
  "kernelspec": {
   "display_name": "Python 3",
   "language": "python",
   "name": "python3"
  },
  "language_info": {
   "codemirror_mode": {
    "name": "ipython",
    "version": 3
   },
   "file_extension": ".py",
   "mimetype": "text/x-python",
   "name": "python",
   "nbconvert_exporter": "python",
   "pygments_lexer": "ipython3",
   "version": "3.6.6"
  }
 },
 "nbformat": 4,
 "nbformat_minor": 2
}
