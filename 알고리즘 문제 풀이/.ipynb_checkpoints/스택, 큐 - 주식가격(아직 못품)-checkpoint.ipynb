{
 "cells": [
  {
   "cell_type": "code",
   "execution_count": 3,
   "metadata": {},
   "outputs": [],
<<<<<<< HEAD
   "source": [
    "def solution(p):\n",
    "    answer = []\n",
    "    add = 0\n",
    "    for i in range(len(p) - 1):\n",
    "        add += 1\n",
    "        if p[i + 1] >= p[i]:\n",
    "            pass\n",
    "        else:\n",
    "            for j in range(add, 0 , -1):\n",
    "                answer.append(j)\n",
    "            add = 0\n",
    "    \n",
    "    answer.append(1)\n",
    "    answer.append(0)\n",
    "    \n",
    "    return answer"
   ]
  },
  {
   "cell_type": "code",
   "execution_count": 4,
   "metadata": {},
   "outputs": [
    {
     "data": {
      "text/plain": [
       "[2, 1, 1, 0]"
      ]
     },
     "execution_count": 4,
     "metadata": {},
     "output_type": "execute_result"
    }
   ],
   "source": [
    "solution([498,501,470,489])"
   ]
  },
  {
   "cell_type": "code",
=======
   "source": []
  },
  {
   "cell_type": "code",
   "execution_count": 4,
   "metadata": {},
   "outputs": [
    {
     "data": {
      "text/plain": [
       "[2, 1, 1, 0]"
      ]
     },
     "execution_count": 4,
     "metadata": {},
     "output_type": "execute_result"
    }
   ],
   "source": []
  },
  {
   "cell_type": "code",
>>>>>>> e24da4c6b8f89ac20534003d93d5ea531a78236c
   "execution_count": 7,
   "metadata": {},
   "outputs": [],
   "source": [
<<<<<<< HEAD
    "def solution(p):\n",
    "    answer = []\n",
    "    add = 0\n",
    "    for i in range(len(p) -1):\n",
    "        add += 1\n",
    "        if p[i + 1] > p[i] and i ==len(p) - 2:\n",
    "            answer.append(1)\n",
    "        elif p[i + 1] < p[i] and i ==len(p) - 2:\n",
    "            answer.append(0)\n",
    "        elif p[i + 1] < p[i]:\n",
    "            for j in range(add, 0 , -1):\n",
    "                answer.append(j)\n",
    "            add = 0\n",
    "    answer.append(0)\n",
    "    \n",
    "    return answer"
=======
    "\"메롱\""
>>>>>>> e24da4c6b8f89ac20534003d93d5ea531a78236c
   ]
  },
  {
   "cell_type": "code",
   "execution_count": 8,
   "metadata": {},
   "outputs": [
    {
     "data": {
      "text/plain": [
       "[3, 2, 1, 1, 0]"
      ]
     },
     "execution_count": 8,
     "metadata": {},
     "output_type": "execute_result"
    }
   ],
   "source": [
    "solution([9, 11, 15, 2, 7])"
<<<<<<< HEAD
   ]
  },
  {
   "cell_type": "code",
   "execution_count": 9,
   "metadata": {},
   "outputs": [
    {
     "data": {
      "text/plain": [
       "[2, 1, 0, 0]"
      ]
     },
     "execution_count": 9,
     "metadata": {},
     "output_type": "execute_result"
    }
   ],
   "source": [
    "solution([1,5,2,8,10,15,3])"
=======
>>>>>>> e24da4c6b8f89ac20534003d93d5ea531a78236c
   ]
  },
  {
   "cell_type": "code",
   "execution_count": 9,
   "metadata": {},
   "outputs": [
    {
     "data": {
      "text/plain": [
       "[2, 1, 0, 0]"
      ]
     },
     "execution_count": 9,
     "metadata": {},
     "output_type": "execute_result"
    }
   ],
   "source": [
<<<<<<< HEAD
    "# [2, 1, 4, 3, 2, 1, 0]"
=======
    "solution([1,5,2,8,10,15,3])"
>>>>>>> e24da4c6b8f89ac20534003d93d5ea531a78236c
   ]
  },
  {
   "cell_type": "code",
   "execution_count": null,
   "metadata": {},
   "outputs": [],
   "source": [
<<<<<<< HEAD
    "def solution(p): # ㄴㅇㄻㄴㄻㄴㅇㄻㄴㅇㄻㄴㅇㄹㄴㅁㅇㄹㄴㅁㅇㄹ\n",
    "    answer = []\n",
    "    add = 0\n",
    "    for i in range(len(p) -1):\n",
    "        add += 1\n",
    "        if p[i + 1] > p[i] and i ==len(p) - 2:\n",
    "            answer.append(1)\n",
    "        elif p[i + 1] < p[i] and i ==len(p) - 2:\n",
    "            answer.append(0)\n",
    "        elif p[i + 1] < p[i]:\n",
    "            for j in range(add, 0 , -1):\n",
    "                answer.append(j)\n",
    "            add = 0\n",
    "    answer.append(0)\n",
    "    \n",
    "    return answer"
=======
    "# [2, 1, 4, 3, 2, 1, 0]"
>>>>>>> e24da4c6b8f89ac20534003d93d5ea531a78236c
   ]
  }
 ],
 "metadata": {
  "kernelspec": {
   "display_name": "Python 3",
   "language": "python",
   "name": "python3"
  },
  "language_info": {
   "codemirror_mode": {
    "name": "ipython",
    "version": 3
   },
   "file_extension": ".py",
   "mimetype": "text/x-python",
   "name": "python",
   "nbconvert_exporter": "python",
   "pygments_lexer": "ipython3",
   "version": "3.6.5"
  }
 },
 "nbformat": 4,
 "nbformat_minor": 2
}
