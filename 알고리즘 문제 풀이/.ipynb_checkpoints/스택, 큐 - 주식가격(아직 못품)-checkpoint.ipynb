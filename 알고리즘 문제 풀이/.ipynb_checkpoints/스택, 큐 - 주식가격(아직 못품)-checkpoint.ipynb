{
 "cells": [
  {
   "cell_type": "code",
   "execution_count": null,
   "metadata": {},
   "outputs": [],
   "source": [
    "def solution(prices):\n",
    "    answer = []\n",
    "    state = 0\n",
    "    \n",
    "    for i in range(len(prices)):\n",
    "        time = 0\n",
    "        for j in range(i+1, len(prices)):\n",
    "            time += 1\n",
    "            if prices[i] > prices[j]:\n",
    "                answer.append(time)\n",
    "\n",
    "    return answer"
   ]
  },
  {
   "cell_type": "code",
   "execution_count": 111,
   "metadata": {},
   "outputs": [],
   "source": [
    "def solution(p):\n",
    "    answer = []\n",
    "    add = 0\n",
    "    for i in range(len(p) - 1):\n",
    "        add += 1\n",
    "        if p[i + 1] >= p[i]:\n",
    "            pass\n",
    "        else:\n",
    "            for j in range(add, 0 , -1):\n",
    "                answer.append(j)\n",
    "            add = 0\n",
    "    \n",
    "    answer.append(1)\n",
    "    answer.append(0)\n",
    "    \n",
    "    return answer"
   ]
  },
  {
   "cell_type": "code",
   "execution_count": 112,
   "metadata": {},
   "outputs": [
    {
     "data": {
      "text/plain": [
       "[2, 1, 1, 0]"
      ]
     },
     "execution_count": 112,
     "metadata": {},
     "output_type": "execute_result"
    }
   ],
   "source": [
    "solution([498,501,470,489])"
   ]
  },
  {
   "cell_type": "code",
   "execution_count": null,
   "metadata": {},
   "outputs": [],
   "source": [
    "\"내용 수정시 어떻게 될까???\""
   ]
  },
  {
   "cell_type": "code",
   "execution_count": null,
   "metadata": {},
   "outputs": [],
   "source": []
  }
 ],
 "metadata": {
  "kernelspec": {
   "display_name": "Python 3",
   "language": "python",
   "name": "python3"
  },
  "language_info": {
   "codemirror_mode": {
    "name": "ipython",
    "version": 3
   },
   "file_extension": ".py",
   "mimetype": "text/x-python",
   "name": "python",
   "nbconvert_exporter": "python",
   "pygments_lexer": "ipython3",
   "version": "3.6.6"
  }
 },
 "nbformat": 4,
 "nbformat_minor": 2
}
