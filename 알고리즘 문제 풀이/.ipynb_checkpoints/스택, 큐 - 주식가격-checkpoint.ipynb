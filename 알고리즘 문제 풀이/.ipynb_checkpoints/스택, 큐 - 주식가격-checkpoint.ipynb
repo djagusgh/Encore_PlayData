{
 "cells": [
  {
   "cell_type": "code",
   "execution_count": 49,
   "metadata": {},
   "outputs": [],
   "source": [
    "def solution(p):\n",
    "    answer = [0 for i in range(len(p))]\n",
    "    for i in range(len(p) - 1):\n",
    "        for j in range(i, len(p) - 1):\n",
    "            if p[i] > p[j]:\n",
    "                break;\n",
    "            else:\n",
    "                answer[i] += 1\n",
    "    return answer"
   ]
  }
 ],
 "metadata": {
  "kernelspec": {
   "display_name": "Python 3",
   "language": "python",
   "name": "python3"
  },
  "language_info": {
   "codemirror_mode": {
    "name": "ipython",
    "version": 3
   },
   "file_extension": ".py",
   "mimetype": "text/x-python",
   "name": "python",
   "nbconvert_exporter": "python",
   "pygments_lexer": "ipython3",
   "version": "3.6.6"
  }
 },
 "nbformat": 4,
 "nbformat_minor": 2
}
