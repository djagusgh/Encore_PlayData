{
 "cells": [
  {
   "cell_type": "code",
   "execution_count": 34,
   "metadata": {},
   "outputs": [],
   "source": [
    "import math, random"
   ]
  },
  {
   "cell_type": "code",
   "execution_count": 137,
   "metadata": {},
   "outputs": [],
   "source": [
    "def lotto_game(guess): #guess : 1~45 사이의 수가 들어있는 길이 7의 리스트\n",
    "    random.seed(1)\n",
    "    rank = \"\"\n",
    "    # 1. 1~45 까지의 무작위 배열 만들기\n",
    "    balls = [i for i in range(1, 46)]\n",
    "    random.shuffle(balls)\n",
    "    # 2. balls에서 7개뽑아 답 만들기 (마지막 : 2등 보너스 볼)\n",
    "    answer = [balls[i] for i in range(7)]\n",
    "    print(answer)\n",
    "    \n",
    "    # 3. guess[i]가 answer에 존재하면, correct + 1\n",
    "    for i in range(6):\n",
    "        if guess[i] in answer:\n",
    "            correct += 1\n",
    "            \n",
    "    if correct == 6: rank = \"1등\";\n",
    "    elif correct == 5 and answer[6] == guess[6]: rank = \"2등\";\n",
    "    elif correct == 5: rank = \"3등\";\n",
    "    elif correct == 4: rank = \"4등\";\n",
    "    elif correct == 3: rank = \"5등\";\n",
    "    else: rank = \"꽝입니다.\";\n",
    "    return rank\n"
   ]
  },
  {
   "cell_type": "code",
   "execution_count": 140,
   "metadata": {},
   "outputs": [
    {
     "name": "stdout",
     "output_type": "stream",
     "text": [
      "[3, 10, 43, 33, 6, 26, 13]\n",
      "2등\n"
     ]
    }
   ],
   "source": [
    "print(lotto_game([10,3,33,11,13,6,13]))"
   ]
  },
  {
   "cell_type": "markdown",
   "metadata": {},
   "source": [
    "# 정렬 알고리즘 공부"
   ]
  },
  {
   "cell_type": "markdown",
   "metadata": {},
   "source": [
    "# 1. 선택 정렬(selection sort)\n",
    "<img src = \"insertion_sort.png\" width=\"300\" height=\"300\">\n",
    "\n",
    "###  \n",
    "### 1. 주어진 리스트 중에 최소값을 찾는다.\n",
    "### 2. 그 값을 맨 앞에 위치한 값과 교체한다(패스(pass)).\n",
    "### 3. 맨 처음 위치를 뺀 나머지 리스트를 같은 방법으로 교체한다.\n"
   ]
  },
  {
   "cell_type": "code",
   "execution_count": 185,
   "metadata": {},
   "outputs": [],
   "source": [
    "def selection_sort(a):\n",
    "    for i in range(len(a) - 1):\n",
    "        # 1. i번째 원소를 min_idx로 저장\n",
    "        min_idx = i\n",
    "        # 2. i+1 index~ 끝까지 중에 최솟값의 index 찾기\n",
    "        for j in range(i + 1, len(a)):\n",
    "            if a[j] < a[min_idx]:\n",
    "                min_idx = j\n",
    "        # 3. 두 원소 위치 바꿔주기\n",
    "        a[i], a[min_idx] = a[min_idx], a[i]\n",
    "    return a    "
   ]
  },
  {
   "cell_type": "code",
   "execution_count": 186,
   "metadata": {},
   "outputs": [
    {
     "data": {
      "text/plain": [
       "[1, 2, 3, 5, 7, 8]"
      ]
     },
     "execution_count": 186,
     "metadata": {},
     "output_type": "execute_result"
    }
   ],
   "source": [
    "selection_sort([5,7,8,2,3,1])"
   ]
  },
  {
   "cell_type": "markdown",
   "metadata": {},
   "source": [
    "# 2. 삽입 정렬\n",
    "<img src = \"insertion_sort.png\" width=\"300\" height=\"300\">\n",
    "\n",
    "###   \n",
    "\n",
    "###  자료 배열의 모든 요소를 앞에서부터 차례대로 이미 정렬된 배열 부분과 비교하여, \n",
    "\n",
    "### 자신의 위치를 찾아 삽입함으로써 정렬을 완성하는 알고리즘이다.\n",
    "\n",
    "### k번째 반복 후의 결과 배열은, 앞쪽 k + 1 항목이 정렬된 상태이다."
   ]
  },
  {
   "cell_type": "code",
   "execution_count": 210,
   "metadata": {},
   "outputs": [],
   "source": [
    "# 2) insertion sort\n",
    "def insertion_sort(a):\n",
    "    for i in range(1, len(a)):\n",
    "        # i - 1까지의 리스트는 정렬되어있음!\n",
    "        # a[i]가 새로 들어갈 자리를 찾고, 그 자리에 삽입하는 for문\n",
    "        for j in range(0, i):\n",
    "            if a[j] > a[i]:\n",
    "                temp = a.pop(i)\n",
    "                a.insert(j, temp)        \n",
    "    return a"
   ]
  },
  {
   "cell_type": "code",
   "execution_count": 212,
   "metadata": {},
   "outputs": [
    {
     "name": "stdout",
     "output_type": "stream",
     "text": [
      "[1, 3, 5, 7, 8, 9]\n"
     ]
    }
   ],
   "source": [
    "print(insertion_sort([1,5,7,3,8,9]))"
   ]
  },
  {
   "cell_type": "markdown",
   "metadata": {},
   "source": [
    "# 3. 합병 정렬(merge sort)\n",
    "\n",
    "<img src = \"merge_sort.png\" width=\"300\" height=\"300\">\n",
    "\n",
    "####   \n",
    "#### 1. 리스트의 길이가 0 또는 1이면 이미 정렬된 것으로 본다. 그렇지 않은 경우에는\n",
    "#### 정렬되지 않은 리스트를 절반으로 잘라 비슷한 크기의 두 부분 리스트로 나눈다.\n",
    "#### 3. 각 부분 리스트를 재귀적으로 합병 정렬을 이용해 정렬한다.\n",
    "#### 4. 두 부분 리스트를 다시 하나의 정렬된 리스트로 합병한다.\n",
    "\n"
   ]
  },
  {
   "cell_type": "code",
   "execution_count": 280,
   "metadata": {},
   "outputs": [],
   "source": [
    "def merge(a, b): # a, b 두 list를 합치면서 정렬하는 함수\n",
    "    answer = []\n",
    "    i = 0\n",
    "    j = 0\n",
    "    while(i < len(a) and j < len(b)):\n",
    "        if(a[i] < b[j]):\n",
    "            answer.append(a[i])\n",
    "            i += 1\n",
    "        else:\n",
    "            answer.append(b[j])\n",
    "            j += 1\n",
    "    # while문 나왔을 때 남은 것들(a, b 길이가 다를 때) 한 번에 answer로 집어넣음\n",
    "    if i == len(a):\n",
    "        for k in range(j, len(b)):\n",
    "            answer.append(b[k])\n",
    "    if j == len(b):\n",
    "        for k in range(i, len(a)):\n",
    "            answer.append(a[k])\n",
    "    return answer\n",
    "\n",
    "def merge_sort(c):\n",
    "    if(len(c) == 1):\n",
    "        return c\n",
    "    front = c[:int(0.5*len(c))] \n",
    "    back = c[int(0.5*len(c)):]\n",
    "    d = merge_sort(front)\n",
    "    e = merge_sort(back)\n",
    "    c = merge(d, e)\n",
    "    \n",
    "    return c"
   ]
  },
  {
   "cell_type": "code",
   "execution_count": 310,
   "metadata": {},
   "outputs": [
    {
     "name": "stdout",
     "output_type": "stream",
     "text": [
      "[1, 2, 3, 4, 5, 6, 8, 10]\n",
      "[1, 2, 3, 4, 5, 7, 8, 10]\n"
     ]
    }
   ],
   "source": [
    "print(merge_sort([1,3,5,7,10,4,8,2]))"
   ]
  },
  {
   "cell_type": "markdown",
   "metadata": {},
   "source": [
    "# 4. 거품 정렬(Bubble Sort)\n",
    "\n",
    "###   \n",
    "### 두 인접한 원소를 검사하여 정렬하는 방법\n",
    "### 간단하지만, 비효율적인 방법\n"
   ]
  },
  {
   "cell_type": "code",
   "execution_count": 7,
   "metadata": {},
   "outputs": [],
   "source": [
    "def bubble_sort(a):\n",
    "    for i in range(len(a) - 1):\n",
    "        for j in range(len(a) - 1):\n",
    "            if a[j] > a[j + 1]:\n",
    "                # 두 원소의 위치를 바꿔줌\n",
    "                a[j], a[j + 1] = a[j + 1], a[j]\n",
    "    return a"
   ]
  },
  {
   "cell_type": "code",
   "execution_count": 8,
   "metadata": {},
   "outputs": [
    {
     "data": {
      "text/plain": [
       "[1, 2, 5, 7, 8, 9]"
      ]
     },
     "execution_count": 8,
     "metadata": {},
     "output_type": "execute_result"
    }
   ],
   "source": [
    "bubble_sort([2,5,7,8,9,1])"
   ]
  },
  {
   "cell_type": "markdown",
   "metadata": {},
   "source": [
    "# 5. 퀵 정렬(Quick Sort)"
   ]
  },
  {
   "cell_type": "code",
   "execution_count": null,
   "metadata": {},
   "outputs": [],
   "source": []
  },
  {
   "cell_type": "code",
   "execution_count": null,
   "metadata": {},
   "outputs": [],
   "source": []
  },
  {
   "cell_type": "code",
   "execution_count": 400,
   "metadata": {},
   "outputs": [
    {
     "name": "stdout",
     "output_type": "stream",
     "text": [
      "[[14, 11], [21, 18], [7, 19], [20, 6], [4, 5], [10, 8], [22, 1], [17, 2], [3, 13], [12, 23], [16, 9, 15]]\n"
     ]
    }
   ],
   "source": [
    "# 인원 짝수일 땐 2명씩, 홀수일 땐 3명인 팀을 1개 만드는 함수\n",
    "def make_group_by_two_people(num_people):\n",
    "    # random.seed(1)\n",
    "    answer = []\n",
    "    b = [i + 1 for i in range(num_people)] # 1부터 시작!\n",
    "    random.shuffle(b)\n",
    "    for i in range(0, int(len(b)/2)):\n",
    "        temp = []\n",
    "        c1 = b.pop(0)\n",
    "        c2 = b.pop(0)\n",
    "        temp.append(c1)\n",
    "        temp.append(c2) # temp : [c1, c2]\n",
    "        answer.append(temp)\n",
    "    # 홀수 명일 때 마지막 조를 3명으로 만듦\n",
    "    if len(b) == 1:\n",
    "        answer[len(answer) - 1].append(b[0])\n",
    "    return answer\n",
    "print(make_group_by_two_people(23))"
   ]
  },
  {
   "cell_type": "code",
   "execution_count": 399,
   "metadata": {},
   "outputs": [
    {
     "name": "stdout",
     "output_type": "stream",
     "text": [
      "[[7, 16], [4, 13], [12, 22], [8, 21], [1, 23], [9, 17], [5, 15]]\n"
     ]
    }
   ],
   "source": [
    "print(make_group_by_two_people(23))"
   ]
  },
  {
   "cell_type": "code",
   "execution_count": null,
   "metadata": {},
   "outputs": [],
   "source": []
  },
  {
   "cell_type": "code",
   "execution_count": null,
   "metadata": {},
   "outputs": [],
   "source": []
  }
 ],
 "metadata": {
  "kernelspec": {
   "display_name": "Python 3",
   "language": "python",
   "name": "python3"
  },
  "language_info": {
   "codemirror_mode": {
    "name": "ipython",
    "version": 3
   },
   "file_extension": ".py",
   "mimetype": "text/x-python",
   "name": "python",
   "nbconvert_exporter": "python",
   "pygments_lexer": "ipython3",
   "version": "3.6.6"
  }
 },
 "nbformat": 4,
 "nbformat_minor": 2
}
