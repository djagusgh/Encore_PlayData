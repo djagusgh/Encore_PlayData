{
 "cells": [
  {
   "cell_type": "code",
   "execution_count": 26,
   "metadata": {},
   "outputs": [],
   "source": [
    "# 시간 초과하는 코드\n",
    "\n",
    "from itertools import permutations\n",
    "def solution(numbers):\n",
    "    \n",
    "    answer = 0 # 최댓값\n",
    "    index = list(range(len(numbers)))\n",
    "    allCases = permutations(index, len(index)) # 모든 경우를 보기 때문에 매우 비효율적\n",
    "    for each in allCases:\n",
    "        each_num = \"\"\n",
    "        for i in each:\n",
    "            each_num += str(numbers[i])\n",
    "        each_num = int(each_num)\n",
    "        \n",
    "        if each_num >= answer:\n",
    "            answer = each_num\n",
    "            \n",
    "    answer = str(answer)\n",
    "    \n",
    "    return answer\n",
    "        \n",
    "    "
   ]
  },
  {
   "cell_type": "code",
   "execution_count": 173,
   "metadata": {},
   "outputs": [],
   "source": [
    "import functools\n",
    "\n",
    "def solution(numbers):\n",
    "    \n",
    "    if set(numbers) == {0}:\n",
    "        return '0'\n",
    "    else:\n",
    "        ns = list(map(str,numbers))\n",
    "        numbers.sort(key=functools.cmp_to_key(lambda x,y: int(x+y)-int(y+x)), reverse=True)\n",
    "    \n",
    "    \n",
    "    return ''.join(ns)"
   ]
  },
  {
   "cell_type": "code",
   "execution_count": 174,
   "metadata": {},
   "outputs": [
    {
     "data": {
      "text/plain": [
       "'12112'"
      ]
     },
     "execution_count": 174,
     "metadata": {},
     "output_type": "execute_result"
    }
   ],
   "source": [
    "solution([12,121])"
   ]
  },
  {
   "cell_type": "code",
   "execution_count": 177,
   "metadata": {},
   "outputs": [],
   "source": []
  },
  {
   "cell_type": "code",
   "execution_count": null,
   "metadata": {},
   "outputs": [],
   "source": [
    "functools.cmp_to_key"
   ]
  },
  {
   "cell_type": "code",
   "execution_count": 168,
   "metadata": {},
   "outputs": [
    {
     "data": {
      "text/plain": [
       "'65432212121'"
      ]
     },
     "execution_count": 168,
     "metadata": {},
     "output_type": "execute_result"
    }
   ],
   "source": [
    "solution([5,6,2,2,121,12, 3, 4])"
   ]
  },
  {
   "cell_type": "code",
   "execution_count": null,
   "metadata": {},
   "outputs": [],
   "source": []
  }
 ],
 "metadata": {
  "kernelspec": {
   "display_name": "Python 3",
   "language": "python",
   "name": "python3"
  },
  "language_info": {
   "codemirror_mode": {
    "name": "ipython",
    "version": 3
   },
   "file_extension": ".py",
   "mimetype": "text/x-python",
   "name": "python",
   "nbconvert_exporter": "python",
   "pygments_lexer": "ipython3",
   "version": "3.6.7"
  }
 },
 "nbformat": 4,
 "nbformat_minor": 2
}
