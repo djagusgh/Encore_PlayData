{
 "cells": [
  {
   "cell_type": "code",
   "execution_count": 64,
   "metadata": {},
   "outputs": [],
   "source": [
    "from itertools import permutations"
   ]
  },
  {
   "cell_type": "code",
   "execution_count": 189,
   "metadata": {},
   "outputs": [],
   "source": [
    "def solution(numbers):\n",
    "    # 1. 합칠 수 있는 모든 조합을 구함\n",
    "\n",
    "    check_list = []\n",
    "    count = 0\n",
    "\n",
    "    for i in range(1, len(numbers) + 1):\n",
    "\n",
    "        # 조합으로 나타낼 수 있는 리스트\n",
    "        each_list = permutations(numbers, i)\n",
    "        each_list = set(each_list)\n",
    "        for each1 in each_list:\n",
    "            # check : 각 숫자들\n",
    "            check = \"\"\n",
    "            for each2 in each1:\n",
    "                if each2 == \"\":\n",
    "                    continue\n",
    "                check += str(each2)\n",
    "\n",
    "            check = int(check)\n",
    "            check_list.append(check)\n",
    "\n",
    "    # 중복 제거\n",
    "    check_list = set(check_list)\n",
    "    for each in check_list:\n",
    "        state = 0 # 반복문 돌았을 때 최종적으로 0이면 소수, 아니면 1\n",
    "        if each == 0 or each == 1:\n",
    "            continue\n",
    "        else:\n",
    "            for j in range(2, each):\n",
    "                if each % j == 0:\n",
    "                    state = 1\n",
    "                    break\n",
    "        if state == 0: # 소수이면 count + 1\n",
    "            count += 1\n",
    "    return count\n",
    "    "
   ]
  },
  {
   "cell_type": "code",
   "execution_count": 190,
   "metadata": {},
   "outputs": [
    {
     "name": "stdout",
     "output_type": "stream",
     "text": [
      "      체크리스트 ===  {0, 1, 101, 10, 11, 110}\n"
     ]
    },
    {
     "data": {
      "text/plain": [
       "2"
      ]
     },
     "execution_count": 190,
     "metadata": {},
     "output_type": "execute_result"
    }
   ],
   "source": [
    "solution(\"011\")"
   ]
  },
  {
   "cell_type": "code",
   "execution_count": null,
   "metadata": {},
   "outputs": [],
   "source": []
  }
 ],
 "metadata": {
  "kernelspec": {
   "display_name": "Python 3",
   "language": "python",
   "name": "python3"
  },
  "language_info": {
   "codemirror_mode": {
    "name": "ipython",
    "version": 3
   },
   "file_extension": ".py",
   "mimetype": "text/x-python",
   "name": "python",
   "nbconvert_exporter": "python",
   "pygments_lexer": "ipython3",
   "version": "3.6.7"
  }
 },
 "nbformat": 4,
 "nbformat_minor": 2
}
