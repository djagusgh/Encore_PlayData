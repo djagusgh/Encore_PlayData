{
 "cells": [
  {
   "cell_type": "code",
   "execution_count": 1,
   "metadata": {},
   "outputs": [],
   "source": [
    "def solution(p, s): # p : progresses, s : speeds\n",
    "    \n",
    "    answer = []\n",
    "    \n",
    "    while(True):\n",
    "        # 1. progresses에 speeds 한 번씩 더하기!\n",
    "        p = [i + j for i, j in zip(p, s)]\n",
    "        # 2. progresses 원소 중 100이상의 값을 가지는 원소를 0으로 바꿔줌\n",
    "        for i in range(len(p)):\n",
    "            if p[i] >= 100:\n",
    "                p[i] = 0\n",
    "                s[i] = 0\n",
    "        # 3. progresses의 첫 번째 원소가 0일 때, 연속으로 0인 것의 개수를 셈\n",
    "        # -> 그 갯수만큼 count에 더해준다. 완성된 기능(0이 된 것)들은 리스트에서 제거한다!\n",
    "        if p[0] == 0:\n",
    "            count = 0\n",
    "            for j in range(len(p)):\n",
    "                if p[j] == 0:\n",
    "                    count += 1\n",
    "                else:\n",
    "                    break\n",
    "            answer.append(count)\n",
    "            \n",
    "            for k in range(count):\n",
    "                del(p[0])\n",
    "                del(s[0])\n",
    "        \n",
    "        if len(p) == 0:\n",
    "            break;\n",
    "\n",
    "    return answer"
   ]
  },
  {
   "cell_type": "code",
   "execution_count": 2,
   "metadata": {},
   "outputs": [
    {
     "data": {
      "text/plain": [
       "[1]"
      ]
     },
     "execution_count": 2,
     "metadata": {},
     "output_type": "execute_result"
    }
   ],
   "source": [
    "solution([40, 93, 30, 55, 60, 65],[60, 1, 30, 5 , 10, 7])"
   ]
  },
  {
   "cell_type": "code",
   "execution_count": null,
   "metadata": {},
   "outputs": [],
   "source": [
    "\"\"\"\n",
    "a : [93,30,55]\n",
    "b : [1, 30, 5]\n",
    "return [2, 1] \n",
    "\n",
    "a : [40, 93, 30, 55, 60, 65]\n",
    "b : [60, 1, 30, 5 , 10, 7]\n",
    "return : [1,2,3]\n",
    "\n",
    "\"\"\"\n",
    "\n",
    "\n"
   ]
  },
  {
   "cell_type": "code",
   "execution_count": 3,
   "metadata": {},
   "outputs": [
    {
     "data": {
      "text/plain": [
       "[1]"
      ]
     },
     "execution_count": 3,
     "metadata": {},
     "output_type": "execute_result"
    }
   ],
   "source": [
    "solution([93,30,55], [1,30,5])"
   ]
  },
  {
   "cell_type": "code",
   "execution_count": null,
   "metadata": {},
   "outputs": [],
   "source": []
  }
 ],
 "metadata": {
  "kernelspec": {
   "display_name": "Python 3",
   "language": "python",
   "name": "python3"
  },
  "language_info": {
   "codemirror_mode": {
    "name": "ipython",
    "version": 3
   },
   "file_extension": ".py",
   "mimetype": "text/x-python",
   "name": "python",
   "nbconvert_exporter": "python",
   "pygments_lexer": "ipython3",
   "version": "3.7.0"
  }
 },
 "nbformat": 4,
 "nbformat_minor": 2
}
