{
 "cells": [
  {
   "cell_type": "code",
   "execution_count": 7,
   "metadata": {},
   "outputs": [],
   "source": [
    "from heapq import heapify,heappop, heappush\n",
    "    "
   ]
  },
  {
   "cell_type": "code",
   "execution_count": 26,
   "metadata": {},
   "outputs": [],
   "source": [
    "# list로 풀면 시간초과;;\n",
    "def solution(scoville, K):\n",
    "    num = 0\n",
    "    while(True):\n",
    "        num += 1\n",
    "        min_1st = min(scoville)\n",
    "        scoville.remove(min_1st)\n",
    "        \n",
    "        min_2nd = min(scoville)\n",
    "        scoville.remove(min_2nd)\n",
    "        \n",
    "        sc_num = min_1st + 2 * min_2nd\n",
    "        scoville.append(sc_num)\n",
    "        \n",
    "        if len(scoville) == 1 and scoville[0] < K:\n",
    "            num = -1\n",
    "            break\n",
    "        \n",
    "        if min(scoville) >= K:\n",
    "            break\n",
    "    \n",
    "    return num"
   ]
  },
  {
   "cell_type": "code",
   "execution_count": 27,
   "metadata": {},
   "outputs": [
    {
     "data": {
      "text/plain": [
       "2"
      ]
     },
     "execution_count": 27,
     "metadata": {},
     "output_type": "execute_result"
    }
   ],
   "source": [
    "solution([1,2,3,9,10,12], 7)\n"
   ]
  },
  {
   "cell_type": "code",
   "execution_count": 8,
   "metadata": {},
   "outputs": [],
   "source": [
    "# heap으로 풀어야함\n",
    "# heap의 첫번째 원소는 무조건 가장 작은 수이다!\n",
    "def solution(scoville, K):\n",
    "    from heapq import heapify,heappop, heappush\n",
    "    num = 0\n",
    "    heapify(scoville)\n",
    "    while(True):\n",
    "        num += 1\n",
    "        min_1st = heappop(scoville)\n",
    "        min_2nd = heappop(scoville)\n",
    "        sc_num = min_1st + 2 * min_2nd\n",
    "        heappush(scoville, sc_num)\n",
    "        if len(scoville) == 1 and scoville[0] < K:\n",
    "            num = -1\n",
    "            break\n",
    "        if scoville[0] >= K: # 여기서 min(scoville) >= K라 써서 계속 시간초과였던 것임 스바\n",
    "            break\n",
    "    \n",
    "    return num"
   ]
  },
  {
   "cell_type": "code",
   "execution_count": 9,
   "metadata": {},
   "outputs": [
    {
     "data": {
      "text/plain": [
       "2"
      ]
     },
     "execution_count": 9,
     "metadata": {},
     "output_type": "execute_result"
    }
   ],
   "source": [
    "solution([1,2,3,9,10,12], 7)"
   ]
  },
  {
   "cell_type": "code",
   "execution_count": 12,
   "metadata": {},
   "outputs": [],
   "source": [
    "\n"
   ]
  },
  {
   "cell_type": "code",
   "execution_count": 11,
   "metadata": {},
   "outputs": [
    {
     "data": {
      "text/plain": [
       "[3, 6, 4, 7, 9]"
      ]
     },
     "execution_count": 11,
     "metadata": {},
     "output_type": "execute_result"
    }
   ],
   "source": [
    "a"
   ]
  },
  {
   "cell_type": "code",
   "execution_count": 6,
   "metadata": {},
   "outputs": [
    {
     "data": {
      "text/plain": [
       "4"
      ]
     },
     "execution_count": 6,
     "metadata": {},
     "output_type": "execute_result"
    }
   ],
   "source": [
    "b2"
   ]
  },
  {
   "cell_type": "code",
   "execution_count": null,
   "metadata": {},
   "outputs": [],
   "source": []
  }
 ],
 "metadata": {
  "kernelspec": {
   "display_name": "Python 3",
   "language": "python",
   "name": "python3"
  },
  "language_info": {
   "codemirror_mode": {
    "name": "ipython",
    "version": 3
   },
   "file_extension": ".py",
   "mimetype": "text/x-python",
   "name": "python",
   "nbconvert_exporter": "python",
   "pygments_lexer": "ipython3",
   "version": "3.6.6"
  }
 },
 "nbformat": 4,
 "nbformat_minor": 2
}
