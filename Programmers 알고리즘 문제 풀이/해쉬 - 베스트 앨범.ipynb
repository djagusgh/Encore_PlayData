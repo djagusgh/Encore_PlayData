{
 "cells": [
  {
   "cell_type": "code",
   "execution_count": 7,
   "metadata": {},
   "outputs": [],
   "source": [
    "def solution(genres, plays):\n",
    "    answer = []\n",
    "    \n",
    "    ## 1단계 : 장르 key, 시간의 합 value인 genres_plays_dict 생성\n",
    "    genres_plays_dict = {}\n",
    "    genre_names = list(set(genres)) # 장르 이름의 중복을 제거한 list\n",
    "    genre_names.sort()\n",
    "\n",
    "    sum_plays_byGenre = [0 for i in range(len(genre_names))] # 장르별 시간합을 담은 list 초기화\n",
    "        \n",
    "    #sum_plays_byGenre 에 값 넣는 for문\n",
    "    for i in range(len(genre_names)):\n",
    "        sum = 0\n",
    "        for j in range(len(genres)):\n",
    "            if genre_names[i] == genres[j]:\n",
    "                    sum += plays[j]\n",
    "        sum_plays_byGenre[i] = sum\n",
    "\n",
    "    # dict에 최종적으로 값 넣는 for문\n",
    "    for i in range(len(genre_names)):\n",
    "        genres_plays_dict[genre_names[i]] = sum_plays_byGenre[i]\n",
    "\n",
    "    print(\"sum_plays_byGenre = {}\".format(sum_plays_byGenre))\n",
    "    print(\"genres_plays_dict = {}\".format(genres_plays_dict))    \n",
    "        \n",
    "    ## 2단계 -> useful : [[장르 1 : 재생횟수 합], [장르2 : 재생횟수 합], ...] 인 이중 리스트 만들기!(재생횟수 합의 내림차순으로 정렬)\n",
    "\n",
    "    genre_playSum = [[a, b] for a, b in genres_plays_dict.items()]\n",
    "    useful = sorted(genre_playSum, key = lambda x: x[1], reverse = True)\n",
    "    \n",
    "    ## 3단계 -> sorted_arrays : [['장르1', 재생횟수], ['장르1', 재생횟수], ['장르2', 재생횟수], ...] 이중 리스트 만들기\n",
    "    \n",
    "    combine_genre_playTime = []\n",
    "    for i in range(len(genres)):\n",
    "        line = []\n",
    "        line.append(genres[i])\n",
    "        line.append(plays[i]) \n",
    "        combine_genre_playTime.append(line)\n",
    "    \n",
    "    # useful, combine_genre_playTime 사용\n",
    "    sorted_arrays = []\n",
    "\n",
    "    print(\"sorted_arrays = {}\".format(sorted_arrays))  \n",
    "    \n",
    "    for i in range(len(useful)):\n",
    "        for a in combine_genre_playTime:\n",
    "            if a[0] == useful[i][0]:\n",
    "                sorted_arrays.append(a)\n",
    "                \n",
    "    ## 4단계 -> finals \n",
    "    genres = []\n",
    "    for a in useful:\n",
    "        genres.append(a[0])\n",
    "    genres\n",
    "    \n",
    "    arr2 = []\n",
    "    finals = []\n",
    "\n",
    "    for genre in genres:\n",
    "        temp = []\n",
    "        for i in range(len(sorted_arrays)):\n",
    "            if sorted_arrays[i][0] == genre:\n",
    "                temp.append(sorted_arrays[i])\n",
    "        arr2.append(temp)\n",
    "\n",
    "    for component in arr2:\n",
    "        component = sorted(component, key = lambda x : x[1], reverse = True)\n",
    "        component = component[:2] # list slicing -> 두번째로 재생많이 된 것까지만 넣으면 됨!\n",
    "        for each in component:\n",
    "            finals.append(each)\n",
    "\n",
    "    print(\"finals = {}\".format(finals))\n",
    "    \n",
    "    # list 내에 중복값이 존재하는 경우 index함수는 앞 값의 index만을 받아오게 됨  \n",
    "    \n",
    "    for each in finals:\n",
    "        for play in plays:\n",
    "            if each[1] == play and plays.index(play) not in answer:\n",
    "                answer.append(plays.index(play))\n",
    "                break\n",
    "            elif each[1] == play and plays.index(play) in answer:\n",
    "                front = plays[:plays.index(play) + 1]\n",
    "                back = plays[plays.index(play) + 1:]\n",
    "                answer.append(len(front) + back.index(play))\n",
    "                break    \n",
    "    \n",
    "    return answer"
   ]
  },
  {
   "cell_type": "code",
   "execution_count": 8,
   "metadata": {},
   "outputs": [],
   "source": [
    "music_genre = [\"classic\",\"pop\",\"classic\",\"pop\",\"classic\",\"classic\"]\n",
    "music_play_time = [400,600,150,2500,500,500]"
   ]
  },
  {
   "cell_type": "code",
   "execution_count": 9,
   "metadata": {},
   "outputs": [
    {
     "name": "stdout",
     "output_type": "stream",
     "text": [
      "sum_plays_byGenre = [1550, 3100]\n",
      "genres_plays_dict = {'classic': 1550, 'pop': 3100}\n",
      "sorted_arrays = []\n",
      "finals = [['pop', 2500], ['pop', 600], ['classic', 500], ['classic', 500]]\n"
     ]
    },
    {
     "data": {
      "text/plain": [
       "[3, 1, 4, 5]"
      ]
     },
     "execution_count": 9,
     "metadata": {},
     "output_type": "execute_result"
    }
   ],
   "source": [
    "solution(music_genre, music_play_time)"
   ]
  },
  {
   "cell_type": "code",
   "execution_count": null,
   "metadata": {},
   "outputs": [],
   "source": []
  }
 ],
 "metadata": {
  "kernelspec": {
   "display_name": "Python 3",
   "language": "python",
   "name": "python3"
  },
  "language_info": {
   "codemirror_mode": {
    "name": "ipython",
    "version": 3
   },
   "file_extension": ".py",
   "mimetype": "text/x-python",
   "name": "python",
   "nbconvert_exporter": "python",
   "pygments_lexer": "ipython3",
   "version": "3.7.0"
  }
 },
 "nbformat": 4,
 "nbformat_minor": 2
}
