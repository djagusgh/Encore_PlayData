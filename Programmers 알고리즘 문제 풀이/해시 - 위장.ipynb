{
 "cells": [
  {
   "cell_type": "code",
   "execution_count": 126,
   "metadata": {},
   "outputs": [],
   "source": [
    "# 가능한 모든 조합의 수를 구하는 알고리즘 -> 비효율적\n",
    "\n",
    "from itertools import combinations\n",
    "from functools import reduce\n",
    "\n",
    "def solution_bad(clothes):\n",
    "    \n",
    "    answer = 0\n",
    "    \n",
    "    parts = [i[1] for i in clothes]\n",
    "    clothes_dict = {}\n",
    "    for part in parts:\n",
    "        clothes_dict[part] = [cloth[0] for cloth in clothes if cloth[1] == part]\n",
    "    num_keys = len(clothes_dict.keys())\n",
    "    values_num = [len(i) for i in clothes_dict.values()]\n",
    "    \n",
    "    for i in range(1, len(values_num) + 1):\n",
    "        comb = combinations(values_num, i)\n",
    "        for each in comb:\n",
    "            answer += reduce((lambda x, y: x* y), each)\n",
    "    return answer"
   ]
  },
  {
   "cell_type": "code",
   "execution_count": null,
   "metadata": {},
   "outputs": [],
   "source": []
  },
  {
   "cell_type": "code",
   "execution_count": 134,
   "metadata": {},
   "outputs": [],
   "source": [
    "# 모든 조합의 경우를 볼 필요가 없음\n",
    "# ex) [1,3,2] -> (1+1)*(3+1)*(2+1) -1 \n",
    "# ==> 1을 더한 것은 입지 않는 경우를 포함 , 마지막에 1을 뺀 것은 아무것도 입지 않은 경우를 뺀 것!\n",
    "# \n",
    "def solution(clothes):  \n",
    "    answer = 1\n",
    "    \n",
    "    parts = [i[1] for i in clothes]\n",
    "    clothes_dict = {}\n",
    "    for part in parts:\n",
    "        clothes_dict[part] = [cloth[0] for cloth in clothes if cloth[1] == part]\n",
    "    num_keys = len(clothes_dict.keys())\n",
    "    values_num = [len(i) for i in clothes_dict.values()]\n",
    "    \n",
    "    for value in values_num:\n",
    "        answer *= (value + 1)\n",
    "    answer -= 1\n",
    "    \n",
    "    return answer"
   ]
  },
  {
   "cell_type": "code",
   "execution_count": 135,
   "metadata": {},
   "outputs": [
    {
     "data": {
      "text/plain": [
       "23"
      ]
     },
     "execution_count": 135,
     "metadata": {},
     "output_type": "execute_result"
    }
   ],
   "source": [
    "solution([['yellow_hat', 'headgear'], ['blue_sunglasses', 'eyewear'], ['green_turban', 'headgear'], ['aaa', 'headgear'],\n",
    "         ['crow_mask', 'face'], ['smoky', 'face'] ])"
   ]
  },
  {
   "cell_type": "code",
   "execution_count": 136,
   "metadata": {},
   "outputs": [
    {
     "data": {
      "text/plain": [
       "5"
      ]
     },
     "execution_count": 136,
     "metadata": {},
     "output_type": "execute_result"
    }
   ],
   "source": [
    "solution([['yellow_hat', 'headgear'], ['blue_sunglasses', 'eyewear'], ['green_turban', 'headgear']])"
   ]
  },
  {
   "cell_type": "code",
   "execution_count": 137,
   "metadata": {},
   "outputs": [
    {
     "data": {
      "text/plain": [
       "3"
      ]
     },
     "execution_count": 137,
     "metadata": {},
     "output_type": "execute_result"
    }
   ],
   "source": [
    "solution([['crow_mask', 'face'], ['blue_sunglasses', 'face'], ['smoky_makeup', 'face']])"
   ]
  },
  {
   "cell_type": "code",
   "execution_count": 138,
   "metadata": {},
   "outputs": [],
   "source": [
    "# 다른 사람 풀이 -> 지렸다리\n",
    "from collections import Counter\n",
    "from functools import reduce\n",
    "\n",
    "def solution(clothes):\n",
    "    cloth_counter = Counter([ctype for _, ctype in clothes]) # <str, int>\n",
    "    print('    counter)\n",
    "    return reduce(lambda a, b: a + b + a * b, cloth_counter.values())"
   ]
  },
  {
   "cell_type": "code",
   "execution_count": null,
   "metadata": {},
   "outputs": [],
   "source": [
    "\n",
    "\n",
    "\n"
   ]
  }
 ],
 "metadata": {
  "kernelspec": {
   "display_name": "Python 3",
   "language": "python",
   "name": "python3"
  },
  "language_info": {
   "codemirror_mode": {
    "name": "ipython",
    "version": 3
   },
   "file_extension": ".py",
   "mimetype": "text/x-python",
   "name": "python",
   "nbconvert_exporter": "python",
   "pygments_lexer": "ipython3",
   "version": "3.6.7"
  }
 },
 "nbformat": 4,
 "nbformat_minor": 2
}
